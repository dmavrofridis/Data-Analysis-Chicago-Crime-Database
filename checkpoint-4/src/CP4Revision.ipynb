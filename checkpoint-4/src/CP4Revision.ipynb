{
  "nbformat": 4,
  "nbformat_minor": 0,
  "metadata": {
    "colab": {
      "name": "CP4Revision.ipynb",
      "provenance": [],
      "collapsed_sections": [
        "i1rSPkEaS_rL"
      ]
    },
    "kernelspec": {
      "display_name": "Python 3",
      "name": "python3"
    },
    "language_info": {
      "name": "python"
    },
    "accelerator": "GPU"
  },
  "cells": [
    {
      "cell_type": "markdown",
      "metadata": {
        "id": "i1rSPkEaS_rL"
      },
      "source": [
        "#CHECKPOINT 4"
      ]
    },
    {
      "cell_type": "markdown",
      "metadata": {
        "id": "UHMwakkymZfI"
      },
      "source": [
        "# **Spark and GraphFrames Set Up**\n"
      ]
    },
    {
      "cell_type": "code",
      "metadata": {
        "id": "8q9GaenM0qTu",
        "colab": {
          "base_uri": "https://localhost:8080/"
        },
        "outputId": "00110866-0146-425f-fedc-c88ad815c648"
      },
      "source": [
        "# install java\n",
        "!apt-get install openjdk-8-jdk-headless -qq > /dev/null\n",
        "\n",
        "# install spark (change the version number if needed)\n",
        "!wget -q https://archive.apache.org/dist/spark/spark-3.2.0/spark-3.2.0-bin-hadoop3.2.tgz\n",
        "\n",
        "# unzip the spark file to the current folder\n",
        "!tar xf spark-3.2.0-bin-hadoop3.2.tgz\n",
        "\n",
        "# set your spark folder to your system path environment. \n",
        "import os\n",
        "os.environ[\"JAVA_HOME\"] = \"/usr/lib/jvm/java-8-openjdk-amd64\"\n",
        "os.environ[\"SPARK_HOME\"] = \"/content/spark-3.2.0-bin-hadoop3.2\"\n",
        "\n",
        "# install findspark using pip\n",
        "!pip install -q findspark\n",
        "\n",
        "# install pyspark\n",
        "!pip3 install pyspark==3.2.0\n",
        "\n",
        "# install graphframes\n",
        "!pip3 install graphframes"
      ],
      "execution_count": 1,
      "outputs": [
        {
          "output_type": "stream",
          "name": "stdout",
          "text": [
            "Requirement already satisfied: pyspark==3.2.0 in /usr/local/lib/python3.7/dist-packages (3.2.0)\n",
            "Requirement already satisfied: py4j==0.10.9.2 in /usr/local/lib/python3.7/dist-packages (from pyspark==3.2.0) (0.10.9.2)\n",
            "Requirement already satisfied: graphframes in /usr/local/lib/python3.7/dist-packages (0.6)\n",
            "Requirement already satisfied: nose in /usr/local/lib/python3.7/dist-packages (from graphframes) (1.3.7)\n",
            "Requirement already satisfied: numpy in /usr/local/lib/python3.7/dist-packages (from graphframes) (1.19.5)\n"
          ]
        }
      ]
    },
    {
      "cell_type": "markdown",
      "metadata": {
        "id": "Li40SzYtq0H6"
      },
      "source": [
        "Download the graphframes jar file from: [Graphframe jar file:](https://repos.spark-packages.org/graphframes/graphframes/0.8.2-spark3.2-s_2.12/graphframes-0.8.2-spark3.2-s_2.12.jar)\n",
        "\n",
        "Upload it in the Google Colab Files folder. Can be found in the left pane of this window."
      ]
    },
    {
      "cell_type": "code",
      "metadata": {
        "colab": {
          "base_uri": "https://localhost:8080/"
        },
        "id": "6MVIEKxAHykk",
        "outputId": "756b7b71-e462-456a-efd0-3f40638edc7b"
      },
      "source": [
        "!cp -v /content/graphframes-0.8.2-spark3.2-s_2.12.jar $SPARK_HOME/jars/"
      ],
      "execution_count": 2,
      "outputs": [
        {
          "output_type": "stream",
          "name": "stdout",
          "text": [
            "'/content/graphframes-0.8.2-spark3.2-s_2.12.jar' -> '/content/spark-3.2.0-bin-hadoop3.2/jars/graphframes-0.8.2-spark3.2-s_2.12.jar'\n"
          ]
        }
      ]
    },
    {
      "cell_type": "markdown",
      "metadata": {
        "id": "Ahf8YbI7yey0"
      },
      "source": [
        "# **Imports**"
      ]
    },
    {
      "cell_type": "code",
      "metadata": {
        "id": "vMzCLSn81Grr",
        "colab": {
          "base_uri": "https://localhost:8080/"
        },
        "outputId": "41a1d91d-443b-40d8-954f-97de98401556"
      },
      "source": [
        "#import the packages\n",
        "from pyspark import *\n",
        "from pyspark.sql import *\n",
        "from graphframes import *\n",
        "import findspark\n",
        "import pandas as pd\n",
        "import matplotlib.pyplot as plt\n",
        "import psycopg2\n",
        "\n",
        "findspark.init()\n",
        "\n",
        "# Start a Spark session\n",
        "spark = SparkSession.builder.master(\"local[*]\").getOrCreate()"
      ],
      "execution_count": 3,
      "outputs": [
        {
          "output_type": "stream",
          "name": "stderr",
          "text": [
            "/usr/local/lib/python3.7/dist-packages/psycopg2/__init__.py:144: UserWarning: The psycopg2 wheel package will be renamed from release 2.8; in order to keep installing from binary please use \"pip install psycopg2-binary\" instead. For details see: <http://initd.org/psycopg/docs/install.html#binary-install-from-pypi>.\n",
            "  \"\"\")\n"
          ]
        }
      ]
    },
    {
      "cell_type": "code",
      "metadata": {
        "id": "L4YGowB2Occ7"
      },
      "source": [
        "# access the postgresql server\n",
        "conn = psycopg2.connect(\n",
        "    host=\"codd04.research.northwestern.edu\",\n",
        "    port = \"5433\",\n",
        "    database=\"postgres\",\n",
        "    user=\"cpdbstudent\",\n",
        "    password=\"DataSci4AI\")"
      ],
      "execution_count": 4,
      "outputs": []
    },
    {
      "cell_type": "code",
      "metadata": {
        "id": "fUSZMYh5Ohg7"
      },
      "source": [
        "cursor = conn.cursor()"
      ],
      "execution_count": 5,
      "outputs": []
    },
    {
      "cell_type": "markdown",
      "metadata": {
        "id": "TG5TL3rN9EOC"
      },
      "source": [
        "# **Query Function**"
      ]
    },
    {
      "cell_type": "code",
      "metadata": {
        "id": "A23eRucj9L6_"
      },
      "source": [
        "def query_to_string(file_name):\n",
        "    # Open and read the file as a single buffer\n",
        "    fd = open(file_name, 'r')\n",
        "    sqlFile = fd.read()\n",
        "    fd.close()\n",
        "    return sqlFile"
      ],
      "execution_count": 6,
      "outputs": []
    },
    {
      "cell_type": "code",
      "metadata": {
        "id": "2zg48zFfZ8Re"
      },
      "source": [
        "cursor.execute(\"rollback\")"
      ],
      "execution_count": 7,
      "outputs": []
    },
    {
      "cell_type": "markdown",
      "metadata": {
        "id": "M9qnNp3_9QIX"
      },
      "source": [
        "#Partners Graph"
      ]
    },
    {
      "cell_type": "code",
      "metadata": {
        "id": "YNGzyVTlP6Zj"
      },
      "source": [
        "cursor.execute(query_to_string(\"action_response_vertices_query.sql\"), \n",
        "               {'action_response' : 5})\n",
        "vertices = cursor.fetchall()\n",
        "\n",
        "\n",
        "df_vertices_ar = pd.DataFrame(vertices)\n",
        "colnames = [desc[0] for desc in cursor.description]\n",
        "df_vertices_ar.columns = colnames\n",
        "\n",
        "df_vertices_ar.drop_duplicates(['id'], keep='first', inplace=True)\n"
      ],
      "execution_count": 8,
      "outputs": []
    },
    {
      "cell_type": "code",
      "metadata": {
        "colab": {
          "base_uri": "https://localhost:8080/"
        },
        "id": "HAAAAxavOl7g",
        "outputId": "85305d78-3b07-43be-f934-f433ae245fb7"
      },
      "source": [
        "cursor.execute(query_to_string(\"action_response_edges_query.sql\"), {'action_response' : 5})\n",
        "edges = cursor.fetchall()\n",
        "\n",
        "df_edges_ar = pd.DataFrame(edges)\n",
        "colnames = [desc[0] for desc in cursor.description]\n",
        "df_edges_ar.columns = colnames\n",
        "\n",
        "print(df_edges_ar.shape)\n"
      ],
      "execution_count": 9,
      "outputs": [
        {
          "output_type": "stream",
          "name": "stdout",
          "text": [
            "(29964, 3)\n"
          ]
        }
      ]
    },
    {
      "cell_type": "code",
      "metadata": {
        "id": "fZNnghoU9PyS"
      },
      "source": [
        "cursor.execute(\"SELECT officer_id_a as src, officer_id_b as dst FROM partners\")\n",
        "edges = cursor.fetchall()\n",
        "\n",
        "df_edges_partners = pd.DataFrame(edges)\n",
        "colnames = [desc[0] for desc in cursor.description]\n",
        "df_edges_partners.columns = colnames\n"
      ],
      "execution_count": 10,
      "outputs": []
    },
    {
      "cell_type": "code",
      "metadata": {
        "id": "W11v2w5B9sq8"
      },
      "source": [
        "cursor.execute(\"SELECT id, first_name, last_name, race, gender, trr_percentile FROM data_officer\")\n",
        "vertices = cursor.fetchall()\n",
        "df_vertices_partners = pd.DataFrame(vertices)\n",
        "colnames = [desc[0] for desc in cursor.description]\n",
        "df_vertices_partners.columns = colnames\n",
        "\n",
        "# df_vertices_partners = df_vertices_partners.sample(1000)\n"
      ],
      "execution_count": 11,
      "outputs": []
    },
    {
      "cell_type": "code",
      "metadata": {
        "colab": {
          "base_uri": "https://localhost:8080/"
        },
        "id": "OeJ54DtFhbUl",
        "outputId": "8147c0c0-2592-4873-c5ff-5c50f350ee39"
      },
      "source": [
        "df_vertices_partners.shape"
      ],
      "execution_count": 12,
      "outputs": [
        {
          "output_type": "execute_result",
          "data": {
            "text/plain": [
              "(35545, 6)"
            ]
          },
          "metadata": {},
          "execution_count": 12
        }
      ]
    },
    {
      "cell_type": "code",
      "metadata": {
        "id": "mWSIkvWi-Fsr"
      },
      "source": [
        "spark_edges_p = spark.createDataFrame(df_edges_partners)\n",
        "spark_vertices_p = spark.createDataFrame(df_vertices_partners)\n",
        "# spark_vertices_p = spark_vertices_p.takeSample(False, 1000)\n",
        "graph_partners = GraphFrame(spark_vertices_p, spark_edges_p)\n",
        "graph_partners = graph_partners.dropIsolatedVertices()\n"
      ],
      "execution_count": 13,
      "outputs": []
    },
    {
      "cell_type": "code",
      "metadata": {
        "colab": {
          "base_uri": "https://localhost:8080/"
        },
        "id": "r1gsgudDi0gx",
        "outputId": "53142479-a265-4ac4-fc0e-1cc7595af590"
      },
      "source": [
        "spark_vertices_p.show()"
      ],
      "execution_count": 14,
      "outputs": [
        {
          "output_type": "stream",
          "name": "stdout",
          "text": [
            "+-----+----------+---------+-----+------+--------------------+\n",
            "|   id|first_name|last_name| race|gender|      trr_percentile|\n",
            "+-----+----------+---------+-----+------+--------------------+\n",
            "|32312|   Randall|     Ryan|White|     M|63.00350000000000...|\n",
            "|32358|     Kevin|    Stoll|White|     M|67.91100000000000...|\n",
            "|32480|     David|    Lavin|White|     M|               0E-18|\n",
            "|32491|     Kevin|     Rake|White|     M|               0E-18|\n",
            "| 2680|   Richard|   Brandt|White|     M|                null|\n",
            "|29553|      Hugh|Versteegh|White|     M|                null|\n",
            "|19974|    Andrew|   Murcia|White|     M|                null|\n",
            "| 8259|      Hugh|   Farmer|White|     M|                null|\n",
            "|17716|   Anthony|  Matassa|White|     M|                null|\n",
            "|19659|      John| Moriarty|White|     M|                null|\n",
            "|32506|   Richard|  Francis|White|     M|               0E-18|\n",
            "|29111|    Robert|    Tyson|Black|     M|                null|\n",
            "| 1791|      Chas| Bennette|Black|     M|                null|\n",
            "|17146|    Robert|   Malone|White|     M|                null|\n",
            "|17242|     Jerry|  Manning|White|     M|                null|\n",
            "|17289|   Michael|  Maratto|White|     M|                null|\n",
            "|32467|  Jonathan|     Boyd|Black|     M|               0E-18|\n",
            "|33755|   Phyllis|  Butcher|Black|     F|                null|\n",
            "|  333|     Leroy|Alexander|Black|     M|                null|\n",
            "|18597|     James|  Mcglynn|White|     M|                null|\n",
            "+-----+----------+---------+-----+------+--------------------+\n",
            "only showing top 20 rows\n",
            "\n"
          ]
        }
      ]
    },
    {
      "cell_type": "code",
      "metadata": {
        "colab": {
          "base_uri": "https://localhost:8080/"
        },
        "id": "lWxmZwlHmXV6",
        "outputId": "78fcbd3f-fcfe-458a-cd6b-fbe6c9367801"
      },
      "source": [
        "partner_pr = graph_partners.pageRank(tol=0.01)\n",
        "partner_pr.vertices.sort(['pagerank'], ascending=False).show()"
      ],
      "execution_count": 15,
      "outputs": [
        {
          "output_type": "stream",
          "name": "stdout",
          "text": [
            "+-----+----------+----------+--------+------+--------------------+------------------+\n",
            "|   id|first_name| last_name|    race|gender|      trr_percentile|          pagerank|\n",
            "+-----+----------+----------+--------+------+--------------------+------------------+\n",
            "|35493|    Andres|   Naranjo|Hispanic|     M|                null|6.3520486820168465|\n",
            "|35488|  Angelina|     Cahue|Hispanic|     F|                null|6.3520486820168465|\n",
            "|35474|    George|   Freeman|   Black|     M|                null|2.9286286668165373|\n",
            "| 8516|      Gary|   Fillipo|   White|     M|               0E-18|2.7685288388728924|\n",
            "|25864|   Matthew|     Scott|   White|     M|75.20710000000000...| 2.527241533998547|\n",
            "|25521|     David|   Scafidi|   White|     M|78.27070000000000...|  2.50943978369884|\n",
            "|15105|    Dennis|  Kounavis|   White|     M|49.10360000000000...| 2.495062723974873|\n",
            "|28763|     Louis|    Torres|Hispanic|     M|93.47550000000000...|2.4587936178989325|\n",
            "|31158|         J|   Wombles|   White|     M|38.90280000000000...|2.4496089844521074|\n",
            "|13862|   Matthew|    Joritz|   White|     M|89.11830000000000...| 2.363767234567469|\n",
            "|13234|  Jonathan|     Janas|   White|     M|99.13200000000000...| 2.352400061948292|\n",
            "|27913|    Pamela|    Sutton|   Black|     F|               0E-18|2.3349931618333137|\n",
            "|12079|   Horacio|   Herrera|Hispanic|     M|81.09610000000000...|2.3284876698339105|\n",
            "|17696|      John|Mastandrea|   White|     M|               0E-18|2.3205818392183137|\n",
            "|10879|    Lorrie|  Grossman|   White|     F|               0E-18|2.3046707229161623|\n",
            "|20734|     Mayda|     Nunez|Hispanic|     F|66.48130000000000...|2.2216935129264774|\n",
            "|15943|      Eric|       Lee|   Black|     M|49.10360000000000...|2.2216935129264774|\n",
            "|23389|     Ruben|   Ramirez|Hispanic|     M|38.90280000000000...| 2.221693512926477|\n",
            "|22911|    Niyell|    Powell|   Black|     M|78.27070000000000...| 2.221693512926477|\n",
            "|24464|     Jaime| Rodriguez|Hispanic|     M|63.00350000000000...|2.1427331220215775|\n",
            "+-----+----------+----------+--------+------+--------------------+------------------+\n",
            "only showing top 20 rows\n",
            "\n"
          ]
        }
      ]
    },
    {
      "cell_type": "code",
      "metadata": {
        "colab": {
          "base_uri": "https://localhost:8080/",
          "height": 1000
        },
        "id": "Xv26TxKVZyRv",
        "outputId": "6a73f9bc-fd5d-417c-b5b8-f73e431dcb36"
      },
      "source": [
        "partner_tc = graph_partners.triangleCount()\n",
        "partner_tc.sort([\"count\"], ascending=False).select(\"first_name\", \"last_name\",\"race\", \"gender\", \"id\", \"trr_percentile\", \"count\").show(30)\n",
        "bins, counts = partner_tc.select('count').rdd.flatMap(lambda x: x).histogram(30)\n",
        "plt.hist(bins[:-1], bins=bins, weights=counts)\n"
      ],
      "execution_count": 16,
      "outputs": [
        {
          "output_type": "stream",
          "name": "stdout",
          "text": [
            "+----------+---------+--------+------+-----+--------------------+-----+\n",
            "|first_name|last_name|    race|gender|   id|      trr_percentile|count|\n",
            "+----------+---------+--------+------+-----+--------------------+-----+\n",
            "|  Angelina|    Cahue|Hispanic|     F|35488|                null|   71|\n",
            "|    Andres|  Naranjo|Hispanic|     M|35493|                null|   71|\n",
            "|    George|  Freeman|   Black|     M|35474|                null|   49|\n",
            "|   Pauline|    Heard|   Black|     F|11823|38.90280000000000...|   18|\n",
            "|    Dennis| Kounavis|   White|     M|15105|49.10360000000000...|   18|\n",
            "|         J|  Wombles|   White|     M|31158|38.90280000000000...|   18|\n",
            "|    Pamela|    Smith|   Black|     F|26881|               0E-18|   16|\n",
            "| Alexander|    Verta|   White|     M|35500|                null|   16|\n",
            "|     Debra|   Howard|   Black|     F|12634|49.10360000000000...|   15|\n",
            "|  Camillea|    Towns|   Black|     F|35545|                null|   15|\n",
            "| Alexander| Strockis|   White|     M|35446|                null|   15|\n",
            "|     Andre|  Balseca|Hispanic|     M|35462|                null|   15|\n",
            "|     Baker|Alfarajat|   White|     M|35423|                null|   15|\n",
            "|   Brandon|   Wilson|   Black|     M|35534|                null|   15|\n",
            "|   Gustavo|   Segura|Hispanic|     M|35516|                null|   15|\n",
            "|     Jesse|  Vazquez|Hispanic|     M|35431|                null|   15|\n",
            "|    Gisela| Santiago|Hispanic|     F|25412|               0E-18|   14|\n",
            "|   Belinda|    Moyer|   White|     F|19811|               0E-18|   14|\n",
            "|      Jose| Chambers|   Black|     M| 4387|49.10360000000000...|   14|\n",
            "|    Steven|Bacoyanis|   White|     M| 1044|38.90280000000000...|   13|\n",
            "|   Cynthia|   Tornes|   Black|     F|28728|               0E-18|   12|\n",
            "|     Carol|   Davros|   White|     F| 6396|               0E-18|   11|\n",
            "|   Michael|   Rucker|   Black|     M|24856|49.10360000000000...|   11|\n",
            "|   Beverly|  Glinsey|   Black|     F|10097|49.10360000000000...|   11|\n",
            "| Cornelius|     Knox|   Black|     M|14882|38.90280000000000...|   11|\n",
            "|   Latrice|   Austin|   Black|     F|  969|38.90280000000000...|   11|\n",
            "|      Jill|  Johnson|   Black|     F|13634|               0E-18|   11|\n",
            "|    Ronald|  Burrell|   Black|     M| 3431|               0E-18|   11|\n",
            "|     Carla|  Watkins|   Black|     F|30168|61.53410000000000...|   10|\n",
            "|   Ciprian|     Iuga|   White|     M|35507|                null|   10|\n",
            "+----------+---------+--------+------+-----+--------------------+-----+\n",
            "only showing top 30 rows\n",
            "\n"
          ]
        },
        {
          "output_type": "execute_result",
          "data": {
            "text/plain": [
              "(array([5.936e+03, 6.900e+01, 4.000e+01, 1.400e+01, 2.800e+01, 5.000e+00,\n",
              "        1.000e+01, 3.000e+00, 0.000e+00, 0.000e+00, 0.000e+00, 0.000e+00,\n",
              "        0.000e+00, 0.000e+00, 0.000e+00, 0.000e+00, 0.000e+00, 0.000e+00,\n",
              "        0.000e+00, 0.000e+00, 1.000e+00, 0.000e+00, 0.000e+00, 0.000e+00,\n",
              "        0.000e+00, 0.000e+00, 0.000e+00, 0.000e+00, 0.000e+00, 2.000e+00]),\n",
              " array([ 0.        ,  2.36666667,  4.73333333,  7.1       ,  9.46666667,\n",
              "        11.83333333, 14.2       , 16.56666667, 18.93333333, 21.3       ,\n",
              "        23.66666667, 26.03333333, 28.4       , 30.76666667, 33.13333333,\n",
              "        35.5       , 37.86666667, 40.23333333, 42.6       , 44.96666667,\n",
              "        47.33333333, 49.7       , 52.06666667, 54.43333333, 56.8       ,\n",
              "        59.16666667, 61.53333333, 63.9       , 66.26666667, 68.63333333,\n",
              "        71.        ]),\n",
              " <a list of 30 Patch objects>)"
            ]
          },
          "metadata": {},
          "execution_count": 16
        },
        {
          "output_type": "display_data",
          "data": {
            "image/png": "[encoded data removed]",
            "text/plain": [
              "<Figure size 432x288 with 1 Axes>"
            ]
          },
          "metadata": {
            "needs_background": "light"
          }
        }
      ]
    },
    {
      "cell_type": "markdown",
      "metadata": {
        "id": "THJg6aroSF7J"
      },
      "source": [
        "###Action Response Graph Generation"
      ]
    },
    {
      "cell_type": "code",
      "metadata": {
        "id": "hmCCunN_SGa6"
      },
      "source": [
        "spark_edges_ar = spark.createDataFrame(df_edges_ar)\n",
        "spark_vertices_ar = spark.createDataFrame(df_vertices_ar)"
      ],
      "execution_count": 17,
      "outputs": []
    },
    {
      "cell_type": "code",
      "metadata": {
        "id": "Rq9qsOh0TL7q"
      },
      "source": [
        "graph_trr_ar = GraphFrame(spark_vertices_ar, spark_edges_ar)"
      ],
      "execution_count": 18,
      "outputs": []
    },
    {
      "cell_type": "code",
      "metadata": {
        "colab": {
          "base_uri": "https://localhost:8080/"
        },
        "id": "csdBNkC8aQlo",
        "outputId": "6fa65a1a-2cb6-4101-93fe-f41313e0e67e"
      },
      "source": [
        "trr_ar_pr = graph_trr_ar.pageRank(tol=0.01)\n",
        "trr_ar_pr.vertices.sort(['pagerank'], ascending=False).show()"
      ],
      "execution_count": 19,
      "outputs": [
        {
          "output_type": "stream",
          "name": "stdout",
          "text": [
            "+----------+--------------+-----------+------+--------------------+---------+--------------------+-----+------------------+\n",
            "|first_name|middle_initial|  last_name|gender|                race|trr_count|      trr_percentile|   id|          pagerank|\n",
            "+----------+--------------+-----------+------+--------------------+---------+--------------------+-----+------------------+\n",
            "|    Angelo|          null|    Mandile|     M|               White|       19|97.07820000000000...|17189| 7.089616680769733|\n",
            "|     Chris|          null|Skarupinski|     M|               White|       26|98.97880000000000...|26540| 6.507207502428797|\n",
            "|    George|             A|    Granias|     M|Native American/A...|       72|99.96030000000000...|10583| 5.977979208313248|\n",
            "| Evangelos|          null|    Hitiris|     M|               White|       41|99.21710000000000...|12299| 5.415132634148123|\n",
            "|   Gerardo|          null|       Vega|     M|            Hispanic|       27|98.59870000000000...|29454| 5.174587837329764|\n",
            "|   Phillip|             E|    Orlando|     M|            Hispanic|       41|99.21710000000000...|21371| 4.832863655856424|\n",
            "|  Nicholas|             G|     Harris|     M|               White|       14|93.93510000000000...|11511| 4.812834110599178|\n",
            "|   Vincent|             P| Baldassano|     M|               White|       21|94.87120000000000...|31815| 4.794225052477463|\n",
            "| Christoph|             M|   Saladino|     M|            Hispanic|       26|96.84560000000000...|25155| 4.665364510044972|\n",
            "|    Nellie|          null|       Harb|     F|            Hispanic|       22|95.38180000000000...|11384| 4.610931990747103|\n",
            "|   Zachary|             Q|     Rubald|     M|               White|       48|99.56310000000000...|32307|4.4535365250503105|\n",
            "|      Mark|             A|    Johnson|     M|               Black|       46|99.91490000000000...|13605| 4.450711894020949|\n",
            "|     Marco|             P|     Proano|     M|            Hispanic|       32|99.25110000000000...|23036| 4.390635300660762|\n",
            "|    Samuel|             K|  Truesdale|     M|               White|       51|99.87520000000000...|28968| 4.337850385607935|\n",
            "|    Hardik|             B|     Suthar|     M|       Asian/Pacific|       25|98.24120000000000...|27900| 4.232287052658274|\n",
            "|      John|             R|   Lavorata|     M|               White|       31|98.10510000000000...|15811| 4.224422619117751|\n",
            "|      Paul|             M|     Powers|     M|               White|       30|97.96890000000000...|32271| 4.204964140953795|\n",
            "|     Wayne|             A|     Wiberg|     M|               White|       30|97.83840000000000...|30561| 4.197524445872552|\n",
            "|     James|             B|       Wynn|     M|               White|       19|93.66280000000000...|31337| 4.092033117176646|\n",
            "|    Miguel|             A|       Vera|     M|            Hispanic|       33|99.35890000000000...|29529| 4.040472133647703|\n",
            "+----------+--------------+-----------+------+--------------------+---------+--------------------+-----+------------------+\n",
            "only showing top 20 rows\n",
            "\n"
          ]
        }
      ]
    },
    {
      "cell_type": "code",
      "metadata": {
        "id": "3oyfuvEXnT3E"
      },
      "source": [
        "highest_pr_trrs = trr_ar_pr.vertices.sort(['pagerank'], ascending=False).limit(1000)"
      ],
      "execution_count": 20,
      "outputs": []
    },
    {
      "cell_type": "code",
      "metadata": {
        "id": "z8cAOWuZoe9X"
      },
      "source": [
        "highest_pr_trrs = highest_pr_trrs.toPandas()\n",
        "highest_pr_trrs.columns = [\"first_name\", \"mi\", \"last_name\", \"gender\", \"race\", \"trr_count\", \"trr_percentile\",\"id\", \"page_rank\"]"
      ],
      "execution_count": 21,
      "outputs": []
    },
    {
      "cell_type": "code",
      "metadata": {
        "id": "k3t3zbilprr3"
      },
      "source": [
        "ids = highest_pr_trrs['id']\n",
        "# print(ids)\n",
        "associated_partner_page_rank = []\n",
        "partner_pr_pd = partner_pr.vertices.toPandas()\n",
        "# print(partner_pr_pd)\n",
        "for id in ids:\n",
        "  row = partner_pr_pd.loc[partner_pr_pd[\"id\"] == id]\n",
        "  if not row.empty:\n",
        "    associated_partner_page_rank.append(row['pagerank'].tolist()[0])\n",
        "    # print(row['pagerank'].tolist()[0])\n",
        "  else:\n",
        "    associated_partner_page_rank.append(None)\n",
        "\n",
        "# print(associated_partner_page_rank)\n",
        "highest_pr_trrs['partner_page_rank'] = associated_partner_page_rank\n",
        "# print(highest_pr_trrs)"
      ],
      "execution_count": 22,
      "outputs": []
    },
    {
      "cell_type": "code",
      "metadata": {
        "colab": {
          "base_uri": "https://localhost:8080/",
          "height": 703
        },
        "id": "839sO2V94_Jb",
        "outputId": "c8a8344a-8ae3-4849-9fb2-dd3dc7452b29"
      },
      "source": [
        "highest_pr_trrs.head(20)"
      ],
      "execution_count": 23,
      "outputs": [
        {
          "output_type": "execute_result",
          "data": {
            "text/html": [
              "<div>\n",
              "<style scoped>\n",
              "    .dataframe tbody tr th:only-of-type {\n",
              "        vertical-align: middle;\n",
              "    }\n",
              "\n",
              "    .dataframe tbody tr th {\n",
              "        vertical-align: top;\n",
              "    }\n",
              "\n",
              "    .dataframe thead th {\n",
              "        text-align: right;\n",
              "    }\n",
              "</style>\n",
              "<table border=\"1\" class=\"dataframe\">\n",
              "  <thead>\n",
              "    <tr style=\"text-align: right;\">\n",
              "      <th></th>\n",
              "      <th>first_name</th>\n",
              "      <th>mi</th>\n",
              "      <th>last_name</th>\n",
              "      <th>gender</th>\n",
              "      <th>race</th>\n",
              "      <th>trr_count</th>\n",
              "      <th>trr_percentile</th>\n",
              "      <th>id</th>\n",
              "      <th>page_rank</th>\n",
              "      <th>partner_page_rank</th>\n",
              "    </tr>\n",
              "  </thead>\n",
              "  <tbody>\n",
              "    <tr>\n",
              "      <th>0</th>\n",
              "      <td>Angelo</td>\n",
              "      <td>None</td>\n",
              "      <td>Mandile</td>\n",
              "      <td>M</td>\n",
              "      <td>White</td>\n",
              "      <td>19</td>\n",
              "      <td>97.078200000000000000</td>\n",
              "      <td>17189</td>\n",
              "      <td>7.089617</td>\n",
              "      <td>1.013898</td>\n",
              "    </tr>\n",
              "    <tr>\n",
              "      <th>1</th>\n",
              "      <td>Chris</td>\n",
              "      <td>None</td>\n",
              "      <td>Skarupinski</td>\n",
              "      <td>M</td>\n",
              "      <td>White</td>\n",
              "      <td>26</td>\n",
              "      <td>98.978800000000000000</td>\n",
              "      <td>26540</td>\n",
              "      <td>6.507208</td>\n",
              "      <td>NaN</td>\n",
              "    </tr>\n",
              "    <tr>\n",
              "      <th>2</th>\n",
              "      <td>George</td>\n",
              "      <td>A</td>\n",
              "      <td>Granias</td>\n",
              "      <td>M</td>\n",
              "      <td>Native American/Alaskan Native</td>\n",
              "      <td>72</td>\n",
              "      <td>99.960300000000000000</td>\n",
              "      <td>10583</td>\n",
              "      <td>5.977979</td>\n",
              "      <td>NaN</td>\n",
              "    </tr>\n",
              "    <tr>\n",
              "      <th>3</th>\n",
              "      <td>Evangelos</td>\n",
              "      <td>None</td>\n",
              "      <td>Hitiris</td>\n",
              "      <td>M</td>\n",
              "      <td>White</td>\n",
              "      <td>41</td>\n",
              "      <td>99.217100000000000000</td>\n",
              "      <td>12299</td>\n",
              "      <td>5.415133</td>\n",
              "      <td>NaN</td>\n",
              "    </tr>\n",
              "    <tr>\n",
              "      <th>4</th>\n",
              "      <td>Gerardo</td>\n",
              "      <td>None</td>\n",
              "      <td>Vega</td>\n",
              "      <td>M</td>\n",
              "      <td>Hispanic</td>\n",
              "      <td>27</td>\n",
              "      <td>98.598700000000000000</td>\n",
              "      <td>29454</td>\n",
              "      <td>5.174588</td>\n",
              "      <td>1.566724</td>\n",
              "    </tr>\n",
              "    <tr>\n",
              "      <th>5</th>\n",
              "      <td>Phillip</td>\n",
              "      <td>E</td>\n",
              "      <td>Orlando</td>\n",
              "      <td>M</td>\n",
              "      <td>Hispanic</td>\n",
              "      <td>41</td>\n",
              "      <td>99.217100000000000000</td>\n",
              "      <td>21371</td>\n",
              "      <td>4.832864</td>\n",
              "      <td>NaN</td>\n",
              "    </tr>\n",
              "    <tr>\n",
              "      <th>6</th>\n",
              "      <td>Nicholas</td>\n",
              "      <td>G</td>\n",
              "      <td>Harris</td>\n",
              "      <td>M</td>\n",
              "      <td>White</td>\n",
              "      <td>14</td>\n",
              "      <td>93.935100000000000000</td>\n",
              "      <td>11511</td>\n",
              "      <td>4.812834</td>\n",
              "      <td>NaN</td>\n",
              "    </tr>\n",
              "    <tr>\n",
              "      <th>7</th>\n",
              "      <td>Vincent</td>\n",
              "      <td>P</td>\n",
              "      <td>Baldassano</td>\n",
              "      <td>M</td>\n",
              "      <td>White</td>\n",
              "      <td>21</td>\n",
              "      <td>94.871200000000000000</td>\n",
              "      <td>31815</td>\n",
              "      <td>4.794225</td>\n",
              "      <td>NaN</td>\n",
              "    </tr>\n",
              "    <tr>\n",
              "      <th>8</th>\n",
              "      <td>Christoph</td>\n",
              "      <td>M</td>\n",
              "      <td>Saladino</td>\n",
              "      <td>M</td>\n",
              "      <td>Hispanic</td>\n",
              "      <td>26</td>\n",
              "      <td>96.845600000000000000</td>\n",
              "      <td>25155</td>\n",
              "      <td>4.665365</td>\n",
              "      <td>0.654806</td>\n",
              "    </tr>\n",
              "    <tr>\n",
              "      <th>9</th>\n",
              "      <td>Nellie</td>\n",
              "      <td>None</td>\n",
              "      <td>Harb</td>\n",
              "      <td>F</td>\n",
              "      <td>Hispanic</td>\n",
              "      <td>22</td>\n",
              "      <td>95.381800000000000000</td>\n",
              "      <td>11384</td>\n",
              "      <td>4.610932</td>\n",
              "      <td>NaN</td>\n",
              "    </tr>\n",
              "    <tr>\n",
              "      <th>10</th>\n",
              "      <td>Zachary</td>\n",
              "      <td>Q</td>\n",
              "      <td>Rubald</td>\n",
              "      <td>M</td>\n",
              "      <td>White</td>\n",
              "      <td>48</td>\n",
              "      <td>99.563100000000000000</td>\n",
              "      <td>32307</td>\n",
              "      <td>4.453537</td>\n",
              "      <td>NaN</td>\n",
              "    </tr>\n",
              "    <tr>\n",
              "      <th>11</th>\n",
              "      <td>Mark</td>\n",
              "      <td>A</td>\n",
              "      <td>Johnson</td>\n",
              "      <td>M</td>\n",
              "      <td>Black</td>\n",
              "      <td>46</td>\n",
              "      <td>99.914900000000000000</td>\n",
              "      <td>13605</td>\n",
              "      <td>4.450712</td>\n",
              "      <td>NaN</td>\n",
              "    </tr>\n",
              "    <tr>\n",
              "      <th>12</th>\n",
              "      <td>Marco</td>\n",
              "      <td>P</td>\n",
              "      <td>Proano</td>\n",
              "      <td>M</td>\n",
              "      <td>Hispanic</td>\n",
              "      <td>32</td>\n",
              "      <td>99.251100000000000000</td>\n",
              "      <td>23036</td>\n",
              "      <td>4.390635</td>\n",
              "      <td>NaN</td>\n",
              "    </tr>\n",
              "    <tr>\n",
              "      <th>13</th>\n",
              "      <td>Samuel</td>\n",
              "      <td>K</td>\n",
              "      <td>Truesdale</td>\n",
              "      <td>M</td>\n",
              "      <td>White</td>\n",
              "      <td>51</td>\n",
              "      <td>99.875200000000000000</td>\n",
              "      <td>28968</td>\n",
              "      <td>4.337850</td>\n",
              "      <td>NaN</td>\n",
              "    </tr>\n",
              "    <tr>\n",
              "      <th>14</th>\n",
              "      <td>Hardik</td>\n",
              "      <td>B</td>\n",
              "      <td>Suthar</td>\n",
              "      <td>M</td>\n",
              "      <td>Asian/Pacific</td>\n",
              "      <td>25</td>\n",
              "      <td>98.241200000000000000</td>\n",
              "      <td>27900</td>\n",
              "      <td>4.232287</td>\n",
              "      <td>1.013898</td>\n",
              "    </tr>\n",
              "    <tr>\n",
              "      <th>15</th>\n",
              "      <td>John</td>\n",
              "      <td>R</td>\n",
              "      <td>Lavorata</td>\n",
              "      <td>M</td>\n",
              "      <td>White</td>\n",
              "      <td>31</td>\n",
              "      <td>98.105100000000000000</td>\n",
              "      <td>15811</td>\n",
              "      <td>4.224423</td>\n",
              "      <td>NaN</td>\n",
              "    </tr>\n",
              "    <tr>\n",
              "      <th>16</th>\n",
              "      <td>Paul</td>\n",
              "      <td>M</td>\n",
              "      <td>Powers</td>\n",
              "      <td>M</td>\n",
              "      <td>White</td>\n",
              "      <td>30</td>\n",
              "      <td>97.968900000000000000</td>\n",
              "      <td>32271</td>\n",
              "      <td>4.204964</td>\n",
              "      <td>0.706763</td>\n",
              "    </tr>\n",
              "    <tr>\n",
              "      <th>17</th>\n",
              "      <td>Wayne</td>\n",
              "      <td>A</td>\n",
              "      <td>Wiberg</td>\n",
              "      <td>M</td>\n",
              "      <td>White</td>\n",
              "      <td>30</td>\n",
              "      <td>97.838400000000000000</td>\n",
              "      <td>30561</td>\n",
              "      <td>4.197524</td>\n",
              "      <td>NaN</td>\n",
              "    </tr>\n",
              "    <tr>\n",
              "      <th>18</th>\n",
              "      <td>James</td>\n",
              "      <td>B</td>\n",
              "      <td>Wynn</td>\n",
              "      <td>M</td>\n",
              "      <td>White</td>\n",
              "      <td>19</td>\n",
              "      <td>93.662800000000000000</td>\n",
              "      <td>31337</td>\n",
              "      <td>4.092033</td>\n",
              "      <td>NaN</td>\n",
              "    </tr>\n",
              "    <tr>\n",
              "      <th>19</th>\n",
              "      <td>Miguel</td>\n",
              "      <td>A</td>\n",
              "      <td>Vera</td>\n",
              "      <td>M</td>\n",
              "      <td>Hispanic</td>\n",
              "      <td>33</td>\n",
              "      <td>99.358900000000000000</td>\n",
              "      <td>29529</td>\n",
              "      <td>4.040472</td>\n",
              "      <td>1.292794</td>\n",
              "    </tr>\n",
              "  </tbody>\n",
              "</table>\n",
              "</div>"
            ],
            "text/plain": [
              "   first_name    mi    last_name  ...     id page_rank  partner_page_rank\n",
              "0      Angelo  None      Mandile  ...  17189  7.089617           1.013898\n",
              "1       Chris  None  Skarupinski  ...  26540  6.507208                NaN\n",
              "2      George     A      Granias  ...  10583  5.977979                NaN\n",
              "3   Evangelos  None      Hitiris  ...  12299  5.415133                NaN\n",
              "4     Gerardo  None         Vega  ...  29454  5.174588           1.566724\n",
              "5     Phillip     E      Orlando  ...  21371  4.832864                NaN\n",
              "6    Nicholas     G       Harris  ...  11511  4.812834                NaN\n",
              "7     Vincent     P   Baldassano  ...  31815  4.794225                NaN\n",
              "8   Christoph     M     Saladino  ...  25155  4.665365           0.654806\n",
              "9      Nellie  None         Harb  ...  11384  4.610932                NaN\n",
              "10    Zachary     Q       Rubald  ...  32307  4.453537                NaN\n",
              "11       Mark     A      Johnson  ...  13605  4.450712                NaN\n",
              "12      Marco     P       Proano  ...  23036  4.390635                NaN\n",
              "13     Samuel     K    Truesdale  ...  28968  4.337850                NaN\n",
              "14     Hardik     B       Suthar  ...  27900  4.232287           1.013898\n",
              "15       John     R     Lavorata  ...  15811  4.224423                NaN\n",
              "16       Paul     M       Powers  ...  32271  4.204964           0.706763\n",
              "17      Wayne     A       Wiberg  ...  30561  4.197524                NaN\n",
              "18      James     B         Wynn  ...  31337  4.092033                NaN\n",
              "19     Miguel     A         Vera  ...  29529  4.040472           1.292794\n",
              "\n",
              "[20 rows x 10 columns]"
            ]
          },
          "metadata": {},
          "execution_count": 23
        }
      ]
    },
    {
      "cell_type": "code",
      "metadata": {
        "colab": {
          "base_uri": "https://localhost:8080/",
          "height": 1000
        },
        "id": "kEsBlcPvcX6H",
        "outputId": "ab5381d5-5bbb-4daf-ec56-5b986f9fe030"
      },
      "source": [
        "trr_ar_tc = graph_trr_ar.triangleCount()\n",
        "trr_ar_tc.sort([\"count\"], ascending=False).select(\"first_name\", \"last_name\",\"race\", \"gender\", \"id\", \"trr_percentile\", \"count\").show(30)\n",
        "bins, counts = trr_ar_tc.select('count').rdd.flatMap(lambda x: x).histogram(30)\n",
        "plt.hist(bins[:-1], bins=bins, weights=counts)"
      ],
      "execution_count": 24,
      "outputs": [
        {
          "output_type": "stream",
          "name": "stdout",
          "text": [
            "+----------+----------+--------+------+-----+--------------------+-----+\n",
            "|first_name| last_name|    race|gender|   id|      trr_percentile|count|\n",
            "+----------+----------+--------+------+-----+--------------------+-----+\n",
            "|   Phillip|   Orlando|Hispanic|     M|21371|99.21710000000000...|  157|\n",
            "|     James|      Wynn|   White|     M|31337|93.66280000000000...|  130|\n",
            "|      Ryan|     Harty|   White|     M|11615|95.38180000000000...|  113|\n",
            "|     Steve|    Jarosz|   White|     M|13313|96.06260000000000...|  111|\n",
            "|     Wayne|    Wiberg|   White|     M|30561|97.83840000000000...|  102|\n",
            "|    Robert|  Mccallum|   White|     M|32175|96.84560000000000...|  102|\n",
            "|      Mark|  O Connor|   White|     M|20860|72.10940000000000...|   97|\n",
            "|   Jeffrey|    Felton|   White|     M| 8349|67.91100000000000...|   94|\n",
            "|     Glenn|     Evans|   Black|     M| 8138|94.87120000000000...|   93|\n",
            "|     Kevin|   Connors|   White|     M| 5204|72.10940000000000...|   93|\n",
            "|   Richard|  Antonsen|   White|     M|  761|86.68440000000000...|   93|\n",
            "|    Joseph|   Ferenzi|   White|     M| 8374|83.00240000000000...|   92|\n",
            "|   Vincent|Baldassano|   White|     M|31815|94.87120000000000...|   91|\n",
            "|     Eddie|   Johnson|   Black|     M|13498|38.90280000000000...|   91|\n",
            "| Anargyros|  Kereakes|   White|     M|14513|38.90280000000000...|   91|\n",
            "|    Sergio|   Herrera|Hispanic|     M|12087|72.09240000000000...|   91|\n",
            "|     Cesar|      Kuri|Hispanic|     M|32118|99.90360000000000...|   90|\n",
            "|      Paul|    Powers|   White|     M|32271|97.96890000000000...|   83|\n",
            "|   William|    Wagner|   White|     M|29772|94.29820000000000...|   82|\n",
            "|     Chris|   Hackett|   White|     M|11129|86.68440000000000...|   81|\n",
            "|      Rick| Caballero|Hispanic|     M| 3558|97.83840000000000...|   81|\n",
            "|    Angelo|   Mandile|   White|     M|17189|97.07820000000000...|   81|\n",
            "|       Tim|      Wood|   White|     M|31164|74.50360000000000...|   74|\n",
            "|  Reynaldo|   Serrato|Hispanic|     M|26018|99.18300000000000...|   73|\n",
            "|     James|   Mansell|   White|     M|17259|95.54640000000000...|   71|\n",
            "|    Eugene|  Hoffmann|   White|     M|12391|83.00240000000000...|   69|\n",
            "|     Kevin|      Muth|   White|     M|20154|95.66550000000000...|   69|\n",
            "|      Sean|   Brandon|   White|     M| 2671|91.29130000000000...|   69|\n",
            "|   Gerardo|      Vega|Hispanic|     M|29454|98.59870000000000...|   69|\n",
            "|    Daniel|     Lopez|Hispanic|     M|32141|94.13370000000000...|   69|\n",
            "+----------+----------+--------+------+-----+--------------------+-----+\n",
            "only showing top 30 rows\n",
            "\n"
          ]
        },
        {
          "output_type": "execute_result",
          "data": {
            "text/plain": [
              "(array([3.565e+03, 6.560e+02, 1.690e+02, 1.170e+02, 6.400e+01, 4.500e+01,\n",
              "        5.600e+01, 8.000e+00, 1.900e+01, 1.100e+01, 2.900e+01, 5.000e+00,\n",
              "        1.000e+01, 8.000e+00, 1.000e+00, 5.000e+00, 0.000e+00, 1.000e+01,\n",
              "        1.000e+00, 2.000e+00, 0.000e+00, 2.000e+00, 0.000e+00, 0.000e+00,\n",
              "        1.000e+00, 0.000e+00, 0.000e+00, 0.000e+00, 0.000e+00, 1.000e+00]),\n",
              " array([  0.        ,   5.23333333,  10.46666667,  15.7       ,\n",
              "         20.93333333,  26.16666667,  31.4       ,  36.63333333,\n",
              "         41.86666667,  47.1       ,  52.33333333,  57.56666667,\n",
              "         62.8       ,  68.03333333,  73.26666667,  78.5       ,\n",
              "         83.73333333,  88.96666667,  94.2       ,  99.43333333,\n",
              "        104.66666667, 109.9       , 115.13333333, 120.36666667,\n",
              "        125.6       , 130.83333333, 136.06666667, 141.3       ,\n",
              "        146.53333333, 151.76666667, 157.        ]),\n",
              " <a list of 30 Patch objects>)"
            ]
          },
          "metadata": {},
          "execution_count": 24
        },
        {
          "output_type": "display_data",
          "data": {
            "image/png": "[encoded data removed]",
            "text/plain": [
              "<Figure size 432x288 with 1 Axes>"
            ]
          },
          "metadata": {
            "needs_background": "light"
          }
        }
      ]
    },
    {
      "cell_type": "markdown",
      "metadata": {
        "id": "qwc5UZcVYfbb"
      },
      "source": [
        "#Use of Force Queries\n"
      ]
    },
    {
      "cell_type": "code",
      "metadata": {
        "id": "F4zTPukaa7iQ"
      },
      "source": [
        "cursor.execute(query_to_string(\"force_edges_query.sql\"))\n",
        "edges = cursor.fetchall()\n",
        "\n",
        "df_edges_f = pd.DataFrame(edges)\n",
        "colnames = [desc[0] for desc in cursor.description]\n",
        "df_edges_f.columns = colnames"
      ],
      "execution_count": 25,
      "outputs": []
    },
    {
      "cell_type": "code",
      "metadata": {
        "id": "MIfs-oA4bLtS"
      },
      "source": [
        "cursor.execute(query_to_string(\"force_vertices_query.sql\"))\n",
        "vertices = cursor.fetchall()\n",
        "\n",
        "\n",
        "df_vertices_f = pd.DataFrame(vertices)\n",
        "colnames = [desc[0] for desc in cursor.description]\n",
        "df_vertices_f.columns = colnames\n",
        "\n",
        "df_vertices_f.drop_duplicates(['id'], keep='first', inplace=True)"
      ],
      "execution_count": 26,
      "outputs": []
    },
    {
      "cell_type": "code",
      "metadata": {
        "id": "uu-SsuUphL_a"
      },
      "source": [
        "spark_edges_f = spark.createDataFrame(df_edges_f)\n",
        "spark_vertices_f = spark.createDataFrame(df_vertices_f)\n",
        "graph_force = GraphFrame(spark_vertices_f, spark_edges_f)"
      ],
      "execution_count": 27,
      "outputs": []
    },
    {
      "cell_type": "code",
      "metadata": {
        "id": "xX-zBjn57Rj2"
      },
      "source": [
        "f_pr = graph_force.pageRank(tol=0.01)\n",
        "highest_f_pr = f_pr.vertices.sort(['pagerank'], ascending=False).limit(1000)\n",
        "highest_f_pr = highest_f_pr.toPandas()\n",
        "\n",
        "ids = highest_f_pr['id']\n",
        "# print(ids)\n",
        "associated_partner_page_rank = []\n",
        "partner_pr_pd = partner_pr.vertices.toPandas()\n",
        "# print(partner_pr_pd)\n",
        "for id in ids:\n",
        "  row = partner_pr_pd.loc[partner_pr_pd[\"id\"] == id]\n",
        "  if not row.empty:\n",
        "    associated_partner_page_rank.append(row['pagerank'].tolist()[0])\n",
        "    # print(row['pagerank'].tolist()[0])\n",
        "  else:\n",
        "    associated_partner_page_rank.append(None)\n",
        "\n",
        "# print(associated_partner_page_rank)\n",
        "highest_f_pr['partner_page_rank'] = associated_partner_page_rank"
      ],
      "execution_count": 28,
      "outputs": []
    },
    {
      "cell_type": "code",
      "metadata": {
        "colab": {
          "base_uri": "https://localhost:8080/",
          "height": 669
        },
        "id": "5yS4vd0G8e77",
        "outputId": "4830792e-6fb3-481c-f94c-2dc144ed656d"
      },
      "source": [
        "highest_f_pr.head(20)"
      ],
      "execution_count": 29,
      "outputs": [
        {
          "output_type": "execute_result",
          "data": {
            "text/html": [
              "<div>\n",
              "<style scoped>\n",
              "    .dataframe tbody tr th:only-of-type {\n",
              "        vertical-align: middle;\n",
              "    }\n",
              "\n",
              "    .dataframe tbody tr th {\n",
              "        vertical-align: top;\n",
              "    }\n",
              "\n",
              "    .dataframe thead th {\n",
              "        text-align: right;\n",
              "    }\n",
              "</style>\n",
              "<table border=\"1\" class=\"dataframe\">\n",
              "  <thead>\n",
              "    <tr style=\"text-align: right;\">\n",
              "      <th></th>\n",
              "      <th>allegation_id</th>\n",
              "      <th>race</th>\n",
              "      <th>id</th>\n",
              "      <th>pagerank</th>\n",
              "      <th>partner_page_rank</th>\n",
              "    </tr>\n",
              "  </thead>\n",
              "  <tbody>\n",
              "    <tr>\n",
              "      <th>0</th>\n",
              "      <td>1006219</td>\n",
              "      <td>Black</td>\n",
              "      <td>8138</td>\n",
              "      <td>9.340602</td>\n",
              "      <td>NaN</td>\n",
              "    </tr>\n",
              "    <tr>\n",
              "      <th>1</th>\n",
              "      <td>1024627</td>\n",
              "      <td>White</td>\n",
              "      <td>17816</td>\n",
              "      <td>7.564095</td>\n",
              "      <td>NaN</td>\n",
              "    </tr>\n",
              "    <tr>\n",
              "      <th>2</th>\n",
              "      <td>1013586</td>\n",
              "      <td>Hispanic</td>\n",
              "      <td>25306</td>\n",
              "      <td>7.011603</td>\n",
              "      <td>NaN</td>\n",
              "    </tr>\n",
              "    <tr>\n",
              "      <th>3</th>\n",
              "      <td>1005133</td>\n",
              "      <td>White</td>\n",
              "      <td>2375</td>\n",
              "      <td>6.942383</td>\n",
              "      <td>NaN</td>\n",
              "    </tr>\n",
              "    <tr>\n",
              "      <th>4</th>\n",
              "      <td>1042613</td>\n",
              "      <td>White</td>\n",
              "      <td>2356</td>\n",
              "      <td>6.330553</td>\n",
              "      <td>NaN</td>\n",
              "    </tr>\n",
              "    <tr>\n",
              "      <th>5</th>\n",
              "      <td>1011304</td>\n",
              "      <td>White</td>\n",
              "      <td>3277</td>\n",
              "      <td>6.053319</td>\n",
              "      <td>NaN</td>\n",
              "    </tr>\n",
              "    <tr>\n",
              "      <th>6</th>\n",
              "      <td>C217232</td>\n",
              "      <td>White</td>\n",
              "      <td>29033</td>\n",
              "      <td>5.728800</td>\n",
              "      <td>1.013898</td>\n",
              "    </tr>\n",
              "    <tr>\n",
              "      <th>7</th>\n",
              "      <td>C141303</td>\n",
              "      <td>White</td>\n",
              "      <td>27392</td>\n",
              "      <td>5.694141</td>\n",
              "      <td>NaN</td>\n",
              "    </tr>\n",
              "    <tr>\n",
              "      <th>8</th>\n",
              "      <td>C171608</td>\n",
              "      <td>White</td>\n",
              "      <td>8562</td>\n",
              "      <td>5.467520</td>\n",
              "      <td>NaN</td>\n",
              "    </tr>\n",
              "    <tr>\n",
              "      <th>9</th>\n",
              "      <td>C181200</td>\n",
              "      <td>Hispanic</td>\n",
              "      <td>4212</td>\n",
              "      <td>5.437083</td>\n",
              "      <td>NaN</td>\n",
              "    </tr>\n",
              "    <tr>\n",
              "      <th>10</th>\n",
              "      <td>1014010</td>\n",
              "      <td>White</td>\n",
              "      <td>20154</td>\n",
              "      <td>5.405792</td>\n",
              "      <td>NaN</td>\n",
              "    </tr>\n",
              "    <tr>\n",
              "      <th>11</th>\n",
              "      <td>1009381</td>\n",
              "      <td>Hispanic</td>\n",
              "      <td>32255</td>\n",
              "      <td>5.403520</td>\n",
              "      <td>NaN</td>\n",
              "    </tr>\n",
              "    <tr>\n",
              "      <th>12</th>\n",
              "      <td>1014480</td>\n",
              "      <td>White</td>\n",
              "      <td>11194</td>\n",
              "      <td>5.307548</td>\n",
              "      <td>NaN</td>\n",
              "    </tr>\n",
              "    <tr>\n",
              "      <th>13</th>\n",
              "      <td>1084260</td>\n",
              "      <td>White</td>\n",
              "      <td>11365</td>\n",
              "      <td>5.250557</td>\n",
              "      <td>NaN</td>\n",
              "    </tr>\n",
              "    <tr>\n",
              "      <th>14</th>\n",
              "      <td>C196196</td>\n",
              "      <td>Native American/Alaskan Native</td>\n",
              "      <td>5618</td>\n",
              "      <td>5.203456</td>\n",
              "      <td>NaN</td>\n",
              "    </tr>\n",
              "    <tr>\n",
              "      <th>15</th>\n",
              "      <td>1006576</td>\n",
              "      <td>White</td>\n",
              "      <td>21468</td>\n",
              "      <td>5.175577</td>\n",
              "      <td>NaN</td>\n",
              "    </tr>\n",
              "    <tr>\n",
              "      <th>16</th>\n",
              "      <td>1006785</td>\n",
              "      <td>White</td>\n",
              "      <td>31631</td>\n",
              "      <td>5.112292</td>\n",
              "      <td>NaN</td>\n",
              "    </tr>\n",
              "    <tr>\n",
              "      <th>17</th>\n",
              "      <td>1021173</td>\n",
              "      <td>White</td>\n",
              "      <td>16427</td>\n",
              "      <td>5.071251</td>\n",
              "      <td>NaN</td>\n",
              "    </tr>\n",
              "    <tr>\n",
              "      <th>18</th>\n",
              "      <td>C191053</td>\n",
              "      <td>Black</td>\n",
              "      <td>14630</td>\n",
              "      <td>5.056106</td>\n",
              "      <td>NaN</td>\n",
              "    </tr>\n",
              "    <tr>\n",
              "      <th>19</th>\n",
              "      <td>C150734</td>\n",
              "      <td>Hispanic</td>\n",
              "      <td>4294</td>\n",
              "      <td>4.967810</td>\n",
              "      <td>NaN</td>\n",
              "    </tr>\n",
              "  </tbody>\n",
              "</table>\n",
              "</div>"
            ],
            "text/plain": [
              "   allegation_id                            race  ...  pagerank  partner_page_rank\n",
              "0        1006219                           Black  ...  9.340602                NaN\n",
              "1        1024627                           White  ...  7.564095                NaN\n",
              "2        1013586                        Hispanic  ...  7.011603                NaN\n",
              "3        1005133                           White  ...  6.942383                NaN\n",
              "4        1042613                           White  ...  6.330553                NaN\n",
              "5        1011304                           White  ...  6.053319                NaN\n",
              "6        C217232                           White  ...  5.728800           1.013898\n",
              "7        C141303                           White  ...  5.694141                NaN\n",
              "8        C171608                           White  ...  5.467520                NaN\n",
              "9        C181200                        Hispanic  ...  5.437083                NaN\n",
              "10       1014010                           White  ...  5.405792                NaN\n",
              "11       1009381                        Hispanic  ...  5.403520                NaN\n",
              "12       1014480                           White  ...  5.307548                NaN\n",
              "13       1084260                           White  ...  5.250557                NaN\n",
              "14       C196196  Native American/Alaskan Native  ...  5.203456                NaN\n",
              "15       1006576                           White  ...  5.175577                NaN\n",
              "16       1006785                           White  ...  5.112292                NaN\n",
              "17       1021173                           White  ...  5.071251                NaN\n",
              "18       C191053                           Black  ...  5.056106                NaN\n",
              "19       C150734                        Hispanic  ...  4.967810                NaN\n",
              "\n",
              "[20 rows x 5 columns]"
            ]
          },
          "metadata": {},
          "execution_count": 29
        }
      ]
    },
    {
      "cell_type": "code",
      "metadata": {
        "colab": {
          "base_uri": "https://localhost:8080/",
          "height": 1000
        },
        "id": "29SiLphhxMPo",
        "outputId": "6a8859ca-93a0-4d51-8fac-0d8f3199ca9a"
      },
      "source": [
        "trr_f_tc = graph_force.triangleCount()\n",
        "trr_f_tc.sort([\"count\"], ascending=False).select(\"id\", \"count\").show(30)\n",
        "bins, counts = trr_f_tc.select('count').rdd.flatMap(lambda x: x).histogram(30)\n",
        "plt.hist(bins[:-1], bins=bins, weights=counts)"
      ],
      "execution_count": 30,
      "outputs": [
        {
          "output_type": "stream",
          "name": "stdout",
          "text": [
            "+-----+-----+\n",
            "|   id|count|\n",
            "+-----+-----+\n",
            "|30337| 1363|\n",
            "|31536| 1340|\n",
            "| 2375| 1229|\n",
            "| 2356| 1217|\n",
            "|21364| 1215|\n",
            "|25230| 1197|\n",
            "| 9648| 1189|\n",
            "| 4226| 1182|\n",
            "| 1832| 1147|\n",
            "| 4565| 1146|\n",
            "|20616| 1143|\n",
            "|32072| 1141|\n",
            "|32390| 1140|\n",
            "| 6704| 1140|\n",
            "|27668| 1136|\n",
            "|12947| 1136|\n",
            "|25983| 1135|\n",
            "|28601| 1134|\n",
            "| 1739| 1131|\n",
            "|13093| 1131|\n",
            "|29252| 1131|\n",
            "| 4254| 1131|\n",
            "|28384| 1131|\n",
            "|28178| 1131|\n",
            "|  560| 1130|\n",
            "| 1517| 1130|\n",
            "| 7032| 1129|\n",
            "|24063| 1129|\n",
            "|14710| 1129|\n",
            "|19798| 1128|\n",
            "+-----+-----+\n",
            "only showing top 30 rows\n",
            "\n"
          ]
        },
        {
          "output_type": "execute_result",
          "data": {
            "text/plain": [
              "(array([1.2362e+04, 6.3400e+02, 2.1200e+02, 6.8000e+01, 3.2000e+01,\n",
              "        4.8000e+01, 3.0000e+00, 1.8000e+01, 1.4000e+01, 2.0000e+00,\n",
              "        0.0000e+00, 0.0000e+00, 0.0000e+00, 0.0000e+00, 0.0000e+00,\n",
              "        0.0000e+00, 0.0000e+00, 0.0000e+00, 0.0000e+00, 0.0000e+00,\n",
              "        0.0000e+00, 0.0000e+00, 0.0000e+00, 0.0000e+00, 3.3000e+01,\n",
              "        8.0000e+00, 5.0000e+00, 1.0000e+00, 0.0000e+00, 2.0000e+00]),\n",
              " array([   0.        ,   45.43333333,   90.86666667,  136.3       ,\n",
              "         181.73333333,  227.16666667,  272.6       ,  318.03333333,\n",
              "         363.46666667,  408.9       ,  454.33333333,  499.76666667,\n",
              "         545.2       ,  590.63333333,  636.06666667,  681.5       ,\n",
              "         726.93333333,  772.36666667,  817.8       ,  863.23333333,\n",
              "         908.66666667,  954.1       ,  999.53333333, 1044.96666667,\n",
              "        1090.4       , 1135.83333333, 1181.26666667, 1226.7       ,\n",
              "        1272.13333333, 1317.56666667, 1363.        ]),\n",
              " <a list of 30 Patch objects>)"
            ]
          },
          "metadata": {},
          "execution_count": 30
        },
        {
          "output_type": "display_data",
          "data": {
            "image/png": "[encoded data removed]",
            "text/plain": [
              "<Figure size 432x288 with 1 Axes>"
            ]
          },
          "metadata": {
            "needs_background": "light"
          }
        }
      ]
    },
    {
      "cell_type": "markdown",
      "metadata": {
        "id": "iuPyfEdVBZRP"
      },
      "source": [
        "# Graph Functions"
      ]
    },
    {
      "cell_type": "code",
      "metadata": {
        "id": "re5Ft2qMlBaR"
      },
      "source": [
        "\n",
        "\n",
        "def plot_graph_no_color(gx, size_px, dpi, output_name):\n",
        "    g = nx.DiGraph(directed = False)\n",
        "    \n",
        "    g = nx.from_pandas_edgelist(gx.edges.toPandas(),'src','dst')\n",
        "    g.add_nodes_from(gx.vertices.toPandas()['id'])\n",
        "    fig = plt.figure(1, figsize=(size_px, size_px), dpi=dpi)\n",
        "    race_map = {'White' : 'blue',\n",
        "                'Black' : 'orange',\n",
        "                'Asian/Pacific' : 'green',\n",
        "                'Native American/Alaskan Native' : 'black',\n",
        "                'Hispanic' : 'yellow',\n",
        "                'Other' : 'purple'}\n",
        "    \n",
        "    print(g.nodes())\n",
        "    races = [race_map.get(gx.vertices.filter(gx.vertices['id'] == node).select('race').collect()[0][0]) for node in g.nodes()]\n",
        "    nx.draw(g, with_labels=True, arrows = False, node_color=races, edge_color='black', font_color='purple')\n",
        "    plt.savefig(output_name, dpi=dpi, bbox_inches='tight')\n",
        "\n",
        "   "
      ],
      "execution_count": 31,
      "outputs": []
    },
    {
      "cell_type": "code",
      "metadata": {
        "id": "YbXI5s3niMi-"
      },
      "source": [
        "# NetworkX to visualize the graph\n",
        "import networkx as nx\n",
        "\n",
        "def plot_graph(gx, size_px, dpi, output_name):\n",
        "    g = nx.DiGraph(directed = False)\n",
        "    \n",
        "    g = nx.from_pandas_edgelist(gx.edges.toPandas(),'src','dst')\n",
        "    g.add_nodes_from(gx.vertices.toPandas()['id'])\n",
        "    fig = plt.figure(1, figsize=(size_px, size_px), dpi=dpi)\n",
        "\n",
        "    race_map = {'White' : 'blue',\n",
        "                'Black' : 'orange',\n",
        "                'Asian/Pacific' : 'green',\n",
        "                'Native American/Alaskan Native' : 'black',\n",
        "                'Hispanic' : 'yellow',\n",
        "                'Other' : 'purple'}\n",
        "    \n",
        "    print(g.nodes())\n",
        "    races = [race_map.get(gx.vertices.filter(gx.vertices['id'] == node).select('race').collect()[0][0]) for node in g.nodes()]\n",
        "    nx.draw(g, with_labels=True, arrows = False, node_color=races, edge_color='black', font_color='purple')\n",
        "    plt.savefig(output_name, dpi=dpi, bbox_inches='tight')\n",
        "\n",
        "    print(races)\n",
        "    "
      ],
      "execution_count": 32,
      "outputs": []
    },
    {
      "cell_type": "markdown",
      "metadata": {
        "id": "BYIDQCD89-d3"
      },
      "source": [
        "#Graph Visualization"
      ]
    },
    {
      "cell_type": "code",
      "metadata": {
        "id": "Cf0AX_xqiC21",
        "colab": {
          "base_uri": "https://localhost:8080/",
          "height": 1000
        },
        "outputId": "df6c86c4-1c12-40fe-c4cc-911df9c8a9b2"
      },
      "source": [
        "plot_graph(graph_trr_ar, 17, 30, 'action_response.png')"
      ],
      "execution_count": 33,
      "outputs": [
        {
          "output_type": "stream",
          "name": "stdout",
          "text": [
            "[1, 27263, 17593, 2202, 12039, 16404, 27962, 23920, 15, 21371, 24710, 29992, 13773, 22256, 29517, 17259, 17634, 16615, 27084, 25789, 29768, 16, 32182, 13348, 21517, 25933, 32401, 25751, 18609, 19, 20544, 19984, 34, 23520, 42, 2110, 27673, 1989, 18656, 26516, 32181, 16124, 432, 44, 24844, 51, 5456, 16201, 15169, 28444, 52, 6564, 8726, 29491, 6087, 56, 28797, 24924, 60, 31294, 32246, 25442, 6560, 22195, 9473, 19633, 75, 11384, 115, 15906, 4263, 119, 29215, 22487, 2575, 135, 11831, 11808, 18529, 31843, 9627, 28287, 2241, 476, 781, 25032, 7998, 21283, 4698, 142, 22827, 29788, 143, 22809, 3647, 149, 3724, 18093, 28795, 32007, 13209, 31189, 15734, 152, 12379, 30505, 5554, 14619, 14603, 15855, 1009, 171, 25511, 7718, 22254, 178, 24079, 31422, 204, 26195, 208, 15228, 709, 4467, 23961, 209, 15753, 31922, 1695, 23425, 23829, 233, 18972, 32135, 241, 27479, 21654, 242, 24686, 29838, 13605, 8138, 12234, 244, 20661, 29592, 1056, 247, 18721, 11874, 256, 8894, 262, 10894, 9283, 29594, 11129, 10935, 20057, 28315, 23050, 263, 21451, 21712, 2278, 32291, 11634, 25416, 2162, 24384, 11305, 264, 14599, 270, 25434, 22399, 283, 23566, 25199, 25949, 31061, 24525, 448, 309, 6075, 310, 680, 20327, 29057, 338, 29134, 32293, 12874, 32125, 13574, 32180, 339, 19985, 6019, 22414, 340, 32219, 25295, 27983, 4381, 1452, 13909, 30197, 6656, 26214, 20795, 352, 26304, 32191, 4464, 8428, 357, 9906, 2200, 367, 24852, 22610, 800, 10740, 388, 11704, 28301, 32381, 28306, 393, 22142, 1464, 394, 32402, 25502, 399, 16570, 5430, 403, 9087, 12480, 4987, 22389, 8476, 422, 17278, 427, 2322, 2606, 25291, 21477, 5075, 435, 8902, 14526, 32430, 26408, 1808, 7723, 442, 17711, 29018, 32146, 13177, 31631, 29133, 5838, 17274, 450, 30843, 8800, 451, 11007, 31828, 22543, 21455, 464, 20220, 7925, 23908, 4440, 11257, 7250, 11904, 4659, 12884, 29767, 21470, 7842, 10574, 10201, 3518, 4658, 21465, 465, 2470, 469, 32067, 6348, 10446, 26775, 32403, 6713, 10557, 474, 16717, 30261, 18563, 15987, 10958, 32240, 28180, 12373, 487, 3824, 27801, 489, 27074, 490, 5448, 515, 12048, 521, 25541, 21596, 530, 25788, 20065, 10449, 24720, 537, 24421, 12722, 12674, 542, 9138, 547, 18820, 24582, 22735, 18989, 560, 6590, 12947, 567, 20385, 27229, 14433, 31419, 7000, 618, 13481, 31916, 18573, 621, 18347, 14124, 1723, 11710, 14676, 627, 7972, 27678, 628, 21999, 632, 883, 17743, 9525, 635, 29729, 29471, 642, 8363, 650, 11615, 2191, 30689, 30400, 16176, 10892, 30447, 11929, 17304, 22545, 29421, 9634, 13313, 5560, 17994, 26221, 652, 29249, 682, 683, 16705, 700, 17382, 21418, 13199, 32271, 24804, 17750, 31336, 9121, 4349, 25761, 727, 32238, 743, 21586, 16560, 17217, 10733, 758, 6844, 25281, 761, 30561, 8349, 13498, 31337, 32344, 20860, 8374, 12087, 5204, 14513, 32175, 31584, 22644, 9596, 772, 8031, 789, 11094, 5767, 32196, 22128, 9574, 22222, 792, 31363, 23036, 30226, 13940, 13603, 799, 31881, 31947, 11339, 13248, 6645, 806, 8908, 29406, 19903, 809, 6094, 820, 2255, 25177, 8749, 823, 19556, 25302, 18911, 16699, 826, 16391, 827, 8837, 834, 30928, 31899, 11918, 836, 1658, 854, 27077, 22174, 858, 6697, 26814, 23266, 21263, 6866, 874, 23734, 878, 19531, 29464, 880, 28850, 7566, 15779, 887, 25158, 6565, 22140, 29186, 19801, 9804, 32266, 16574, 18275, 29147, 4860, 889, 26614, 890, 12925, 32039, 26831, 25098, 16810, 25030, 902, 3482, 932, 24431, 10213, 933, 17916, 14637, 32211, 21766, 11509, 10011, 31937, 943, 27922, 969, 30102, 971, 11190, 26258, 973, 20609, 25912, 12670, 28712, 19024, 994, 2097, 3998, 29779, 28529, 26179, 31918, 21211, 5454, 997, 28871, 17111, 1007, 23950, 22150, 18611, 3802, 1012, 25310, 2848, 22634, 14184, 14145, 5322, 1018, 26846, 9001, 18806, 16317, 6689, 29015, 22569, 13776, 18679, 17142, 17517, 29841, 29688, 13596, 32345, 1021, 27156, 26945, 19880, 31629, 1026, 12495, 14080, 32190, 31946, 8842, 1029, 21963, 21873, 1031, 27782, 1039, 8621, 1043, 6882, 1049, 28397, 26637, 28511, 1053, 1692, 22512, 31992, 1057, 25175, 13720, 9768, 15638, 1061, 1829, 1274, 1066, 21468, 17647, 1071, 29379, 19744, 9380, 1087, 14570, 12464, 1090, 17508, 21165, 19396, 8024, 1091, 12275, 1094, 29209, 1126, 12090, 1128, 21476, 1139, 25433, 4250, 23746, 25025, 19306, 18770, 9929, 1146, 23538, 6451, 28758, 25368, 16508, 3432, 22729, 1148, 6701, 32015, 1149, 9760, 1152, 10420, 29984, 16210, 1172, 24324, 24186, 1193, 19834, 25491, 1196, 13716, 21124, 1219, 24511, 24082, 30883, 4634, 31110, 19789, 1222, 1233, 7020, 8578, 19480, 4792, 2667, 1235, 23633, 1248, 9876, 8190, 14739, 22957, 1252, 20891, 1257, 25077, 13997, 31120, 3191, 16948, 1262, 27761, 3308, 1263, 25592, 32257, 17520, 1267, 29530, 1277, 9551, 8176, 1278, 32355, 1283, 3845, 22127, 9764, 18506, 28540, 14780, 8355, 1288, 23703, 11608, 6173, 29543, 10946, 1296, 1616, 5402, 1304, 2113, 1316, 20678, 17648, 8453, 25193, 7407, 1327, 18658, 25265, 1344, 17254, 1345, 31815, 31381, 28662, 25431, 22025, 14192, 32052, 31164, 32357, 16973, 1350, 4638, 25942, 4252, 31853, 18763, 25665, 1352, 12312, 27993, 1364, 4277, 25627, 1371, 13018, 6896, 21786, 1413, 17161, 1420, 31127, 29772, 8628, 4295, 20154, 32141, 32025, 2671, 19564, 12391, 4187, 1423, 17086, 23240, 13555, 27274, 5714, 16233, 8302, 1427, 32058, 14294, 4538, 3909, 1430, 5587, 27964, 31119, 10450, 20773, 1891, 25381, 19888, 1434, 23951, 10192, 31948, 30502, 4482, 31576, 2798, 1440, 18779, 12809, 1444, 27929, 23786, 5531, 1485, 27935, 30062, 24288, 1471, 21498, 1487, 18651, 15880, 25689, 17372, 1489, 3649, 7609, 1510, 28754, 1517, 14234, 6852, 1533, 27509, 26927, 9417, 1544, 32267, 9727, 6986, 24971, 2621, 28695, 18444, 31151, 7656, 1557, 12299, 27616, 10324, 1559, 16167, 12782, 22467, 3494, 1570, 29433, 20273, 1576, 1677, 1581, 14347, 1582, 32331, 13911, 30580, 1610, 29118, 4408, 1647, 18610, 20034, 1656, 5913, 31932, 1665, 20046, 1666, 18657, 19794, 1678, 14915, 31817, 10321, 11347, 27365, 16855, 16515, 4118, 22516, 1693, 22855, 27237, 2219, 12188, 18620, 1696, 30635, 5000, 4447, 22536, 4506, 9594, 1714, 31732, 3996, 1715, 8802, 1739, 21407, 5048, 1866, 27401, 1744, 19546, 20105, 1747, 2348, 32301, 2181, 10119, 9230, 3563, 12059, 32383, 1748, 5875, 3179, 27226, 1754, 13637, 16551, 32307, 19257, 25197, 1756, 18844, 6399, 22278, 2532, 1769, 20447, 4000, 6354, 5412, 29981, 1785, 4556, 9662, 1825, 8972, 18588, 24625, 17458, 9604, 21432, 1841, 11544, 9818, 10549, 17819, 28070, 1853, 4159, 20875, 1859, 32091, 31030, 23580, 1884, 19325, 14598, 23229, 14087, 10024, 1911, 23041, 11689, 10468, 1927, 16115, 23774, 5372, 13041, 16265, 1958, 29730, 11234, 32148, 31799, 27221, 1963, 15379, 18742, 24385, 1986, 12220, 4954, 21760, 2003, 29765, 2015, 21260, 6145, 2022, 26583, 2030, 22824, 5117, 2037, 23980, 12994, 14232, 6585, 7524, 23531, 18293, 26017, 30152, 2100, 21073, 9976, 11572, 13334, 2542, 28162, 9010, 3897, 30515, 18092, 2138, 9081, 10120, 2153, 29454, 20056, 29722, 32054, 3558, 17189, 19866, 26018, 15049, 25169, 2161, 20756, 27853, 2170, 22211, 11464, 2172, 31374, 30053, 2180, 32086, 16271, 26600, 22247, 22258, 3925, 27222, 19831, 2201, 29008, 21684, 23387, 20798, 2211, 31941, 18571, 12826, 2222, 27648, 2228, 16380, 2244, 26236, 4333, 2247, 31777, 4017, 18655, 21350, 2259, 6623, 16183, 27386, 3026, 2266, 22759, 2295, 25918, 25914, 16553, 2309, 20796, 5523, 22221, 2334, 21566, 11406, 2346, 18532, 9271, 27900, 17240, 9863, 25160, 13556, 25414, 28764, 10583, 26551, 2359, 9898, 26209, 31542, 16071, 11259, 2363, 21788, 6224, 10014, 13304, 8002, 6264, 20053, 2374, 4302, 26435, 8457, 6088, 2384, 13600, 2390, 15767, 29529, 21830, 2392, 9593, 5502, 23525, 2400, 19934, 31717, 2409, 21912, 14401, 2416, 24758, 15434, 29375, 2418, 14405, 2422, 13910, 26522, 30768, 28968, 2423, 9482, 4288, 2436, 16600, 25818, 25156, 13877, 27286, 2442, 7725, 10835, 25841, 2456, 2463, 32100, 32178, 32024, 31976, 32365, 2489, 22279, 15627, 29216, 2492, 32442, 2493, 16946, 9640, 15863, 31943, 9977, 2508, 14282, 2527, 28258, 11532, 25321, 2535, 16966, 26071, 2829, 2557, 3941, 16594, 22889, 9428, 2560, 16043, 4052, 7589, 17377, 5947, 11056, 29877, 2563, 3764, 28405, 18653, 10188, 2570, 24116, 29514, 27223, 30407, 26291, 32310, 17087, 8614, 2996, 22934, 2577, 12085, 32121, 2643, 2645, 19470, 14663, 31980, 21220, 25503, 27439, 2676, 18104, 14390, 20224, 10284, 28886, 24561, 2716, 22324, 27435, 31193, 2718, 2723, 27671, 2746, 20453, 16385, 2748, 27309, 21779, 2765, 23724, 2767, 32226, 29676, 2784, 5278, 22158, 9169, 30055, 32085, 25677, 20038, 32105, 15811, 25811, 12377, 2803, 19040, 13780, 2812, 2817, 21319, 11364, 17603, 19561, 10774, 7188, 2844, 20242, 2849, 10568, 2886, 20039, 31795, 32152, 2915, 31819, 26366, 2917, 21437, 2932, 29414, 9670, 24784, 14418, 2957, 3932, 29678, 3816, 27395, 18830, 2989, 22981, 8409, 6988, 26822, 2991, 31859, 21151, 15631, 32159, 10631, 6320, 30460, 24941, 28867, 21474, 3014, 28763, 31279, 14370, 28476, 3018, 3020, 32414, 3043, 25008, 3044, 14168, 7720, 11899, 3055, 11556, 3067, 13744, 3069, 3070, 8944, 3082, 24392, 3088, 27599, 3127, 11522, 30953, 27071, 8143, 3133, 24712, 14241, 3137, 7784, 3146, 3978, 3157, 11171, 8494, 3166, 17218, 18663, 3168, 17145, 19559, 20536, 27765, 20700, 3175, 10518, 5205, 26968, 3190, 19710, 17351, 9309, 6582, 23174, 21239, 17350, 11713, 16952, 11425, 3216, 3223, 21884, 24112, 3226, 3235, 11931, 15383, 3251, 15826, 31997, 3278, 25384, 3279, 8495, 7071, 7021, 3284, 10559, 3287, 23997, 3293, 24268, 3299, 20528, 16791, 17855, 3305, 26999, 7195, 16022, 4749, 30784, 19305, 23044, 11159, 9697, 31501, 30804, 3317, 31886, 3352, 10529, 3356, 4866, 10085, 19477, 3358, 12484, 3368, 21552, 3377, 3388, 11117, 3395, 19845, 24774, 8668, 3412, 23079, 7167, 29408, 3413, 23978, 13873, 3437, 19879, 3444, 23519, 3456, 30944, 6640, 5413, 15375, 3463, 6944, 32142, 25306, 28943, 15710, 10442, 31834, 3491, 3495, 3761, 13362, 3497, 15235, 26616, 3499, 4788, 18636, 29144, 28367, 3526, 31798, 18841, 3549, 16277, 4155, 26540, 31809, 9268, 24198, 32269, 16636, 10045, 19287, 15229, 31761, 3564, 10361, 22781, 3619, 3565, 17717, 3568, 17223, 14610, 26829, 3574, 8022, 5447, 10392, 3583, 26991, 5348, 3584, 8981, 13784, 3605, 20885, 3610, 18831, 16545, 3615, 15072, 20551, 8858, 27282, 3616, 28570, 3623, 24397, 22132, 4867, 19983, 17073, 16721, 4549, 13737, 22636, 3629, 23351, 3635, 23492, 23397, 21253, 3642, 3643, 21121, 3644, 31264, 32210, 28894, 5395, 9584, 3656, 3667, 3669, 14969, 21443, 23755, 5083, 31687, 19799, 3683, 14392, 22257, 21172, 3694, 16282, 6706, 18554, 3716, 25019, 3721, 29128, 10724, 15979, 3723, 19722, 5131, 31838, 3729, 27358, 9467, 3733, 29484, 16285, 14400, 16860, 3743, 5168, 25799, 32328, 18746, 8394, 9699, 3765, 31974, 5439, 3769, 12959, 3775, 23327, 32304, 3784, 30352, 29403, 19005, 22226, 3785, 23991, 22273, 29340, 23701, 3791, 12436, 13456, 17251, 3793, 4665, 13692, 19964, 23260, 7628, 28290, 5086, 5501, 3808, 29714, 23331, 22078, 16546, 15562, 29538, 3874, 29456, 3876, 21551, 32114, 29795, 3884, 31883, 18562, 25380, 30203, 29409, 3922, 25026, 21110, 16258, 4013, 18196, 18592, 5170, 4570, 4033, 25983, 18996, 6131, 3928, 9028, 15438, 18824, 31718, 7110, 23495, 32335, 29166, 21674, 3940, 21335, 21266, 22693, 3943, 7329, 3956, 23392, 9579, 10997, 31873, 20196, 3982, 18654, 6674, 17332, 3986, 20294, 3989, 10257, 3991, 10280, 3995, 32255, 31852, 26808, 4001, 8366, 4539, 6343, 8142, 5749, 27408, 12432, 6009, 4029, 19185, 20274, 31844, 19835, 4036, 30807, 11273, 4038, 19620, 4078, 24736, 4091, 32116, 32424, 4119, 4126, 4674, 13256, 4127, 14759, 26950, 31822, 13977, 28555, 4140, 23971, 9369, 30135, 14696, 6764, 4157, 19598, 4186, 7878, 9032, 5221, 15511, 4217, 31993, 28609, 16543, 31935, 21515, 4218, 4221, 7053, 16059, 23252, 27009, 4226, 4565, 19169, 4438, 10750, 10874, 4233, 22397, 4245, 24695, 25685, 23132, 4254, 19389, 29672, 31525, 4255, 9088, 4262, 14900, 9808, 17257, 31226, 11360, 6598, 4265, 4620, 29679, 20058, 31052, 26241, 23736, 27657, 10629, 20157, 6079, 26153, 4278, 15854, 27448, 4290, 13895, 21671, 28993, 4299, 16531, 32276, 4313, 32162, 15531, 4332, 22392, 24128, 15836, 6629, 15273, 5406, 4334, 21768, 4951, 12232, 4339, 21326, 4346, 4347, 24468, 4350, 24684, 4363, 11403, 28852, 4368, 15539, 4369, 5910, 4389, 14551, 27838, 9711, 4423, 5645, 4425, 18108, 4435, 22037, 15534, 14211, 4456, 4462, 23391, 16104, 10896, 17790, 25417, 14452, 28464, 5730, 19245, 8380, 19751, 4791, 6146, 4466, 10245, 29247, 21649, 5912, 4474, 28919, 24033, 23759, 4480, 21593, 31900, 28073, 6938, 5690, 16411, 7771, 22410, 4484, 17252, 22216, 10609, 32379, 4487, 15309, 16346, 4488, 30176, 22059, 28448, 10535, 19902, 10719, 5997, 4550, 29436, 4552, 25950, 23354, 21415, 4566, 13922, 7364, 8120, 9701, 23874, 17320, 25723, 4584, 16465, 27609, 4588, 31263, 18274, 4599, 13779, 30860, 28523, 4614, 30631, 15849, 29784, 16569, 17346, 21139, 21146, 13996, 27848, 4642, 22574, 6763, 31493, 31440, 18803, 6822, 7240, 4660, 19639, 4667, 23328, 22681, 29924, 19397, 28652, 29236, 15315, 4812, 11383, 12082, 4668, 31885, 4671, 11555, 31219, 4685, 4687, 12088, 4707, 31191, 4714, 18604, 18023, 4715, 17171, 4742, 29923, 5551, 24536, 31782, 27116, 4753, 17501, 4756, 27927, 10094, 4758, 11672, 25928, 13863, 14443, 11243, 4766, 30907, 28537, 4789, 10138, 4790, 7751, 4800, 25319, 9512, 30071, 9103, 4816, 8459, 7272, 4841, 24926, 8300, 4850, 32382, 8169, 4853, 8007, 22485, 7702, 12062, 24922, 12766, 15793, 28178, 13017, 18850, 25709, 4872, 7604, 10815, 4898, 25944, 31410, 26983, 4927, 6797, 4931, 4935, 21732, 9445, 5410, 4936, 12237, 17678, 4950, 22692, 12147, 4978, 29212, 21937, 4982, 5012, 20121, 23205, 30290, 5088, 19481, 5037, 32435, 5038, 28223, 26235, 29331, 14972, 5056, 32429, 17718, 13006, 32118, 5062, 23725, 8072, 5335, 32243, 18107, 15251, 29493, 5089, 18836, 5094, 28512, 5593, 6991, 20937, 5096, 32245, 5101, 5103, 20159, 20341, 13303, 5118, 5125, 13300, 23195, 8311, 32016, 5132, 24150, 5145, 32353, 5149, 27710, 13314, 26993, 14079, 22731, 11096, 5185, 21107, 5193, 5360, 11533, 5216, 21775, 15969, 5991, 17654, 5234, 5247, 13636, 5260, 15926, 5263, 8808, 31280, 11683, 5269, 17338, 5274, 5277, 6309, 5520, 7659, 21913, 21133, 13473, 14058, 5343, 8563, 5344, 23101, 6030, 20035, 5379, 15718, 5381, 19969, 13898, 7327, 6005, 25155, 12834, 5466, 16893, 24353, 20307, 26370, 5832, 5415, 27102, 28142, 9056, 5417, 7265, 24146, 5420, 19812, 31512, 22618, 24366, 26242, 28874, 5421, 20112, 29971, 5422, 8248, 6651, 25888, 15778, 21757, 25323, 17272, 10621, 22056, 16696, 5434, 11854, 20302, 5438, 9420, 29940, 15006, 16550, 9587, 5440, 28404, 25196, 7537, 27367, 5444, 18943, 27849, 5449, 13691, 16711, 18773, 8102, 5943, 28725, 14994, 27668, 14529, 5474, 5489, 13195, 5494, 23084, 5524, 15845, 16489, 10291, 5532, 21038, 5543, 15971, 16598, 5548, 20685, 14700, 5565, 10800, 5566, 12102, 5571, 28383, 23067, 5589, 22096, 15085, 16427, 28007, 24311, 5619, 20734, 5637, 17266, 5640, 6942, 31868, 11220, 20259, 15663, 24887, 21540, 31847, 5660, 5674, 5678, 31298, 5679, 24337, 25557, 13789, 5710, 10947, 30273, 17489, 5741, 29200, 12109, 5750, 23035, 5822, 7587, 5751, 22333, 32045, 13083, 9466, 5763, 7437, 17700, 23494, 5809, 16112, 5835, 9581, 29584, 31861, 5852, 17205, 9164, 5855, 28987, 5859, 5879, 21279, 5902, 31135, 5908, 28510, 29596, 17327, 28766, 12009, 15587, 9577, 5922, 19349, 27449, 20011, 21753, 5926, 10637, 5930, 6666, 17398, 28747, 29423, 15552, 5952, 5956, 5957, 21734, 10371, 22946, 23758, 32185, 21214, 8485, 5977, 21083, 14027, 27114, 27170, 11194, 6043, 22094, 6068, 29364, 29217, 29230, 25441, 30542, 26561, 6083, 6097, 32018, 28370, 6114, 25248, 27086, 8375, 14212, 27626, 6139, 8748, 18580, 26134, 19844, 25320, 22701, 26035, 15842, 22890, 9038, 8886, 6166, 6167, 27979, 6189, 17538, 6207, 6208, 28843, 13937, 11400, 6209, 31019, 13352, 6227, 24267, 6230, 6235, 29465, 11695, 31824, 13080, 16714, 15234, 6270, 17236, 8537, 23534, 6957, 28277, 23891, 21422, 23775, 6362, 21339, 32231, 9324, 18714, 6370, 11779, 25410, 30746, 11424, 6380, 11365, 31485, 6397, 24737, 6404, 24703, 7048, 6421, 22018, 13166, 24115, 26640, 6445, 10136, 13010, 6461, 6530, 6540, 26943, 6541, 6649, 6548, 20068, 6553, 6955, 30769, 24066, 17640, 29613, 22077, 6557, 19354, 29146, 19006, 31598, 14657, 18904, 13273, 15904, 7273, 29595, 32232, 21362, 8443, 17369, 12074, 6602, 32166, 6603, 15886, 20276, 6604, 28733, 8410, 6613, 16095, 17258, 6614, 6615, 23384, 21300, 14813, 6644, 29114, 30987, 7040, 29254, 24521, 8082, 18828, 28810, 6679, 11897, 28785, 6680, 19673, 7803, 29609, 32420, 10273, 27070, 6698, 15932, 15432, 11898, 8145, 31888, 30235, 26990, 16363, 6760, 9316, 17721, 30537, 32337, 9350, 6765, 6781, 7002, 20433, 6793, 14357, 6799, 16491, 6813, 16817, 6848, 22135, 15630, 31288, 16337, 25759, 22351, 19435, 22234, 24296, 9970, 26342, 28970, 13974, 29120, 10554, 23795, 15354, 11461, 6898, 6914, 6916, 10128, 6934, 11426, 6935, 27061, 6937, 15345, 6947, 10948, 6963, 10162, 16532, 6983, 32104, 6996, 16182, 9554, 7028, 24717, 7035, 22719, 28158, 7039, 27978, 7043, 29581, 7045, 7061, 11111, 15075, 7070, 7072, 12313, 7108, 29175, 25191, 32259, 8028, 7113, 26189, 13369, 26909, 12830, 7121, 29579, 7129, 7141, 7950, 24896, 7144, 14245, 24269, 24909, 27364, 7173, 32003, 7182, 22282, 24326, 9323, 7201, 28679, 7208, 7216, 32241, 14307, 7226, 29670, 11778, 30797, 7237, 25407, 16032, 31866, 12330, 13234, 16371, 29438, 7255, 8025, 30429, 7322, 16492, 32017, 7326, 32452, 8401, 28896, 17286, 20507, 7366, 31265, 7386, 13288, 15089, 7392, 8034, 14725, 21661, 7411, 31750, 7457, 11620, 28169, 7462, 26284, 7490, 29204, 28309, 7518, 29073, 7538, 23537, 28329, 20627, 7546, 8234, 18706, 11511, 29122, 7590, 24059, 28773, 16590, 7643, 7699, 15974, 27575, 22795, 30939, 9773, 7734, 18689, 25300, 12577, 7761, 31890, 22253, 15071, 8691, 7763, 7863, 20125, 8593, 30198, 7775, 9295, 21311, 7780, 19331, 7799, 12998, 27240, 7824, 14186, 7852, 18842, 7869, 14178, 31393, 7896, 20434, 24237, 7902, 7918, 14455, 9300, 24489, 10945, 7919, 22838, 13266, 18872, 15359, 23175, 7946, 29156, 7958, 7961, 31758, 29434, 12645, 13569, 9082, 15133, 13325, 21772, 7994, 22292, 22169, 25395, 8054, 26631, 8033, 29531, 30948, 25163, 24601, 8066, 26963, 12648, 8070, 8078, 21955, 27829, 8098, 8103, 30911, 8108, 22567, 22645, 14674, 17826, 20874, 29131, 8150, 19591, 12845, 26122, 19487, 11692, 32408, 32318, 27973, 8225, 14850, 8244, 8279, 9813, 19953, 8322, 23107, 32213, 10974, 32001, 32339, 8333, 25141, 18393, 19671, 21562, 8367, 31389, 32274, 8376, 14638, 32249, 24400, 15344, 11542, 8382, 23778, 26802, 14991, 8399, 26387, 8400, 24602, 9588, 27897, 28849, 19329, 8472, 8473, 15231, 8475, 8479, 22603, 11052, 8484, 8488, 28739, 8492, 8497, 20699, 8507, 8509, 27433, 8519, 9603, 27933, 29450, 8529, 23253, 27063, 22921, 17071, 8539, 31307, 30519, 8556, 11517, 8572, 30529, 23549, 8586, 12662, 8588, 21217, 24904, 31860, 20954, 8657, 23909, 29833, 24393, 25602, 8717, 21364, 26957, 30082, 19395, 8745, 21887, 8788, 23373, 24048, 8794, 20618, 17586, 8799, 30155, 26110, 14549, 18446, 25998, 11686, 10147, 8868, 29691, 19492, 8897, 8898, 32019, 12973, 15252, 32096, 17913, 31551, 8982, 31321, 19885, 19867, 30425, 26953, 8985, 25403, 14297, 9016, 30154, 16575, 26419, 9261, 9062, 25390, 9072, 10181, 9085, 17439, 9089, 31924, 23400, 31950, 19723, 9091, 9094, 9105, 27737, 9106, 29267, 32202, 9122, 12989, 24475, 9147, 31984, 15632, 9149, 32122, 9150, 9213, 9151, 9186, 27736, 26596, 9192, 32048, 13126, 27858, 9214, 29791, 16070, 32371, 9227, 26496, 31855, 9238, 29380, 24817, 9311, 16660, 32029, 20030, 28451, 28468, 9343, 9349, 16452, 30525, 17669, 9364, 9371, 14865, 30550, 14022, 30538, 9472, 20177, 31018, 9484, 9553, 20406, 13536, 14215, 9583, 21677, 13415, 9586, 12216, 25980, 29483, 20583, 32088, 17694, 9619, 30282, 20440, 16606, 31429, 9689, 11516, 9691, 19226, 9692, 9700, 9704, 18862, 9705, 16558, 9714, 32364, 19353, 30671, 9719, 18530, 31931, 9724, 9732, 9736, 15487, 9751, 12301, 14163, 9795, 19829, 9796, 29330, 9797, 31646, 9807, 13258, 9819, 10000, 9894, 25494, 9954, 17442, 9986, 10002, 26011, 16206, 10017, 15406, 10049, 29355, 17658, 16733, 10114, 23461, 24304, 32129, 31552, 20664, 10135, 15873, 21213, 26077, 10152, 10338, 31659, 10165, 11010, 10168, 10170, 12977, 10203, 20031, 10214, 28687, 22622, 10221, 12470, 10229, 10246, 24587, 10252, 10302, 10261, 26414, 19686, 28998, 19411, 31229, 10298, 15459, 29194, 10320, 19672, 28362, 10328, 18907, 10332, 14369, 28024, 10336, 25172, 10352, 12617, 10353, 26621, 13798, 28275, 10355, 13185, 10359, 26069, 18537, 10364, 18557, 26384, 10383, 29054, 10391, 21050, 21149, 31840, 10432, 16410, 10505, 23314, 28610, 16535, 10511, 26007, 10522, 12086, 24435, 25307, 20466, 20608, 10664, 29564, 32319, 31872, 31195, 18626, 10633, 30833, 22277, 12146, 10654, 24105, 28878, 10659, 25092, 32186, 10663, 16311, 10691, 30599, 23153, 31796, 17807, 27212, 10760, 11751, 21868, 10803, 30893, 10851, 12759, 10877, 26664, 17138, 24275, 12273, 14837, 10975, 19527, 22883, 11009, 11021, 14903, 11030, 25355, 11936, 11053, 11067, 11075, 31481, 11079, 25894, 11088, 32377, 11090, 27985, 28784, 18591, 11116, 32208, 18585, 11146, 28227, 11147, 29255, 11157, 26413, 11164, 19813, 13584, 11166, 21585, 31392, 11235, 24674, 13985, 13306, 11277, 17392, 26358, 25559, 17506, 30627, 11306, 11349, 19272, 11361, 28642, 29014, 11375, 21140, 21738, 11395, 20238, 16297, 32154, 22929, 21895, 11451, 20962, 20567, 23815, 27669, 13113, 20818, 29521, 13263, 14814, 11538, 26941, 13143, 11582, 27889, 11641, 11646, 32407, 11720, 29606, 11784, 29272, 11798, 11804, 22578, 25555, 11847, 27797, 11873, 29880, 20330, 26226, 11896, 22526, 18430, 11939, 31194, 12031, 25223, 29377, 14356, 14154, 29234, 12049, 25065, 24637, 13030, 12051, 15611, 12066, 31461, 21850, 12075, 12079, 22500, 21953, 16409, 30430, 16254, 12103, 20714, 24976, 31094, 12116, 25718, 32279, 12148, 29202, 12163, 12178, 15788, 12181, 14479, 22782, 25825, 24673, 12215, 24577, 18589, 30347, 18542, 17110, 23902, 22931, 17134, 19422, 12244, 12258, 12260, 15473, 28756, 15593, 16485, 28755, 32099, 22668, 16398, 21325, 12333, 14664, 12380, 17414, 12388, 16953, 20789, 12396, 29966, 30195, 12440, 31673, 30523, 28988, 12460, 12463, 27886, 18535, 12491, 22281, 14065, 32136, 21609, 12556, 12567, 29683, 12669, 31898, 12679, 31858, 28620, 32280, 13287, 12691, 12756, 12763, 29545, 21138, 25230, 17090, 12804, 12831, 23130, 12835, 18520, 12935, 32375, 25109, 29750, 12958, 21751, 29399, 31411, 13005, 13014, 13015, 15861, 13876, 18602, 13021, 13171, 28565, 24491, 27397, 13197, 31523, 13198, 18616, 13250, 13254, 22952, 13268, 21483, 17655, 21386, 23254, 13278, 13309, 26025, 25039, 13331, 13359, 13378, 13393, 29031, 22466, 17971, 13420, 13421, 15776, 22422, 13496, 15925, 13522, 29926, 27963, 22868, 13585, 13587, 28273, 20653, 21106, 13919, 29979, 13606, 13614, 13630, 32110, 24265, 31912, 30802, 18025, 13742, 24905, 28757, 13772, 30111, 21145, 27543, 24120, 13778, 25518, 19497, 28173, 21855, 13782, 18556, 19347, 13796, 24506, 13805, 13862, 14003, 13865, 17827, 19499, 22552, 31075, 18732, 25178, 22396, 24962, 22882, 13933, 19220, 13976, 14000, 14007, 31876, 14015, 14031, 32372, 14055, 17055, 24951, 14316, 14061, 15573, 14086, 30818, 16287, 28608, 14125, 14139, 24142, 14171, 16170, 24090, 14195, 25243, 32023, 14293, 17757, 23984, 14317, 22915, 18735, 27262, 16613, 14408, 18527, 14409, 14415, 20023, 28613, 27473, 14492, 14459, 14476, 14516, 32428, 29540, 32183, 14536, 15056, 20950, 14579, 24652, 14590, 27640, 14592, 25031, 14602, 31837, 32195, 14604, 29516, 14617, 20816, 14630, 32253, 15419, 30619, 25267, 14665, 30409, 18582, 14706, 14737, 23710, 14790, 29063, 14908, 14943, 19188, 21619, 14998, 31967, 15004, 28256, 15009, 19892, 15014, 15032, 18082, 15069, 25273, 15115, 15172, 29256, 15216, 19819, 15267, 15286, 17178, 15296, 17780, 28736, 18690, 23257, 27270, 31807, 20729, 23133, 15416, 16680, 32138, 15421, 28161, 15505, 29513, 15528, 32326, 15537, 25239, 15544, 31972, 15546, 16617, 20481, 15559, 15568, 31377, 15574, 17572, 15578, 32380, 19614, 17666, 32574, 32422, 15657, 25365, 18826, 15662, 23068, 15686, 25408, 15709, 26014, 22275, 15711, 25717, 31130, 19344, 19961, 15852, 25294, 23402, 15909, 24439, 15927, 15968, 15994, 21262, 16061, 16063, 32278, 32014, 24918, 27451, 16093, 24031, 16094, 22715, 24907, 16105, 31991, 17046, 16130, 16158, 27600, 16173, 26604, 31483, 16174, 31451, 19498, 29112, 31418, 29126, 16205, 28308, 29487, 16218, 17012, 32009, 16246, 16778, 32316, 31821, 26481, 16267, 30324, 16299, 24355, 16302, 27312, 21286, 32071, 16421, 18069, 16431, 27296, 16441, 25043, 16510, 31423, 16513, 24586, 24569, 27373, 24145, 24658, 16941, 21941, 24644, 18624, 16607, 26866, 16648, 16700, 31134, 24109, 16715, 27785, 17212, 16743, 17602, 16764, 29664, 17528, 27019, 16843, 31818, 16920, 26865, 32438, 17024, 27138, 17062, 17089, 25631, 19217, 17117, 24628, 19685, 18383, 26145, 24563, 26997, 19238, 17239, 23442, 20027, 30816, 17262, 31610, 17285, 17347, 27103, 25237, 26165, 17486, 26939, 17490, 23500, 24055, 17573, 22532, 17588, 17599, 17622, 17605, 17613, 17615, 18809, 23514, 17625, 17643, 26677, 24979, 17681, 21251, 30387, 17732, 17734, 27611, 17752, 29269, 17771, 32252, 17830, 31344, 17911, 27800, 26530, 20907, 18055, 28669, 29445, 28267, 29942, 22109, 32056, 28751, 18112, 21667, 18208, 20289, 18318, 18225, 18254, 31875, 18540, 29081, 31951, 18560, 19714, 29005, 25537, 18623, 30989, 19785, 18644, 18648, 28661, 29028, 21309, 31999, 18711, 18713, 23429, 30600, 18719, 21883, 28259, 18764, 24572, 32341, 21413, 27802, 30336, 31904, 24883, 25782, 21640, 18894, 24841, 18902, 32359, 20548, 20686, 18994, 26403, 19211, 20738, 32119, 19227, 23817, 19228, 31591, 19231, 28722, 19297, 32300, 19311, 19343, 31577, 23729, 32149, 19407, 19410, 28771, 19428, 19434, 21400, 19441, 28384, 19478, 30674, 19519, 19521, 26632, 19560, 29252, 22249, 26113, 19579, 29855, 21244, 19634, 28598, 19654, 20369, 19656, 19694, 24957, 19762, 31921, 25089, 25864, 25540, 19807, 29310, 19854, 31169, 32233, 32170, 19869, 25255, 19881, 27729, 19967, 26144, 27504, 30206, 20047, 31445, 20138, 23376, 20890, 24381, 20179, 20182, 22821, 21444, 20308, 20315, 23139, 20322, 24260, 27151, 20379, 28321, 20730, 32176, 20475, 21388, 28292, 26797, 26154, 27508, 20610, 22214, 20679, 22897, 20712, 31243, 27203, 20728, 20745, 21351, 20809, 26513, 20975, 24034, 21098, 32172, 32373, 22760, 22969, 31492, 22922, 30033, 23419, 21210, 21578, 21227, 27284, 23900, 28996, 31394, 21273, 30995, 32021, 22430, 23279, 23171, 21486, 21492, 22442, 31487, 22621, 21690, 27485, 21774, 23258, 21790, 21872, 31031, 21921, 32216, 29844, 21938, 25168, 23378, 21965, 31173, 22074, 24450, 22168, 22176, 32336, 24125, 22248, 25129, 22255, 26196, 22494, 27026, 22520, 32123, 22911, 26878, 22529, 28879, 22554, 32356, 22582, 25917, 22602, 30059, 25460, 31415, 31882, 22689, 32358, 31959, 29084, 32244, 22834, 30262, 22888, 22917, 23838, 32350, 23004, 23010, 31223, 27799, 23112, 23116, 28928, 23160, 30277, 23289, 29389, 23350, 30416, 23362, 32410, 31961, 24106, 28667, 24451, 30162, 23521, 30959, 27279, 23594, 28770, 25221, 30845, 23643, 24902, 27384, 23685, 28581, 31084, 23726, 28125, 32217, 23782, 25151, 23785, 29831, 23823, 23948, 27101, 24620, 31040, 24063, 24140, 24161, 25400, 24184, 31299, 31380, 24215, 31785, 30668, 27480, 24425, 27455, 24663, 28043, 24912, 24914, 25045, 26877, 31963, 25138, 31072, 31012, 28778, 25253, 25279, 28442, 25372, 26508, 25419, 28110, 26786, 25613, 25620, 29959, 29336, 28946, 31956, 26918, 25750, 25871, 32312, 32236, 29874, 25898, 31089, 25954, 25976, 32413, 29567, 26053, 26120, 32351, 32000, 32120, 31920, 26156, 26177, 28097, 26270, 26359, 28760, 26437, 26498, 27920, 31839, 26776, 30257, 31814, 31923, 29647, 28378, 27124, 32347, 27253, 27311, 27415, 32194, 32224, 32423, 28086, 28170, 28441, 28340, 28320, 29703, 28503, 28516, 30581, 28576, 29155, 28707, 29344, 32137, 32396, 29527, 29554, 31902, 29642, 29837, 31874, 32412, 29900, 30085, 31305, 30091, 30955, 30244, 32059, 30834, 30921, 31267, 30933, 32288, 31024, 32366, 31397, 31486, 32400, 31541, 31867, 31565, 31803, 31802, 31806, 31841, 31846, 31953, 32076, 31894, 32079, 31901, 32275, 31907, 32028, 32384, 32020, 31929, 32436, 31944, 32330, 32220, 32027, 32084, 32126, 32130, 32164, 32221, 32411, 32284, 32369, 23881, 5317, 20855, 15201, 29518, 19976, 23777, 23690, 15744, 5621, 7700, 15522, 11334, 28255, 12671, 11900, 30973, 29033, 15697, 14358, 32189, 16355, 29828, 6273, 24097, 2306, 20458, 18001, 31642, 4666, 18915, 29476, 2483, 13120, 7100, 31996, 6559, 26777, 32097, 20205, 2428, 4442, 31323, 31909, 15954, 9115, 29356, 10276, 25127, 29502, 20251, 7183, 14151, 13595, 1203, 6254, 17601, 1075, 5944, 23393, 1260, 4131, 4137, 13093, 8562, 27778, 2709, 13828, 26693, 18565, 1596, 23949, 29167, 10343, 7960, 13424, 11972, 2476, 3197, 12582, 7876, 31955, 7569, 24248, 32044, 21069, 22709, 972, 61, 21448, 21906, 20827, 13419, 18734, 27499, 21327, 4294, 21776, 14691, 10410, 25765, 17456, 24013, 10656, 8417, 24107, 16561, 7270, 10808, 32163, 2439, 17834, 5585, 30958, 6468, 17507, 28624, 20697, 30819, 25120, 8677, 30884, 9429, 15482, 25208, 21564, 24239, 6552, 11968, 6743, 3244, 24062, 4567, 14059, 5780, 754, 4692, 32387, 3160, 2020, 2453, 12384, 31251, 26181, 14587, 19255, 9528, 22280, 10046, 14885, 25664, 4139, 17741, 19993, 8237, 16306, 29697, 25317, 29808, 19549, 2388, 5207, 28653, 6953, 3547, 3145, 21499, 9079, 24513, 19382, 5047, 21093, 25882, 16945, 28077, 65, 17931, 32370, 10696, 12824, 8041, 18614, 23398, 11520, 23484, 5052, 25995, 6341, 2385, 18912, 10377, 23661, 27888, 5702, 7553, 21208, 18010, 17041, 8924, 19665, 31123, 1901, 31595, 1349, 24098, 32451, 3843, 18647, 24017, 2083, 26916, 22573, 12628, 26218, 19861, 3842, 31064, 525, 6821, 14901, 2117, 12040, 32032, 18516, 20445, 20939, 16482, 21431, 8187, 19797, 8524, 29401, 23008, 30237, 31716, 18384, 18692, 19324, 5625, 15866, 5210, 5411, 426, 23287, 1354, 32294, 2697, 18253, 24845, 24261, 14678, 24455, 1659, 3255, 18937, 30696, 15017, 12158, 9570, 6855, 23716, 7311, 27545, 25625, 21068, 8778, 32106, 32421, 28716, 22504, 30539, 23870, 21575, 32297, 29270, 833, 18709, 23136, 17781, 12613, 4609, 27046, 7205, 23404, 6532, 32214, 20098, 6950, 6327, 18683, 4055, 22220, 11756, 28157, 27997, 18083, 13245, 9322, 26542, 29273, 16547, 12534, 11272, 15353, 291, 19259, 12013, 400, 24661, 10996, 18875, 791, 23196, 3790, 13736, 16220, 2694, 18553, 9883, 30836, 9590, 31986, 31346, 10216, 3906, 23390, 9860, 1852, 25889, 9086, 12282, 32292, 16268, 24550, 20076, 2579, 12481, 4615, 5333, 27097, 19377, 4759, 18596, 16918, 14962, 8398, 26456, 1013, 30322, 3814, 23269, 26362, 8059, 984, 31274, 8084, 24420, 26004, 18743, 49, 10317, 27250, 12499, 24504, 17595, 18536, 31143, 4030, 9620, 27368, 6223, 4202, 13903, 12413, 6836, 5431, 12000, 30474, 25289, 27771, 3566, 22383, 25963, 32302, 32265, 4473, 26517, 32006, 18575, 21995, 30796, 11373, 13079, 18701, 3504, 11702, 28768, 22477, 21859, 29264, 24632, 6599, 19376, 8093, 18645, 23501, 19511, 255, 1114, 5159, 29803, 30137, 22758, 26902, 1611, 15403, 4934, 2696, 5853, 31360, 22542, 27834, 28152, 29619, 12712, 7122, 12509, 23340, 16557, 28701, 28303, 12029, 19986, 16951, 13526, 23239, 23259, 23215, 15934, 17339, 17578, 23325, 30254, 20069, 28257, 12503, 23412, 3004, 9061, 15929, 20589, 20694, 24415, 26862, 15956, 32108, 805, 29135, 31823, 21580, 20028, 25415, 19972, 31619, 30757, 19338, 2769, 15727, 18462, 10166, 17885, 20399, 9592, 4283, 916, 30061, 24560, 21582, 20158, 31443, 26796, 30103, 31978, 5004, 3955, 19554, 13461, 28109, 31503, 20275, 23244, 29557, 546, 25589, 3429, 15147, 17504, 19375, 27717, 20782, 8213, 16842, 22295, 9616, 26426, 32157, 29437, 23878, 19764, 13800, 10959, 116, 686, 2732, 27083, 9209, 24503, 30436, 24612, 554, 13790, 13820, 8289, 13221, 3045, 5516, 21159, 25071, 176, 12097, 12353, 4322, 211, 2660, 1224, 6861, 14616, 21741, 327, 10344, 13825, 1000, 13349, 4654, 11875, 31536, 25574, 15029, 22674, 30127, 7323, 16626, 12778, 2805, 2419, 16031, 29627, 12866, 18812, 13091, 484, 10960, 26005, 28028, 23610, 5337, 12058, 28775, 14720, 21639, 3957, 12518, 18829, 23713, 10579, 15439, 8253, 4230, 2140, 2909, 9580, 28599, 19264, 24386, 21930, 10262, 32268, 24278, 7449, 1332, 7579, 12122]\n"
          ]
        },
        {
          "output_type": "stream",
          "name": "stderr",
          "text": [
            "ERROR:root:Internal Python error in the inspect module.\n",
            "Below is the traceback from this internal error.\n",
            "\n"
          ]
        },
        {
          "output_type": "stream",
          "name": "stdout",
          "text": [
            "Traceback (most recent call last):\n",
            "  File \"/usr/local/lib/python3.7/dist-packages/IPython/core/interactiveshell.py\", line 2882, in run_code\n",
            "    exec(code_obj, self.user_global_ns, self.user_ns)\n",
            "  File \"<ipython-input-33-a287194cee6e>\", line 1, in <module>\n",
            "    plot_graph(graph_trr_ar, 17, 30, '5_action_response.png')\n",
            "  File \"<ipython-input-32-9d2c04266014>\", line 19, in plot_graph\n",
            "    races = [race_map.get(gx.vertices.filter(gx.vertices['id'] == node).select('race').collect()[0][0]) for node in g.nodes()]\n",
            "  File \"<ipython-input-32-9d2c04266014>\", line 19, in <listcomp>\n",
            "    races = [race_map.get(gx.vertices.filter(gx.vertices['id'] == node).select('race').collect()[0][0]) for node in g.nodes()]\n",
            "  File \"/usr/local/lib/python3.7/dist-packages/pyspark/sql/dataframe.py\", line 693, in collect\n",
            "    sock_info = self._jdf.collectToPython()\n",
            "  File \"/usr/local/lib/python3.7/dist-packages/py4j/java_gateway.py\", line 1308, in __call__\n",
            "    answer = self.gateway_client.send_command(command)\n",
            "  File \"/usr/local/lib/python3.7/dist-packages/py4j/java_gateway.py\", line 1038, in send_command\n",
            "    response = connection.send_command(command)\n",
            "  File \"/usr/local/lib/python3.7/dist-packages/py4j/clientserver.py\", line 475, in send_command\n",
            "    answer = smart_decode(self.stream.readline()[:-1])\n",
            "  File \"/usr/lib/python3.7/socket.py\", line 589, in readinto\n",
            "    return self._sock.recv_into(b)\n",
            "KeyboardInterrupt\n",
            "\n",
            "During handling of the above exception, another exception occurred:\n",
            "\n",
            "Traceback (most recent call last):\n",
            "  File \"/usr/local/lib/python3.7/dist-packages/IPython/core/interactiveshell.py\", line 1823, in showtraceback\n",
            "    stb = value._render_traceback_()\n",
            "AttributeError: 'KeyboardInterrupt' object has no attribute '_render_traceback_'\n",
            "\n",
            "During handling of the above exception, another exception occurred:\n",
            "\n",
            "Traceback (most recent call last):\n",
            "  File \"/usr/local/lib/python3.7/dist-packages/IPython/core/ultratb.py\", line 1132, in get_records\n",
            "    return _fixed_getinnerframes(etb, number_of_lines_of_context, tb_offset)\n",
            "  File \"/usr/local/lib/python3.7/dist-packages/IPython/core/ultratb.py\", line 313, in wrapped\n",
            "    return f(*args, **kwargs)\n",
            "  File \"/usr/local/lib/python3.7/dist-packages/IPython/core/ultratb.py\", line 358, in _fixed_getinnerframes\n",
            "    records = fix_frame_records_filenames(inspect.getinnerframes(etb, context))\n",
            "  File \"/usr/lib/python3.7/inspect.py\", line 1502, in getinnerframes\n",
            "    frameinfo = (tb.tb_frame,) + getframeinfo(tb, context)\n",
            "  File \"/usr/lib/python3.7/inspect.py\", line 1460, in getframeinfo\n",
            "    filename = getsourcefile(frame) or getfile(frame)\n",
            "  File \"/usr/lib/python3.7/inspect.py\", line 696, in getsourcefile\n",
            "    if getattr(getmodule(object, filename), '__loader__', None) is not None:\n",
            "  File \"/usr/lib/python3.7/inspect.py\", line 742, in getmodule\n",
            "    os.path.realpath(f)] = module.__name__\n",
            "  File \"/usr/lib/python3.7/posixpath.py\", line 395, in realpath\n",
            "    path, ok = _joinrealpath(filename[:0], filename, {})\n",
            "  File \"/usr/lib/python3.7/posixpath.py\", line 429, in _joinrealpath\n",
            "    if not islink(newpath):\n",
            "  File \"/usr/lib/python3.7/posixpath.py\", line 171, in islink\n",
            "    st = os.lstat(path)\n",
            "KeyboardInterrupt\n"
          ]
        },
        {
          "output_type": "error",
          "ename": "KeyboardInterrupt",
          "evalue": "ignored",
          "traceback": [
            "\u001b[0;31m---------------------------------------------------------------------------\u001b[0m"
          ]
        },
        {
          "output_type": "display_data",
          "data": {
            "text/plain": [
              "<Figure size 510x510 with 0 Axes>"
            ]
          },
          "metadata": {}
        }
      ]
    },
    {
      "cell_type": "code",
      "metadata": {
        "id": "kvC21LjFiDSH"
      },
      "source": [
        "#plot_graph(graph_force, 150, 40, 'use_of_force.png')"
      ],
      "execution_count": null,
      "outputs": []
    },
    {
      "cell_type": "code",
      "metadata": {
        "id": "DvotBD-9AE8Y"
      },
      "source": [
        "#plot_graph(graph_partners, 15, 8, \"partners.png\")"
      ],
      "execution_count": null,
      "outputs": []
    }
  ]
}