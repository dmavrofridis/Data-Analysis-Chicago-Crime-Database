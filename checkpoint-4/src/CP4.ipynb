{
  "nbformat": 4,
  "nbformat_minor": 0,
  "metadata": {
    "colab": {
      "name": "CP4.ipynb",
      "provenance": [],
      "collapsed_sections": [
        "i1rSPkEaS_rL"
      ]
    },
    "kernelspec": {
      "display_name": "Python 3",
      "name": "python3"
    },
    "language_info": {
      "name": "python"
    },
    "accelerator": "GPU"
  },
  "cells": [
    {
      "cell_type": "markdown",
      "metadata": {
        "id": "i1rSPkEaS_rL"
      },
      "source": [
        "#CHECKPOINT 4"
      ]
    },
    {
      "cell_type": "markdown",
      "metadata": {
        "id": "UHMwakkymZfI"
      },
      "source": [
        "# **Spark and GraphFrames Set Up**\n"
      ]
    },
    {
      "cell_type": "code",
      "metadata": {
        "colab": {
          "base_uri": "https://localhost:8080/"
        },
        "id": "8q9GaenM0qTu",
        "outputId": "0bfe77a4-6886-4004-c6a0-ab2387362658"
      },
      "source": [
        "# install java\n",
        "!apt-get install openjdk-8-jdk-headless -qq > /dev/null\n",
        "\n",
        "# install spark (change the version number if needed)\n",
        "!wget -q https://archive.apache.org/dist/spark/spark-3.2.0/spark-3.2.0-bin-hadoop3.2.tgz\n",
        "\n",
        "# unzip the spark file to the current folder\n",
        "!tar xf spark-3.2.0-bin-hadoop3.2.tgz\n",
        "\n",
        "# set your spark folder to your system path environment. \n",
        "import os\n",
        "os.environ[\"JAVA_HOME\"] = \"/usr/lib/jvm/java-8-openjdk-amd64\"\n",
        "os.environ[\"SPARK_HOME\"] = \"/content/spark-3.2.0-bin-hadoop3.2\"\n",
        "\n",
        "# install findspark using pip\n",
        "!pip install -q findspark\n",
        "\n",
        "# install pyspark\n",
        "!pip3 install pyspark==3.2.0\n",
        "\n",
        "# install graphframes\n",
        "!pip3 install graphframes"
      ],
      "execution_count": 1,
      "outputs": [
        {
          "output_type": "stream",
          "name": "stdout",
          "text": [
            "Collecting pyspark==3.2.0\n",
            "  Downloading pyspark-3.2.0.tar.gz (281.3 MB)\n",
            "\u001b[K     |████████████████████████████████| 281.3 MB 44 kB/s \n",
            "\u001b[?25hCollecting py4j==0.10.9.2\n",
            "  Downloading py4j-0.10.9.2-py2.py3-none-any.whl (198 kB)\n",
            "\u001b[K     |████████████████████████████████| 198 kB 47.4 MB/s \n",
            "\u001b[?25hBuilding wheels for collected packages: pyspark\n",
            "  Building wheel for pyspark (setup.py) ... \u001b[?25l\u001b[?25hdone\n",
            "  Created wheel for pyspark: filename=pyspark-3.2.0-py2.py3-none-any.whl size=281805912 sha256=f5f419772c18871b68e877a3ffc86e717f10de9d312790feade4235f4f2b656c\n",
            "  Stored in directory: /root/.cache/pip/wheels/0b/de/d2/9be5d59d7331c6c2a7c1b6d1a4f463ce107332b1ecd4e80718\n",
            "Successfully built pyspark\n",
            "Installing collected packages: py4j, pyspark\n",
            "Successfully installed py4j-0.10.9.2 pyspark-3.2.0\n",
            "Collecting graphframes\n",
            "  Downloading graphframes-0.6-py2.py3-none-any.whl (18 kB)\n",
            "Requirement already satisfied: numpy in /usr/local/lib/python3.7/dist-packages (from graphframes) (1.19.5)\n",
            "Collecting nose\n",
            "  Downloading nose-1.3.7-py3-none-any.whl (154 kB)\n",
            "\u001b[K     |████████████████████████████████| 154 kB 6.4 MB/s \n",
            "\u001b[?25hInstalling collected packages: nose, graphframes\n",
            "Successfully installed graphframes-0.6 nose-1.3.7\n"
          ]
        }
      ]
    },
    {
      "cell_type": "markdown",
      "metadata": {
        "id": "Li40SzYtq0H6"
      },
      "source": [
        "Download the graphframes jar file from: [Graphframe jar file:](https://repos.spark-packages.org/graphframes/graphframes/0.8.2-spark3.2-s_2.12/graphframes-0.8.2-spark3.2-s_2.12.jar)\n",
        "\n",
        "Upload it in the Google Colab Files folder. Can be found in the left pane of this window."
      ]
    },
    {
      "cell_type": "code",
      "metadata": {
        "colab": {
          "base_uri": "https://localhost:8080/"
        },
        "id": "6MVIEKxAHykk",
        "outputId": "a76301be-f7db-4c34-ca0e-4ed44b6f079d"
      },
      "source": [
        "!cp -v /content/graphframes-0.8.2-spark3.2-s_2.12.jar $SPARK_HOME/jars/"
      ],
      "execution_count": 2,
      "outputs": [
        {
          "output_type": "stream",
          "name": "stdout",
          "text": [
            "'/content/graphframes-0.8.2-spark3.2-s_2.12.jar' -> '/content/spark-3.2.0-bin-hadoop3.2/jars/graphframes-0.8.2-spark3.2-s_2.12.jar'\n"
          ]
        }
      ]
    },
    {
      "cell_type": "code",
      "metadata": {
        "id": "vMzCLSn81Grr"
      },
      "source": [
        "#import the packages\n",
        "from pyspark import *\n",
        "from pyspark.sql import *\n",
        "from graphframes import *\n",
        "import findspark\n",
        "import pandas as pd\n",
        "\n",
        "findspark.init()\n",
        "\n",
        "# Start a Spark session\n",
        "spark = SparkSession.builder.master(\"local[*]\").getOrCreate()"
      ],
      "execution_count": 3,
      "outputs": []
    },
    {
      "cell_type": "code",
      "metadata": {
        "id": "SThwmx3Mf2HK"
      },
      "source": [
        "import matplotlib.pyplot as plt\n"
      ],
      "execution_count": 4,
      "outputs": []
    },
    {
      "cell_type": "code",
      "metadata": {
        "id": "1ei_oY0-OcaJ",
        "colab": {
          "base_uri": "https://localhost:8080/"
        },
        "outputId": "7f25f291-1f18-482f-848e-b3a80c1d9acf"
      },
      "source": [
        "import psycopg2"
      ],
      "execution_count": 5,
      "outputs": [
        {
          "output_type": "stream",
          "name": "stderr",
          "text": [
            "/usr/local/lib/python3.7/dist-packages/psycopg2/__init__.py:144: UserWarning: The psycopg2 wheel package will be renamed from release 2.8; in order to keep installing from binary please use \"pip install psycopg2-binary\" instead. For details see: <http://initd.org/psycopg/docs/install.html#binary-install-from-pypi>.\n",
            "  \"\"\")\n"
          ]
        }
      ]
    },
    {
      "cell_type": "code",
      "metadata": {
        "id": "L4YGowB2Occ7"
      },
      "source": [
        "# access the postgresql server\n",
        "conn = psycopg2.connect(\n",
        "    host=\"codd04.research.northwestern.edu\",\n",
        "    port = \"5433\",\n",
        "    database=\"postgres\",\n",
        "    user=\"cpdbstudent\",\n",
        "    password=\"DataSci4AI\")"
      ],
      "execution_count": 6,
      "outputs": []
    },
    {
      "cell_type": "code",
      "metadata": {
        "id": "fUSZMYh5Ohg7"
      },
      "source": [
        "cursor = conn.cursor()"
      ],
      "execution_count": 7,
      "outputs": []
    },
    {
      "cell_type": "markdown",
      "metadata": {
        "id": "SU4hrZCFOsxv"
      },
      "source": [
        "#Action Response Queries\n"
      ]
    },
    {
      "cell_type": "code",
      "metadata": {
        "id": "MMV7h77n2sDz"
      },
      "source": [
        "action_response_edges_query = \"\"\"\n",
        "DROP TABLE IF EXISTS partners;\n",
        "CREATE TEMP TABLE partners AS (\n",
        "    SELECT a.officer_id AS officer_id_a, b.officer_id AS officer_id_b\n",
        "        FROM data_officerassignmentattendance a, data_officerassignmentattendance b\n",
        "        WHERE a.start_timestamp = b.start_timestamp AND a.beat_id = b.beat_id\n",
        "        AND a.present_for_duty AND b.present_for_duty AND a.officer_id <> b.officer_id\n",
        "            GROUP BY a.officer_id, b.officer_id\n",
        "            HAVING count(*) > 100\n",
        "\n",
        ");\n",
        "DROP TABLE IF EXISTS connected;\n",
        "CREATE TEMP TABLE connected AS (\n",
        "WITH filtered_trrs AS (\n",
        "    SELECT officer_id, event_id, trr_datetime, action_category FROM trr_trr\n",
        "        JOIN trr_actionresponse ta on trr_trr.id = ta.trr_id\n",
        "        WHERE cast(action_category as float) >= %(action_response)s\n",
        ")\n",
        ",\n",
        "events AS(\n",
        "SELECT count(officer_id) AS count, event_id, trr_datetime FROM filtered_trrs\n",
        "    GROUP BY  event_id, trr_datetime)\n",
        "\n",
        ",\n",
        "linked_officer_ids AS (\n",
        "    SELECT events.event_id, officer_id, count FROM events\n",
        "        LEFT JOIN trr_trr ON events.event_id = trr_trr.event_id\n",
        "        WHERE count > 1\n",
        ")\n",
        ",\n",
        "officer_connections AS (\n",
        "    SELECT A.officer_id AS officer_id1, B.officer_id AS officer_id2, A.event_id AS event_id\n",
        "        FROM linked_officer_ids A, linked_officer_ids B\n",
        "        WHERE A.event_id = B.event_id\n",
        "            AND A.officer_id <> B.officer_id\n",
        "\n",
        "        ORDER BY officer_id1\n",
        ")\n",
        "\n",
        "SELECT officer_id1 as src, officer_id2 as dst,  event_id FROM officer_connections );\n",
        "SELECT * FROM connected WHERE (src, dst) NOT IN (SELECT * FROM partners)\n",
        "\"\"\""
      ],
      "execution_count": 8,
      "outputs": []
    },
    {
      "cell_type": "code",
      "metadata": {
        "id": "I34omuiweOFQ"
      },
      "source": [
        "action_response_vertices_query = \"\"\"\n",
        "WITH filtered_trrs AS (\n",
        "    SELECT officer_id, event_id, action_category FROM trr_trr\n",
        "        JOIN trr_actionresponse ta on trr_trr.id = ta.trr_id\n",
        "        WHERE cast(action_category as float) >= %(action_response)s\n",
        ")\n",
        ",\n",
        "events AS(\n",
        "SELECT count(officer_id) AS count, event_id FROM filtered_trrs\n",
        "    GROUP BY  event_id)\n",
        "\n",
        ",\n",
        "linked_officer_ids AS (\n",
        "    SELECT events.event_id, officer_id, count FROM events\n",
        "        LEFT JOIN trr_trr ON events.event_id = trr_trr.event_id\n",
        "        WHERE count > 1\n",
        ")\n",
        ",\n",
        "linked_officers AS (\n",
        "    SELECT first_name, middle_initial, last_name, gender, race, trr_count,\n",
        "           trr_percentile, id FROM data_officer\n",
        "            JOIN linked_officer_ids ON data_officer.id = linked_officer_ids.officer_id\n",
        "    )\n",
        "\n",
        "SELECT * FROM linked_officers\n",
        "\n",
        "\n",
        "\"\"\""
      ],
      "execution_count": 9,
      "outputs": []
    },
    {
      "cell_type": "code",
      "metadata": {
        "id": "2zg48zFfZ8Re"
      },
      "source": [
        "cursor.execute(\"rollback\")"
      ],
      "execution_count": 10,
      "outputs": []
    },
    {
      "cell_type": "markdown",
      "metadata": {
        "id": "M9qnNp3_9QIX"
      },
      "source": [
        "#Partners Graph"
      ]
    },
    {
      "cell_type": "code",
      "metadata": {
        "id": "YNGzyVTlP6Zj"
      },
      "source": [
        "cursor.execute(action_response_vertices_query, \n",
        "               {'action_response' : 5})\n",
        "vertices = cursor.fetchall()\n",
        "\n",
        "\n",
        "df_vertices_ar = pd.DataFrame(vertices)\n",
        "colnames = [desc[0] for desc in cursor.description]\n",
        "df_vertices_ar.columns = colnames\n",
        "\n",
        "df_vertices_ar.drop_duplicates(['id'], keep='first', inplace=True)\n"
      ],
      "execution_count": 11,
      "outputs": []
    },
    {
      "cell_type": "code",
      "metadata": {
        "colab": {
          "base_uri": "https://localhost:8080/"
        },
        "id": "HAAAAxavOl7g",
        "outputId": "1be9e02d-9f5c-4714-d6db-a9339e4cb51a"
      },
      "source": [
        "cursor.execute(action_response_edges_query, {'action_response' : 5})\n",
        "edges = cursor.fetchall()\n",
        "\n",
        "df_edges_ar = pd.DataFrame(edges)\n",
        "colnames = [desc[0] for desc in cursor.description]\n",
        "df_edges_ar.columns = colnames\n",
        "\n",
        "print(df_edges_ar.shape)\n"
      ],
      "execution_count": 12,
      "outputs": [
        {
          "output_type": "stream",
          "name": "stdout",
          "text": [
            "(29944, 3)\n"
          ]
        }
      ]
    },
    {
      "cell_type": "code",
      "metadata": {
        "id": "fZNnghoU9PyS"
      },
      "source": [
        "cursor.execute(\"SELECT officer_id_a as src, officer_id_b as dst FROM partners\")\n",
        "edges = cursor.fetchall()\n",
        "\n",
        "df_edges_partners = pd.DataFrame(edges)\n",
        "colnames = [desc[0] for desc in cursor.description]\n",
        "df_edges_partners.columns = colnames\n"
      ],
      "execution_count": 13,
      "outputs": []
    },
    {
      "cell_type": "code",
      "metadata": {
        "id": "W11v2w5B9sq8"
      },
      "source": [
        "cursor.execute(\"SELECT id, first_name, last_name, race, gender, trr_percentile FROM data_officer\")\n",
        "vertices = cursor.fetchall()\n",
        "df_vertices_partners = pd.DataFrame(vertices)\n",
        "colnames = [desc[0] for desc in cursor.description]\n",
        "df_vertices_partners.columns = colnames\n",
        "\n",
        "# df_vertices_partners = df_vertices_partners.sample(1000)\n"
      ],
      "execution_count": 14,
      "outputs": []
    },
    {
      "cell_type": "code",
      "metadata": {
        "id": "OeJ54DtFhbUl",
        "colab": {
          "base_uri": "https://localhost:8080/"
        },
        "outputId": "7b30fd19-62f3-4952-87dc-4137fa54ad7f"
      },
      "source": [
        "df_vertices_partners.shape"
      ],
      "execution_count": 15,
      "outputs": [
        {
          "output_type": "execute_result",
          "data": {
            "text/plain": [
              "(35545, 6)"
            ]
          },
          "metadata": {},
          "execution_count": 15
        }
      ]
    },
    {
      "cell_type": "code",
      "metadata": {
        "id": "mWSIkvWi-Fsr"
      },
      "source": [
        "spark_edges_p = spark.createDataFrame(df_edges_partners)\n",
        "spark_vertices_p = spark.createDataFrame(df_vertices_partners)\n",
        "# spark_vertices_p = spark_vertices_p.takeSample(False, 1000)\n",
        "graph_partners = GraphFrame(spark_vertices_p, spark_edges_p)\n",
        "graph_partners = graph_partners.dropIsolatedVertices()\n"
      ],
      "execution_count": 16,
      "outputs": []
    },
    {
      "cell_type": "code",
      "metadata": {
        "id": "r1gsgudDi0gx",
        "colab": {
          "base_uri": "https://localhost:8080/"
        },
        "outputId": "0a4f66a4-1892-4290-a8d6-24433f0e7564"
      },
      "source": [
        "spark_vertices_p.show()"
      ],
      "execution_count": 17,
      "outputs": [
        {
          "output_type": "stream",
          "name": "stdout",
          "text": [
            "+-----+----------+---------+-----+------+--------------------+\n",
            "|   id|first_name|last_name| race|gender|      trr_percentile|\n",
            "+-----+----------+---------+-----+------+--------------------+\n",
            "|32312|   Randall|     Ryan|White|     M|63.00350000000000...|\n",
            "|32358|     Kevin|    Stoll|White|     M|67.91100000000000...|\n",
            "|32480|     David|    Lavin|White|     M|               0E-18|\n",
            "|32491|     Kevin|     Rake|White|     M|               0E-18|\n",
            "| 2680|   Richard|   Brandt|White|     M|                null|\n",
            "|29553|      Hugh|Versteegh|White|     M|                null|\n",
            "|19974|    Andrew|   Murcia|White|     M|                null|\n",
            "| 8259|      Hugh|   Farmer|White|     M|                null|\n",
            "|17716|   Anthony|  Matassa|White|     M|                null|\n",
            "|19659|      John| Moriarty|White|     M|                null|\n",
            "|32506|   Richard|  Francis|White|     M|               0E-18|\n",
            "|29111|    Robert|    Tyson|Black|     M|                null|\n",
            "| 1791|      Chas| Bennette|Black|     M|                null|\n",
            "|17146|    Robert|   Malone|White|     M|                null|\n",
            "|17242|     Jerry|  Manning|White|     M|                null|\n",
            "|17289|   Michael|  Maratto|White|     M|                null|\n",
            "|32467|  Jonathan|     Boyd|Black|     M|               0E-18|\n",
            "|33755|   Phyllis|  Butcher|Black|     F|                null|\n",
            "|  333|     Leroy|Alexander|Black|     M|                null|\n",
            "|18597|     James|  Mcglynn|White|     M|                null|\n",
            "+-----+----------+---------+-----+------+--------------------+\n",
            "only showing top 20 rows\n",
            "\n"
          ]
        }
      ]
    },
    {
      "cell_type": "code",
      "metadata": {
        "id": "lWxmZwlHmXV6",
        "colab": {
          "base_uri": "https://localhost:8080/"
        },
        "outputId": "932ac72e-5a00-4872-b637-18cbf445daaf"
      },
      "source": [
        "partner_pr = graph_partners.pageRank(tol=0.01)\n",
        "partner_pr.vertices.sort(['pagerank'], ascending=False).show()"
      ],
      "execution_count": 18,
      "outputs": [
        {
          "output_type": "stream",
          "name": "stdout",
          "text": [
            "+-----+----------+----------+--------+------+--------------------+------------------+\n",
            "|   id|first_name| last_name|    race|gender|      trr_percentile|          pagerank|\n",
            "+-----+----------+----------+--------+------+--------------------+------------------+\n",
            "|35493|    Andres|   Naranjo|Hispanic|     M|                null|6.3520486820168465|\n",
            "|35488|  Angelina|     Cahue|Hispanic|     F|                null|6.3520486820168465|\n",
            "|35474|    George|   Freeman|   Black|     M|                null|2.9286286668165373|\n",
            "| 8516|      Gary|   Fillipo|   White|     M|               0E-18|2.7685288388728924|\n",
            "|25864|   Matthew|     Scott|   White|     M|75.20710000000000...| 2.527241533998547|\n",
            "|25521|     David|   Scafidi|   White|     M|78.27070000000000...|  2.50943978369884|\n",
            "|15105|    Dennis|  Kounavis|   White|     M|49.10360000000000...| 2.495062723974873|\n",
            "|28763|     Louis|    Torres|Hispanic|     M|93.47550000000000...|2.4587936178989325|\n",
            "|31158|         J|   Wombles|   White|     M|38.90280000000000...|2.4496089844521074|\n",
            "|13862|   Matthew|    Joritz|   White|     M|89.11830000000000...| 2.363767234567469|\n",
            "|13234|  Jonathan|     Janas|   White|     M|99.13200000000000...| 2.352400061948292|\n",
            "|27913|    Pamela|    Sutton|   Black|     F|               0E-18|2.3349931618333137|\n",
            "|12079|   Horacio|   Herrera|Hispanic|     M|81.09610000000000...|2.3284876698339105|\n",
            "|17696|      John|Mastandrea|   White|     M|               0E-18|2.3205818392183137|\n",
            "|10879|    Lorrie|  Grossman|   White|     F|               0E-18|2.3046707229161623|\n",
            "|20734|     Mayda|     Nunez|Hispanic|     F|66.48130000000000...|2.2216935129264774|\n",
            "|15943|      Eric|       Lee|   Black|     M|49.10360000000000...|2.2216935129264774|\n",
            "|23389|     Ruben|   Ramirez|Hispanic|     M|38.90280000000000...| 2.221693512926477|\n",
            "|22911|    Niyell|    Powell|   Black|     M|78.27070000000000...| 2.221693512926477|\n",
            "|24464|     Jaime| Rodriguez|Hispanic|     M|63.00350000000000...|2.1427331220215775|\n",
            "+-----+----------+----------+--------+------+--------------------+------------------+\n",
            "only showing top 20 rows\n",
            "\n"
          ]
        }
      ]
    },
    {
      "cell_type": "code",
      "metadata": {
        "id": "Xv26TxKVZyRv",
        "colab": {
          "base_uri": "https://localhost:8080/",
          "height": 1000
        },
        "outputId": "1dd8cd30-6b71-4f38-98bb-90993e4ecae1"
      },
      "source": [
        "partner_tc = graph_partners.triangleCount()\n",
        "partner_tc.sort([\"count\"], ascending=False).select(\"first_name\", \"last_name\",\"race\", \"gender\", \"id\", \"trr_percentile\", \"count\").show(30)\n",
        "bins, counts = partner_tc.select('count').rdd.flatMap(lambda x: x).histogram(30)\n",
        "plt.hist(bins[:-1], bins=bins, weights=counts)\n"
      ],
      "execution_count": 19,
      "outputs": [
        {
          "output_type": "stream",
          "name": "stdout",
          "text": [
            "+----------+---------+--------+------+-----+--------------------+-----+\n",
            "|first_name|last_name|    race|gender|   id|      trr_percentile|count|\n",
            "+----------+---------+--------+------+-----+--------------------+-----+\n",
            "|  Angelina|    Cahue|Hispanic|     F|35488|                null|   71|\n",
            "|    Andres|  Naranjo|Hispanic|     M|35493|                null|   71|\n",
            "|    George|  Freeman|   Black|     M|35474|                null|   49|\n",
            "|   Pauline|    Heard|   Black|     F|11823|38.90280000000000...|   18|\n",
            "|    Dennis| Kounavis|   White|     M|15105|49.10360000000000...|   18|\n",
            "|         J|  Wombles|   White|     M|31158|38.90280000000000...|   18|\n",
            "|    Pamela|    Smith|   Black|     F|26881|               0E-18|   16|\n",
            "| Alexander|    Verta|   White|     M|35500|                null|   16|\n",
            "|     Debra|   Howard|   Black|     F|12634|49.10360000000000...|   15|\n",
            "|  Camillea|    Towns|   Black|     F|35545|                null|   15|\n",
            "| Alexander| Strockis|   White|     M|35446|                null|   15|\n",
            "|     Andre|  Balseca|Hispanic|     M|35462|                null|   15|\n",
            "|     Baker|Alfarajat|   White|     M|35423|                null|   15|\n",
            "|   Brandon|   Wilson|   Black|     M|35534|                null|   15|\n",
            "|   Gustavo|   Segura|Hispanic|     M|35516|                null|   15|\n",
            "|     Jesse|  Vazquez|Hispanic|     M|35431|                null|   15|\n",
            "|    Gisela| Santiago|Hispanic|     F|25412|               0E-18|   14|\n",
            "|   Belinda|    Moyer|   White|     F|19811|               0E-18|   14|\n",
            "|      Jose| Chambers|   Black|     M| 4387|49.10360000000000...|   14|\n",
            "|    Steven|Bacoyanis|   White|     M| 1044|38.90280000000000...|   13|\n",
            "|   Cynthia|   Tornes|   Black|     F|28728|               0E-18|   12|\n",
            "|     Carol|   Davros|   White|     F| 6396|               0E-18|   11|\n",
            "|   Michael|   Rucker|   Black|     M|24856|49.10360000000000...|   11|\n",
            "|   Beverly|  Glinsey|   Black|     F|10097|49.10360000000000...|   11|\n",
            "| Cornelius|     Knox|   Black|     M|14882|38.90280000000000...|   11|\n",
            "|   Latrice|   Austin|   Black|     F|  969|38.90280000000000...|   11|\n",
            "|      Jill|  Johnson|   Black|     F|13634|               0E-18|   11|\n",
            "|    Ronald|  Burrell|   Black|     M| 3431|               0E-18|   11|\n",
            "|     Carla|  Watkins|   Black|     F|30168|61.53410000000000...|   10|\n",
            "|   Ciprian|     Iuga|   White|     M|35507|                null|   10|\n",
            "+----------+---------+--------+------+-----+--------------------+-----+\n",
            "only showing top 30 rows\n",
            "\n"
          ]
        },
        {
          "output_type": "execute_result",
          "data": {
            "text/plain": [
              "(array([5.936e+03, 6.900e+01, 4.000e+01, 1.400e+01, 2.800e+01, 5.000e+00,\n",
              "        1.000e+01, 3.000e+00, 0.000e+00, 0.000e+00, 0.000e+00, 0.000e+00,\n",
              "        0.000e+00, 0.000e+00, 0.000e+00, 0.000e+00, 0.000e+00, 0.000e+00,\n",
              "        0.000e+00, 0.000e+00, 1.000e+00, 0.000e+00, 0.000e+00, 0.000e+00,\n",
              "        0.000e+00, 0.000e+00, 0.000e+00, 0.000e+00, 0.000e+00, 2.000e+00]),\n",
              " array([ 0.        ,  2.36666667,  4.73333333,  7.1       ,  9.46666667,\n",
              "        11.83333333, 14.2       , 16.56666667, 18.93333333, 21.3       ,\n",
              "        23.66666667, 26.03333333, 28.4       , 30.76666667, 33.13333333,\n",
              "        35.5       , 37.86666667, 40.23333333, 42.6       , 44.96666667,\n",
              "        47.33333333, 49.7       , 52.06666667, 54.43333333, 56.8       ,\n",
              "        59.16666667, 61.53333333, 63.9       , 66.26666667, 68.63333333,\n",
              "        71.        ]),\n",
              " <a list of 30 Patch objects>)"
            ]
          },
          "metadata": {},
          "execution_count": 19
        },
        {
          "output_type": "display_data",
          "data": {
            "image/png": "[encoded data removed]",
            "text/plain": [
              "<Figure size 432x288 with 1 Axes>"
            ]
          },
          "metadata": {
            "needs_background": "light"
          }
        }
      ]
    },
    {
      "cell_type": "markdown",
      "metadata": {
        "id": "THJg6aroSF7J"
      },
      "source": [
        "###Action Response Graph Generation"
      ]
    },
    {
      "cell_type": "code",
      "metadata": {
        "id": "hmCCunN_SGa6"
      },
      "source": [
        "spark_edges_ar = spark.createDataFrame(df_edges_ar)\n",
        "spark_vertices_ar = spark.createDataFrame(df_vertices_ar)"
      ],
      "execution_count": 20,
      "outputs": []
    },
    {
      "cell_type": "code",
      "metadata": {
        "id": "Rq9qsOh0TL7q"
      },
      "source": [
        "graph_trr_ar = GraphFrame(spark_vertices_ar, spark_edges_ar)"
      ],
      "execution_count": 21,
      "outputs": []
    },
    {
      "cell_type": "code",
      "metadata": {
        "id": "csdBNkC8aQlo",
        "colab": {
          "base_uri": "https://localhost:8080/"
        },
        "outputId": "009edee0-9a3d-4431-83d8-87a9ec630427"
      },
      "source": [
        "trr_ar_pr = graph_trr_ar.pageRank(tol=0.01)\n",
        "trr_ar_pr.vertices.sort(['pagerank'], ascending=False).show()"
      ],
      "execution_count": 22,
      "outputs": [
        {
          "output_type": "stream",
          "name": "stdout",
          "text": [
            "+----------+--------------+-----------+------+--------------------+---------+--------------------+-----+------------------+\n",
            "|first_name|middle_initial|  last_name|gender|                race|trr_count|      trr_percentile|   id|          pagerank|\n",
            "+----------+--------------+-----------+------+--------------------+---------+--------------------+-----+------------------+\n",
            "|    Angelo|          null|    Mandile|     M|               White|       19|97.07820000000000...|17189| 7.088693789238327|\n",
            "|     Chris|          null|Skarupinski|     M|               White|       26|98.97880000000000...|26540| 6.514403831607933|\n",
            "|    George|             A|    Granias|     M|Native American/A...|       72|99.96030000000000...|10583| 5.945596545668317|\n",
            "| Evangelos|          null|    Hitiris|     M|               White|       41|99.21710000000000...|12299| 5.416864128845634|\n",
            "|   Gerardo|          null|       Vega|     M|            Hispanic|       27|98.59870000000000...|29454| 5.173808348274441|\n",
            "|   Phillip|             E|    Orlando|     M|            Hispanic|       41|99.21710000000000...|21371|  4.83394353484365|\n",
            "|  Nicholas|             G|     Harris|     M|               White|       14|93.93510000000000...|11511| 4.819226922813175|\n",
            "|   Vincent|             P| Baldassano|     M|               White|       21|94.87120000000000...|31815| 4.793859020977274|\n",
            "| Christoph|             M|   Saladino|     M|            Hispanic|       26|96.84560000000000...|25155| 4.666503524123934|\n",
            "|    Nellie|          null|       Harb|     F|            Hispanic|       22|95.38180000000000...|11384| 4.612397319201346|\n",
            "|   Zachary|             Q|     Rubald|     M|               White|       48|99.56310000000000...|32307| 4.454897559640676|\n",
            "|      Mark|             A|    Johnson|     M|               Black|       46|99.91490000000000...|13605| 4.452133799583156|\n",
            "|     Marco|             P|     Proano|     M|            Hispanic|       32|99.25110000000000...|23036|4.3914818354297545|\n",
            "|    Samuel|             K|  Truesdale|     M|               White|       51|99.87520000000000...|28968| 4.339209959586576|\n",
            "|    Hardik|             B|     Suthar|     M|       Asian/Pacific|       25|98.24120000000000...|27900|4.2334510778317025|\n",
            "|      John|             R|   Lavorata|     M|               White|       31|98.10510000000000...|15811| 4.225713529653897|\n",
            "|      Paul|             M|     Powers|     M|               White|       30|97.96890000000000...|32271| 4.204757933092048|\n",
            "|     Wayne|             A|     Wiberg|     M|               White|       30|97.83840000000000...|30561| 4.198643045689478|\n",
            "|     James|             B|       Wynn|     M|               White|       19|93.66280000000000...|31337| 4.093139033048941|\n",
            "|    Miguel|             A|       Vera|     M|            Hispanic|       33|99.35890000000000...|29529| 4.041489544012514|\n",
            "+----------+--------------+-----------+------+--------------------+---------+--------------------+-----+------------------+\n",
            "only showing top 20 rows\n",
            "\n"
          ]
        }
      ]
    },
    {
      "cell_type": "code",
      "metadata": {
        "id": "3oyfuvEXnT3E"
      },
      "source": [
        "highest_pr_trrs = trr_ar_pr.vertices.sort(['pagerank'], ascending=False).limit(1000)"
      ],
      "execution_count": 23,
      "outputs": []
    },
    {
      "cell_type": "code",
      "metadata": {
        "id": "z8cAOWuZoe9X"
      },
      "source": [
        "highest_pr_trrs = highest_pr_trrs.toPandas()\n",
        "highest_pr_trrs.columns = [\"first_name\", \"mi\", \"last_name\", \"gender\", \"race\", \"trr_count\", \"trr_percentile\",\"id\", \"page_rank\"]"
      ],
      "execution_count": 24,
      "outputs": []
    },
    {
      "cell_type": "code",
      "metadata": {
        "id": "k3t3zbilprr3"
      },
      "source": [
        "ids = highest_pr_trrs['id']\n",
        "# print(ids)\n",
        "associated_partner_page_rank = []\n",
        "partner_pr_pd = partner_pr.vertices.toPandas()\n",
        "# print(partner_pr_pd)\n",
        "for id in ids:\n",
        "  row = partner_pr_pd.loc[partner_pr_pd[\"id\"] == id]\n",
        "  if not row.empty:\n",
        "    associated_partner_page_rank.append(row['pagerank'].tolist()[0])\n",
        "    # print(row['pagerank'].tolist()[0])\n",
        "  else:\n",
        "    associated_partner_page_rank.append(None)\n",
        "\n",
        "# print(associated_partner_page_rank)\n",
        "highest_pr_trrs['partner_page_rank'] = associated_partner_page_rank\n",
        "# print(highest_pr_trrs)"
      ],
      "execution_count": 25,
      "outputs": []
    },
    {
      "cell_type": "code",
      "metadata": {
        "id": "839sO2V94_Jb",
        "colab": {
          "base_uri": "https://localhost:8080/",
          "height": 723
        },
        "outputId": "e55862f3-2349-4f92-fa7c-e6a2fb1b291f"
      },
      "source": [
        "highest_pr_trrs.head(20)"
      ],
      "execution_count": 26,
      "outputs": [
        {
          "output_type": "execute_result",
          "data": {
            "text/html": [
              "<div>\n",
              "<style scoped>\n",
              "    .dataframe tbody tr th:only-of-type {\n",
              "        vertical-align: middle;\n",
              "    }\n",
              "\n",
              "    .dataframe tbody tr th {\n",
              "        vertical-align: top;\n",
              "    }\n",
              "\n",
              "    .dataframe thead th {\n",
              "        text-align: right;\n",
              "    }\n",
              "</style>\n",
              "<table border=\"1\" class=\"dataframe\">\n",
              "  <thead>\n",
              "    <tr style=\"text-align: right;\">\n",
              "      <th></th>\n",
              "      <th>first_name</th>\n",
              "      <th>mi</th>\n",
              "      <th>last_name</th>\n",
              "      <th>gender</th>\n",
              "      <th>race</th>\n",
              "      <th>trr_count</th>\n",
              "      <th>trr_percentile</th>\n",
              "      <th>id</th>\n",
              "      <th>page_rank</th>\n",
              "      <th>partner_page_rank</th>\n",
              "    </tr>\n",
              "  </thead>\n",
              "  <tbody>\n",
              "    <tr>\n",
              "      <th>0</th>\n",
              "      <td>Angelo</td>\n",
              "      <td>None</td>\n",
              "      <td>Mandile</td>\n",
              "      <td>M</td>\n",
              "      <td>White</td>\n",
              "      <td>19</td>\n",
              "      <td>97.078200000000000000</td>\n",
              "      <td>17189</td>\n",
              "      <td>7.088694</td>\n",
              "      <td>1.013898</td>\n",
              "    </tr>\n",
              "    <tr>\n",
              "      <th>1</th>\n",
              "      <td>Chris</td>\n",
              "      <td>None</td>\n",
              "      <td>Skarupinski</td>\n",
              "      <td>M</td>\n",
              "      <td>White</td>\n",
              "      <td>26</td>\n",
              "      <td>98.978800000000000000</td>\n",
              "      <td>26540</td>\n",
              "      <td>6.514404</td>\n",
              "      <td>NaN</td>\n",
              "    </tr>\n",
              "    <tr>\n",
              "      <th>2</th>\n",
              "      <td>George</td>\n",
              "      <td>A</td>\n",
              "      <td>Granias</td>\n",
              "      <td>M</td>\n",
              "      <td>Native American/Alaskan Native</td>\n",
              "      <td>72</td>\n",
              "      <td>99.960300000000000000</td>\n",
              "      <td>10583</td>\n",
              "      <td>5.945597</td>\n",
              "      <td>NaN</td>\n",
              "    </tr>\n",
              "    <tr>\n",
              "      <th>3</th>\n",
              "      <td>Evangelos</td>\n",
              "      <td>None</td>\n",
              "      <td>Hitiris</td>\n",
              "      <td>M</td>\n",
              "      <td>White</td>\n",
              "      <td>41</td>\n",
              "      <td>99.217100000000000000</td>\n",
              "      <td>12299</td>\n",
              "      <td>5.416864</td>\n",
              "      <td>NaN</td>\n",
              "    </tr>\n",
              "    <tr>\n",
              "      <th>4</th>\n",
              "      <td>Gerardo</td>\n",
              "      <td>None</td>\n",
              "      <td>Vega</td>\n",
              "      <td>M</td>\n",
              "      <td>Hispanic</td>\n",
              "      <td>27</td>\n",
              "      <td>98.598700000000000000</td>\n",
              "      <td>29454</td>\n",
              "      <td>5.173808</td>\n",
              "      <td>1.566724</td>\n",
              "    </tr>\n",
              "    <tr>\n",
              "      <th>5</th>\n",
              "      <td>Phillip</td>\n",
              "      <td>E</td>\n",
              "      <td>Orlando</td>\n",
              "      <td>M</td>\n",
              "      <td>Hispanic</td>\n",
              "      <td>41</td>\n",
              "      <td>99.217100000000000000</td>\n",
              "      <td>21371</td>\n",
              "      <td>4.833944</td>\n",
              "      <td>NaN</td>\n",
              "    </tr>\n",
              "    <tr>\n",
              "      <th>6</th>\n",
              "      <td>Nicholas</td>\n",
              "      <td>G</td>\n",
              "      <td>Harris</td>\n",
              "      <td>M</td>\n",
              "      <td>White</td>\n",
              "      <td>14</td>\n",
              "      <td>93.935100000000000000</td>\n",
              "      <td>11511</td>\n",
              "      <td>4.819227</td>\n",
              "      <td>NaN</td>\n",
              "    </tr>\n",
              "    <tr>\n",
              "      <th>7</th>\n",
              "      <td>Vincent</td>\n",
              "      <td>P</td>\n",
              "      <td>Baldassano</td>\n",
              "      <td>M</td>\n",
              "      <td>White</td>\n",
              "      <td>21</td>\n",
              "      <td>94.871200000000000000</td>\n",
              "      <td>31815</td>\n",
              "      <td>4.793859</td>\n",
              "      <td>NaN</td>\n",
              "    </tr>\n",
              "    <tr>\n",
              "      <th>8</th>\n",
              "      <td>Christoph</td>\n",
              "      <td>M</td>\n",
              "      <td>Saladino</td>\n",
              "      <td>M</td>\n",
              "      <td>Hispanic</td>\n",
              "      <td>26</td>\n",
              "      <td>96.845600000000000000</td>\n",
              "      <td>25155</td>\n",
              "      <td>4.666504</td>\n",
              "      <td>0.654806</td>\n",
              "    </tr>\n",
              "    <tr>\n",
              "      <th>9</th>\n",
              "      <td>Nellie</td>\n",
              "      <td>None</td>\n",
              "      <td>Harb</td>\n",
              "      <td>F</td>\n",
              "      <td>Hispanic</td>\n",
              "      <td>22</td>\n",
              "      <td>95.381800000000000000</td>\n",
              "      <td>11384</td>\n",
              "      <td>4.612397</td>\n",
              "      <td>NaN</td>\n",
              "    </tr>\n",
              "    <tr>\n",
              "      <th>10</th>\n",
              "      <td>Zachary</td>\n",
              "      <td>Q</td>\n",
              "      <td>Rubald</td>\n",
              "      <td>M</td>\n",
              "      <td>White</td>\n",
              "      <td>48</td>\n",
              "      <td>99.563100000000000000</td>\n",
              "      <td>32307</td>\n",
              "      <td>4.454898</td>\n",
              "      <td>NaN</td>\n",
              "    </tr>\n",
              "    <tr>\n",
              "      <th>11</th>\n",
              "      <td>Mark</td>\n",
              "      <td>A</td>\n",
              "      <td>Johnson</td>\n",
              "      <td>M</td>\n",
              "      <td>Black</td>\n",
              "      <td>46</td>\n",
              "      <td>99.914900000000000000</td>\n",
              "      <td>13605</td>\n",
              "      <td>4.452134</td>\n",
              "      <td>NaN</td>\n",
              "    </tr>\n",
              "    <tr>\n",
              "      <th>12</th>\n",
              "      <td>Marco</td>\n",
              "      <td>P</td>\n",
              "      <td>Proano</td>\n",
              "      <td>M</td>\n",
              "      <td>Hispanic</td>\n",
              "      <td>32</td>\n",
              "      <td>99.251100000000000000</td>\n",
              "      <td>23036</td>\n",
              "      <td>4.391482</td>\n",
              "      <td>NaN</td>\n",
              "    </tr>\n",
              "    <tr>\n",
              "      <th>13</th>\n",
              "      <td>Samuel</td>\n",
              "      <td>K</td>\n",
              "      <td>Truesdale</td>\n",
              "      <td>M</td>\n",
              "      <td>White</td>\n",
              "      <td>51</td>\n",
              "      <td>99.875200000000000000</td>\n",
              "      <td>28968</td>\n",
              "      <td>4.339210</td>\n",
              "      <td>NaN</td>\n",
              "    </tr>\n",
              "    <tr>\n",
              "      <th>14</th>\n",
              "      <td>Hardik</td>\n",
              "      <td>B</td>\n",
              "      <td>Suthar</td>\n",
              "      <td>M</td>\n",
              "      <td>Asian/Pacific</td>\n",
              "      <td>25</td>\n",
              "      <td>98.241200000000000000</td>\n",
              "      <td>27900</td>\n",
              "      <td>4.233451</td>\n",
              "      <td>1.013898</td>\n",
              "    </tr>\n",
              "    <tr>\n",
              "      <th>15</th>\n",
              "      <td>John</td>\n",
              "      <td>R</td>\n",
              "      <td>Lavorata</td>\n",
              "      <td>M</td>\n",
              "      <td>White</td>\n",
              "      <td>31</td>\n",
              "      <td>98.105100000000000000</td>\n",
              "      <td>15811</td>\n",
              "      <td>4.225714</td>\n",
              "      <td>NaN</td>\n",
              "    </tr>\n",
              "    <tr>\n",
              "      <th>16</th>\n",
              "      <td>Paul</td>\n",
              "      <td>M</td>\n",
              "      <td>Powers</td>\n",
              "      <td>M</td>\n",
              "      <td>White</td>\n",
              "      <td>30</td>\n",
              "      <td>97.968900000000000000</td>\n",
              "      <td>32271</td>\n",
              "      <td>4.204758</td>\n",
              "      <td>0.706763</td>\n",
              "    </tr>\n",
              "    <tr>\n",
              "      <th>17</th>\n",
              "      <td>Wayne</td>\n",
              "      <td>A</td>\n",
              "      <td>Wiberg</td>\n",
              "      <td>M</td>\n",
              "      <td>White</td>\n",
              "      <td>30</td>\n",
              "      <td>97.838400000000000000</td>\n",
              "      <td>30561</td>\n",
              "      <td>4.198643</td>\n",
              "      <td>NaN</td>\n",
              "    </tr>\n",
              "    <tr>\n",
              "      <th>18</th>\n",
              "      <td>James</td>\n",
              "      <td>B</td>\n",
              "      <td>Wynn</td>\n",
              "      <td>M</td>\n",
              "      <td>White</td>\n",
              "      <td>19</td>\n",
              "      <td>93.662800000000000000</td>\n",
              "      <td>31337</td>\n",
              "      <td>4.093139</td>\n",
              "      <td>NaN</td>\n",
              "    </tr>\n",
              "    <tr>\n",
              "      <th>19</th>\n",
              "      <td>Miguel</td>\n",
              "      <td>A</td>\n",
              "      <td>Vera</td>\n",
              "      <td>M</td>\n",
              "      <td>Hispanic</td>\n",
              "      <td>33</td>\n",
              "      <td>99.358900000000000000</td>\n",
              "      <td>29529</td>\n",
              "      <td>4.041490</td>\n",
              "      <td>1.292794</td>\n",
              "    </tr>\n",
              "  </tbody>\n",
              "</table>\n",
              "</div>"
            ],
            "text/plain": [
              "   first_name    mi    last_name  ...     id page_rank  partner_page_rank\n",
              "0      Angelo  None      Mandile  ...  17189  7.088694           1.013898\n",
              "1       Chris  None  Skarupinski  ...  26540  6.514404                NaN\n",
              "2      George     A      Granias  ...  10583  5.945597                NaN\n",
              "3   Evangelos  None      Hitiris  ...  12299  5.416864                NaN\n",
              "4     Gerardo  None         Vega  ...  29454  5.173808           1.566724\n",
              "5     Phillip     E      Orlando  ...  21371  4.833944                NaN\n",
              "6    Nicholas     G       Harris  ...  11511  4.819227                NaN\n",
              "7     Vincent     P   Baldassano  ...  31815  4.793859                NaN\n",
              "8   Christoph     M     Saladino  ...  25155  4.666504           0.654806\n",
              "9      Nellie  None         Harb  ...  11384  4.612397                NaN\n",
              "10    Zachary     Q       Rubald  ...  32307  4.454898                NaN\n",
              "11       Mark     A      Johnson  ...  13605  4.452134                NaN\n",
              "12      Marco     P       Proano  ...  23036  4.391482                NaN\n",
              "13     Samuel     K    Truesdale  ...  28968  4.339210                NaN\n",
              "14     Hardik     B       Suthar  ...  27900  4.233451           1.013898\n",
              "15       John     R     Lavorata  ...  15811  4.225714                NaN\n",
              "16       Paul     M       Powers  ...  32271  4.204758           0.706763\n",
              "17      Wayne     A       Wiberg  ...  30561  4.198643                NaN\n",
              "18      James     B         Wynn  ...  31337  4.093139                NaN\n",
              "19     Miguel     A         Vera  ...  29529  4.041490           1.292794\n",
              "\n",
              "[20 rows x 10 columns]"
            ]
          },
          "metadata": {},
          "execution_count": 26
        }
      ]
    },
    {
      "cell_type": "code",
      "metadata": {
        "id": "kEsBlcPvcX6H",
        "colab": {
          "base_uri": "https://localhost:8080/",
          "height": 1000
        },
        "outputId": "957f95c4-b6e2-4c90-951c-ea4b73fc485e"
      },
      "source": [
        "trr_ar_tc = graph_trr_ar.triangleCount()\n",
        "trr_ar_tc.sort([\"count\"], ascending=False).select(\"first_name\", \"last_name\",\"race\", \"gender\", \"id\", \"trr_percentile\", \"count\").show(30)\n",
        "bins, counts = trr_ar_tc.select('count').rdd.flatMap(lambda x: x).histogram(30)\n",
        "plt.hist(bins[:-1], bins=bins, weights=counts)"
      ],
      "execution_count": 27,
      "outputs": [
        {
          "output_type": "stream",
          "name": "stdout",
          "text": [
            "+----------+----------+--------+------+-----+--------------------+-----+\n",
            "|first_name| last_name|    race|gender|   id|      trr_percentile|count|\n",
            "+----------+----------+--------+------+-----+--------------------+-----+\n",
            "|   Phillip|   Orlando|Hispanic|     M|21371|99.21710000000000...|  157|\n",
            "|     James|      Wynn|   White|     M|31337|93.66280000000000...|  130|\n",
            "|      Ryan|     Harty|   White|     M|11615|95.38180000000000...|  113|\n",
            "|     Steve|    Jarosz|   White|     M|13313|96.06260000000000...|  111|\n",
            "|     Wayne|    Wiberg|   White|     M|30561|97.83840000000000...|  102|\n",
            "|    Robert|  Mccallum|   White|     M|32175|96.84560000000000...|  102|\n",
            "|      Mark|  O Connor|   White|     M|20860|72.10940000000000...|   97|\n",
            "|   Jeffrey|    Felton|   White|     M| 8349|67.91100000000000...|   94|\n",
            "|     Kevin|   Connors|   White|     M| 5204|72.10940000000000...|   93|\n",
            "|     Glenn|     Evans|   Black|     M| 8138|94.87120000000000...|   93|\n",
            "|   Richard|  Antonsen|   White|     M|  761|86.68440000000000...|   93|\n",
            "|    Joseph|   Ferenzi|   White|     M| 8374|83.00240000000000...|   92|\n",
            "|     Eddie|   Johnson|   Black|     M|13498|38.90280000000000...|   91|\n",
            "|   Vincent|Baldassano|   White|     M|31815|94.87120000000000...|   91|\n",
            "| Anargyros|  Kereakes|   White|     M|14513|38.90280000000000...|   91|\n",
            "|    Sergio|   Herrera|Hispanic|     M|12087|72.09240000000000...|   91|\n",
            "|     Cesar|      Kuri|Hispanic|     M|32118|99.90360000000000...|   90|\n",
            "|      Paul|    Powers|   White|     M|32271|97.96890000000000...|   83|\n",
            "|   William|    Wagner|   White|     M|29772|94.29820000000000...|   82|\n",
            "|     Chris|   Hackett|   White|     M|11129|86.68440000000000...|   81|\n",
            "|    Angelo|   Mandile|   White|     M|17189|97.07820000000000...|   81|\n",
            "|      Rick| Caballero|Hispanic|     M| 3558|97.83840000000000...|   81|\n",
            "|       Tim|      Wood|   White|     M|31164|74.50360000000000...|   74|\n",
            "|  Reynaldo|   Serrato|Hispanic|     M|26018|99.18300000000000...|   73|\n",
            "|     James|   Mansell|   White|     M|17259|95.54640000000000...|   71|\n",
            "|      Sean|   Brandon|   White|     M| 2671|91.29130000000000...|   69|\n",
            "|     Kevin|      Muth|   White|     M|20154|95.66550000000000...|   69|\n",
            "|   Gerardo|      Vega|Hispanic|     M|29454|98.59870000000000...|   69|\n",
            "|    Daniel|     Lopez|Hispanic|     M|32141|94.13370000000000...|   69|\n",
            "|   Michael|     Walsh|   White|     M|32402|99.96600000000000...|   69|\n",
            "+----------+----------+--------+------+-----+--------------------+-----+\n",
            "only showing top 30 rows\n",
            "\n"
          ]
        },
        {
          "output_type": "execute_result",
          "data": {
            "text/plain": [
              "(array([3.564e+03, 6.530e+02, 1.690e+02, 1.170e+02, 6.400e+01, 4.500e+01,\n",
              "        5.600e+01, 8.000e+00, 1.900e+01, 1.100e+01, 2.900e+01, 5.000e+00,\n",
              "        1.000e+01, 8.000e+00, 1.000e+00, 5.000e+00, 0.000e+00, 1.000e+01,\n",
              "        1.000e+00, 2.000e+00, 0.000e+00, 2.000e+00, 0.000e+00, 0.000e+00,\n",
              "        1.000e+00, 0.000e+00, 0.000e+00, 0.000e+00, 0.000e+00, 1.000e+00]),\n",
              " array([  0.        ,   5.23333333,  10.46666667,  15.7       ,\n",
              "         20.93333333,  26.16666667,  31.4       ,  36.63333333,\n",
              "         41.86666667,  47.1       ,  52.33333333,  57.56666667,\n",
              "         62.8       ,  68.03333333,  73.26666667,  78.5       ,\n",
              "         83.73333333,  88.96666667,  94.2       ,  99.43333333,\n",
              "        104.66666667, 109.9       , 115.13333333, 120.36666667,\n",
              "        125.6       , 130.83333333, 136.06666667, 141.3       ,\n",
              "        146.53333333, 151.76666667, 157.        ]),\n",
              " <a list of 30 Patch objects>)"
            ]
          },
          "metadata": {},
          "execution_count": 27
        },
        {
          "output_type": "display_data",
          "data": {
            "image/png": "[encoded data removed]",
            "text/plain": [
              "<Figure size 432x288 with 1 Axes>"
            ]
          },
          "metadata": {
            "needs_background": "light"
          }
        }
      ]
    },
    {
      "cell_type": "markdown",
      "metadata": {
        "id": "qwc5UZcVYfbb"
      },
      "source": [
        "#Use of Force Queries\n"
      ]
    },
    {
      "cell_type": "code",
      "metadata": {
        "id": "3I4PbIEGYkxA"
      },
      "source": [
        "force_edges_query = \"\"\"\n",
        "with officer_allegation_filter as (\n",
        "    select id,category from data_allegationcategory)\n",
        "    --where category = 'Use Of Force' )\n",
        "\n",
        "\n",
        "\n",
        "\n",
        ", joined_officer_allegation_filter as (\n",
        "select t2.id, officer_id, category, allegation_id from officer_allegation_filter t1\n",
        "    join  data_officerallegation t2 on t1.id = t2.allegation_category_id)\n",
        ", count_alleg\n",
        "\n",
        "\n",
        "\n",
        "    as (\n",
        "select  allegation_id,   count(officer_id) as count from joined_officer_allegation_filter\n",
        "where category = 'Use Of Force'\n",
        "\n",
        "    group by allegation_id\n",
        "    having count(officer_id) > 1\n",
        "    order by count)\n",
        ",\n",
        "     linked_allegations as (select\n",
        "          t1.allegation_id, count, officer_id from count_alleg t1\n",
        "         left join  joined_officer_allegation_filter t2 on   t1.allegation_id = t2.allegation_id\n",
        "         ),\n",
        "\n",
        "   officer_connections AS (\n",
        "    SELECT A.officer_id AS officer_id1, B.officer_id AS officer_id2, A.allegation_id AS allegation_id\n",
        "        FROM linked_allegations A, linked_allegations B\n",
        "        WHERE A.allegation_id = B.allegation_id\n",
        "            AND A.officer_id <> B.officer_id\n",
        "        ORDER BY officer_id1\n",
        ")\n",
        "select officer_id1 AS src, officer_id2 AS dst, allegation_id from  officer_connections\n",
        "\n",
        "\"\"\""
      ],
      "execution_count": 28,
      "outputs": []
    },
    {
      "cell_type": "code",
      "metadata": {
        "id": "H_eqGy-XY1qe"
      },
      "source": [
        "force_vertices_query = \"\"\"\n",
        "\n",
        "with officer_allegation_filter as (\n",
        "    select id,category from data_allegationcategory)\n",
        "    --where category = 'Use Of Force' )\n",
        "\n",
        ", joined_officer_allegation_filter as (\n",
        "select t2.id, officer_id, category, allegation_id from officer_allegation_filter t1\n",
        "    join  data_officerallegation t2 on t1.id = t2.allegation_category_id)\n",
        ", count_alleg\n",
        "\n",
        "    as (\n",
        "select  allegation_id,   count(officer_id) as count from joined_officer_allegation_filter\n",
        "where category = 'Use Of Force'\n",
        "\n",
        "    group by allegation_id\n",
        "    having count(officer_id) > 1\n",
        "    order by count)\n",
        ",\n",
        "     linked_allegations as (select\n",
        "          t1.allegation_id, count, officer_id from count_alleg t1\n",
        "         left join  joined_officer_allegation_filter t2 on   t1.allegation_id = t2.allegation_id\n",
        "         ),\n",
        "\n",
        "linked_allegation_race as  (\n",
        "\n",
        "    select * from   linked_allegations join (select race, id from data_officer) as t1\n",
        "    on linked_allegations.officer_id  = t1.id\n",
        ")\n",
        "\n",
        "select allegation_id, race, id from linked_allegation_race\n",
        "\n",
        "\"\"\""
      ],
      "execution_count": 29,
      "outputs": []
    },
    {
      "cell_type": "code",
      "metadata": {
        "id": "F4zTPukaa7iQ"
      },
      "source": [
        "cursor.execute(force_edges_query)\n",
        "edges = cursor.fetchall()\n",
        "\n",
        "df_edges_f = pd.DataFrame(edges)\n",
        "colnames = [desc[0] for desc in cursor.description]\n",
        "df_edges_f.columns = colnames"
      ],
      "execution_count": 30,
      "outputs": []
    },
    {
      "cell_type": "code",
      "metadata": {
        "id": "MIfs-oA4bLtS"
      },
      "source": [
        "cursor.execute(force_vertices_query)\n",
        "vertices = cursor.fetchall()\n",
        "\n",
        "\n",
        "df_vertices_f = pd.DataFrame(vertices)\n",
        "colnames = [desc[0] for desc in cursor.description]\n",
        "df_vertices_f.columns = colnames\n",
        "\n",
        "df_vertices_f.drop_duplicates(['id'], keep='first', inplace=True)"
      ],
      "execution_count": 31,
      "outputs": []
    },
    {
      "cell_type": "code",
      "metadata": {
        "id": "uu-SsuUphL_a"
      },
      "source": [
        "spark_edges_f = spark.createDataFrame(df_edges_f)\n",
        "spark_vertices_f = spark.createDataFrame(df_vertices_f)\n",
        "graph_force = GraphFrame(spark_vertices_f, spark_edges_f)"
      ],
      "execution_count": 32,
      "outputs": []
    },
    {
      "cell_type": "code",
      "metadata": {
        "id": "xX-zBjn57Rj2"
      },
      "source": [
        "f_pr = graph_force.pageRank(tol=0.01)\n",
        "highest_f_pr = f_pr.vertices.sort(['pagerank'], ascending=False).limit(1000)\n",
        "highest_f_pr = highest_f_pr.toPandas()\n",
        "\n",
        "ids = highest_f_pr['id']\n",
        "# print(ids)\n",
        "associated_partner_page_rank = []\n",
        "partner_pr_pd = partner_pr.vertices.toPandas()\n",
        "# print(partner_pr_pd)\n",
        "for id in ids:\n",
        "  row = partner_pr_pd.loc[partner_pr_pd[\"id\"] == id]\n",
        "  if not row.empty:\n",
        "    associated_partner_page_rank.append(row['pagerank'].tolist()[0])\n",
        "    # print(row['pagerank'].tolist()[0])\n",
        "  else:\n",
        "    associated_partner_page_rank.append(None)\n",
        "\n",
        "# print(associated_partner_page_rank)\n",
        "highest_f_pr['partner_page_rank'] = associated_partner_page_rank"
      ],
      "execution_count": 33,
      "outputs": []
    },
    {
      "cell_type": "code",
      "metadata": {
        "id": "5yS4vd0G8e77",
        "colab": {
          "base_uri": "https://localhost:8080/",
          "height": 669
        },
        "outputId": "31228754-361d-40fd-f5da-5303720a4104"
      },
      "source": [
        "highest_f_pr.head(20)"
      ],
      "execution_count": 34,
      "outputs": [
        {
          "output_type": "execute_result",
          "data": {
            "text/html": [
              "<div>\n",
              "<style scoped>\n",
              "    .dataframe tbody tr th:only-of-type {\n",
              "        vertical-align: middle;\n",
              "    }\n",
              "\n",
              "    .dataframe tbody tr th {\n",
              "        vertical-align: top;\n",
              "    }\n",
              "\n",
              "    .dataframe thead th {\n",
              "        text-align: right;\n",
              "    }\n",
              "</style>\n",
              "<table border=\"1\" class=\"dataframe\">\n",
              "  <thead>\n",
              "    <tr style=\"text-align: right;\">\n",
              "      <th></th>\n",
              "      <th>allegation_id</th>\n",
              "      <th>race</th>\n",
              "      <th>id</th>\n",
              "      <th>pagerank</th>\n",
              "      <th>partner_page_rank</th>\n",
              "    </tr>\n",
              "  </thead>\n",
              "  <tbody>\n",
              "    <tr>\n",
              "      <th>0</th>\n",
              "      <td>1006219</td>\n",
              "      <td>Black</td>\n",
              "      <td>8138</td>\n",
              "      <td>9.340602</td>\n",
              "      <td>NaN</td>\n",
              "    </tr>\n",
              "    <tr>\n",
              "      <th>1</th>\n",
              "      <td>1024627</td>\n",
              "      <td>White</td>\n",
              "      <td>17816</td>\n",
              "      <td>7.564095</td>\n",
              "      <td>NaN</td>\n",
              "    </tr>\n",
              "    <tr>\n",
              "      <th>2</th>\n",
              "      <td>1013586</td>\n",
              "      <td>Hispanic</td>\n",
              "      <td>25306</td>\n",
              "      <td>7.011603</td>\n",
              "      <td>NaN</td>\n",
              "    </tr>\n",
              "    <tr>\n",
              "      <th>3</th>\n",
              "      <td>1005133</td>\n",
              "      <td>White</td>\n",
              "      <td>2375</td>\n",
              "      <td>6.942383</td>\n",
              "      <td>NaN</td>\n",
              "    </tr>\n",
              "    <tr>\n",
              "      <th>4</th>\n",
              "      <td>1042613</td>\n",
              "      <td>White</td>\n",
              "      <td>2356</td>\n",
              "      <td>6.330553</td>\n",
              "      <td>NaN</td>\n",
              "    </tr>\n",
              "    <tr>\n",
              "      <th>5</th>\n",
              "      <td>1011304</td>\n",
              "      <td>White</td>\n",
              "      <td>3277</td>\n",
              "      <td>6.053319</td>\n",
              "      <td>NaN</td>\n",
              "    </tr>\n",
              "    <tr>\n",
              "      <th>6</th>\n",
              "      <td>C217232</td>\n",
              "      <td>White</td>\n",
              "      <td>29033</td>\n",
              "      <td>5.728800</td>\n",
              "      <td>1.013898</td>\n",
              "    </tr>\n",
              "    <tr>\n",
              "      <th>7</th>\n",
              "      <td>C141303</td>\n",
              "      <td>White</td>\n",
              "      <td>27392</td>\n",
              "      <td>5.694141</td>\n",
              "      <td>NaN</td>\n",
              "    </tr>\n",
              "    <tr>\n",
              "      <th>8</th>\n",
              "      <td>C171608</td>\n",
              "      <td>White</td>\n",
              "      <td>8562</td>\n",
              "      <td>5.467520</td>\n",
              "      <td>NaN</td>\n",
              "    </tr>\n",
              "    <tr>\n",
              "      <th>9</th>\n",
              "      <td>C181200</td>\n",
              "      <td>Hispanic</td>\n",
              "      <td>4212</td>\n",
              "      <td>5.437083</td>\n",
              "      <td>NaN</td>\n",
              "    </tr>\n",
              "    <tr>\n",
              "      <th>10</th>\n",
              "      <td>1014010</td>\n",
              "      <td>White</td>\n",
              "      <td>20154</td>\n",
              "      <td>5.405792</td>\n",
              "      <td>NaN</td>\n",
              "    </tr>\n",
              "    <tr>\n",
              "      <th>11</th>\n",
              "      <td>1009381</td>\n",
              "      <td>Hispanic</td>\n",
              "      <td>32255</td>\n",
              "      <td>5.403520</td>\n",
              "      <td>NaN</td>\n",
              "    </tr>\n",
              "    <tr>\n",
              "      <th>12</th>\n",
              "      <td>1014480</td>\n",
              "      <td>White</td>\n",
              "      <td>11194</td>\n",
              "      <td>5.307548</td>\n",
              "      <td>NaN</td>\n",
              "    </tr>\n",
              "    <tr>\n",
              "      <th>13</th>\n",
              "      <td>1084260</td>\n",
              "      <td>White</td>\n",
              "      <td>11365</td>\n",
              "      <td>5.250557</td>\n",
              "      <td>NaN</td>\n",
              "    </tr>\n",
              "    <tr>\n",
              "      <th>14</th>\n",
              "      <td>C196196</td>\n",
              "      <td>Native American/Alaskan Native</td>\n",
              "      <td>5618</td>\n",
              "      <td>5.203456</td>\n",
              "      <td>NaN</td>\n",
              "    </tr>\n",
              "    <tr>\n",
              "      <th>15</th>\n",
              "      <td>1006576</td>\n",
              "      <td>White</td>\n",
              "      <td>21468</td>\n",
              "      <td>5.175577</td>\n",
              "      <td>NaN</td>\n",
              "    </tr>\n",
              "    <tr>\n",
              "      <th>16</th>\n",
              "      <td>1006785</td>\n",
              "      <td>White</td>\n",
              "      <td>31631</td>\n",
              "      <td>5.112292</td>\n",
              "      <td>NaN</td>\n",
              "    </tr>\n",
              "    <tr>\n",
              "      <th>17</th>\n",
              "      <td>1021173</td>\n",
              "      <td>White</td>\n",
              "      <td>16427</td>\n",
              "      <td>5.071251</td>\n",
              "      <td>NaN</td>\n",
              "    </tr>\n",
              "    <tr>\n",
              "      <th>18</th>\n",
              "      <td>C191053</td>\n",
              "      <td>Black</td>\n",
              "      <td>14630</td>\n",
              "      <td>5.056106</td>\n",
              "      <td>NaN</td>\n",
              "    </tr>\n",
              "    <tr>\n",
              "      <th>19</th>\n",
              "      <td>C150734</td>\n",
              "      <td>Hispanic</td>\n",
              "      <td>4294</td>\n",
              "      <td>4.967810</td>\n",
              "      <td>NaN</td>\n",
              "    </tr>\n",
              "  </tbody>\n",
              "</table>\n",
              "</div>"
            ],
            "text/plain": [
              "   allegation_id                            race  ...  pagerank  partner_page_rank\n",
              "0        1006219                           Black  ...  9.340602                NaN\n",
              "1        1024627                           White  ...  7.564095                NaN\n",
              "2        1013586                        Hispanic  ...  7.011603                NaN\n",
              "3        1005133                           White  ...  6.942383                NaN\n",
              "4        1042613                           White  ...  6.330553                NaN\n",
              "5        1011304                           White  ...  6.053319                NaN\n",
              "6        C217232                           White  ...  5.728800           1.013898\n",
              "7        C141303                           White  ...  5.694141                NaN\n",
              "8        C171608                           White  ...  5.467520                NaN\n",
              "9        C181200                        Hispanic  ...  5.437083                NaN\n",
              "10       1014010                           White  ...  5.405792                NaN\n",
              "11       1009381                        Hispanic  ...  5.403520                NaN\n",
              "12       1014480                           White  ...  5.307548                NaN\n",
              "13       1084260                           White  ...  5.250557                NaN\n",
              "14       C196196  Native American/Alaskan Native  ...  5.203456                NaN\n",
              "15       1006576                           White  ...  5.175577                NaN\n",
              "16       1006785                           White  ...  5.112292                NaN\n",
              "17       1021173                           White  ...  5.071251                NaN\n",
              "18       C191053                           Black  ...  5.056106                NaN\n",
              "19       C150734                        Hispanic  ...  4.967810                NaN\n",
              "\n",
              "[20 rows x 5 columns]"
            ]
          },
          "metadata": {},
          "execution_count": 34
        }
      ]
    },
    {
      "cell_type": "code",
      "metadata": {
        "id": "29SiLphhxMPo",
        "colab": {
          "base_uri": "https://localhost:8080/",
          "height": 1000
        },
        "outputId": "dd6fcffc-9235-4004-f0d3-472b396d11c2"
      },
      "source": [
        "trr_f_tc = graph_force.triangleCount()\n",
        "trr_f_tc.sort([\"count\"], ascending=False).select(\"id\", \"count\").show(30)\n",
        "bins, counts = trr_f_tc.select('count').rdd.flatMap(lambda x: x).histogram(30)\n",
        "plt.hist(bins[:-1], bins=bins, weights=counts)"
      ],
      "execution_count": 35,
      "outputs": [
        {
          "output_type": "stream",
          "name": "stdout",
          "text": [
            "+-----+-----+\n",
            "|   id|count|\n",
            "+-----+-----+\n",
            "|30337| 1363|\n",
            "|31536| 1340|\n",
            "| 2375| 1229|\n",
            "| 2356| 1217|\n",
            "|21364| 1215|\n",
            "|25230| 1197|\n",
            "| 9648| 1189|\n",
            "| 4226| 1182|\n",
            "| 1832| 1147|\n",
            "| 4565| 1146|\n",
            "|20616| 1143|\n",
            "|32072| 1141|\n",
            "|32390| 1140|\n",
            "| 6704| 1140|\n",
            "|27668| 1136|\n",
            "|12947| 1136|\n",
            "|25983| 1135|\n",
            "|28601| 1134|\n",
            "| 1739| 1131|\n",
            "|13093| 1131|\n",
            "|29252| 1131|\n",
            "| 4254| 1131|\n",
            "|28384| 1131|\n",
            "|28178| 1131|\n",
            "|  560| 1130|\n",
            "| 1517| 1130|\n",
            "| 7032| 1129|\n",
            "|24063| 1129|\n",
            "|14710| 1129|\n",
            "|19798| 1128|\n",
            "+-----+-----+\n",
            "only showing top 30 rows\n",
            "\n"
          ]
        },
        {
          "output_type": "execute_result",
          "data": {
            "text/plain": [
              "(array([1.2362e+04, 6.3400e+02, 2.1200e+02, 6.8000e+01, 3.2000e+01,\n",
              "        4.8000e+01, 3.0000e+00, 1.8000e+01, 1.4000e+01, 2.0000e+00,\n",
              "        0.0000e+00, 0.0000e+00, 0.0000e+00, 0.0000e+00, 0.0000e+00,\n",
              "        0.0000e+00, 0.0000e+00, 0.0000e+00, 0.0000e+00, 0.0000e+00,\n",
              "        0.0000e+00, 0.0000e+00, 0.0000e+00, 0.0000e+00, 3.3000e+01,\n",
              "        8.0000e+00, 5.0000e+00, 1.0000e+00, 0.0000e+00, 2.0000e+00]),\n",
              " array([   0.        ,   45.43333333,   90.86666667,  136.3       ,\n",
              "         181.73333333,  227.16666667,  272.6       ,  318.03333333,\n",
              "         363.46666667,  408.9       ,  454.33333333,  499.76666667,\n",
              "         545.2       ,  590.63333333,  636.06666667,  681.5       ,\n",
              "         726.93333333,  772.36666667,  817.8       ,  863.23333333,\n",
              "         908.66666667,  954.1       ,  999.53333333, 1044.96666667,\n",
              "        1090.4       , 1135.83333333, 1181.26666667, 1226.7       ,\n",
              "        1272.13333333, 1317.56666667, 1363.        ]),\n",
              " <a list of 30 Patch objects>)"
            ]
          },
          "metadata": {},
          "execution_count": 35
        },
        {
          "output_type": "display_data",
          "data": {
            "image/png": "[encoded data removed]",
            "text/plain": [
              "<Figure size 432x288 with 1 Axes>"
            ]
          },
          "metadata": {
            "needs_background": "light"
          }
        }
      ]
    },
    {
      "cell_type": "markdown",
      "metadata": {
        "id": "iuPyfEdVBZRP"
      },
      "source": [
        "# Graph Functions"
      ]
    },
    {
      "cell_type": "code",
      "metadata": {
        "id": "re5Ft2qMlBaR"
      },
      "source": [
        "\n",
        "\n",
        "def plot_graph_no_color(gx, size_px, dpi, output_name):\n",
        "    g = nx.DiGraph(directed = False)\n",
        "    \n",
        "    g = nx.from_pandas_edgelist(gx.edges.toPandas(),'src','dst')\n",
        "    g.add_nodes_from(gx.vertices.toPandas()['id'])\n",
        "    fig = plt.figure(1, figsize=(size_px, size_px), dpi=dpi)\n",
        "    race_map = {'White' : 'blue',\n",
        "                'Black' : 'orange',\n",
        "                'Asian/Pacific' : 'green',\n",
        "                'Native American/Alaskan Native' : 'black',\n",
        "                'Hispanic' : 'yellow',\n",
        "                'Other' : 'purple'}\n",
        "    \n",
        "    print(g.nodes())\n",
        "    races = [race_map.get(gx.vertices.filter(gx.vertices['id'] == node).select('race').collect()[0][0]) for node in g.nodes()]\n",
        "    nx.draw(g, with_labels=True, arrows = False, node_color=races, edge_color='black', font_color='purple')\n",
        "    plt.savefig(output_name, dpi=dpi, bbox_inches='tight')\n",
        "\n",
        "   "
      ],
      "execution_count": 36,
      "outputs": []
    },
    {
      "cell_type": "code",
      "metadata": {
        "id": "YbXI5s3niMi-"
      },
      "source": [
        "# NetworkX to visualize the graph\n",
        "import networkx as nx\n",
        "\n",
        "def plot_graph(gx, size_px, dpi, output_name):\n",
        "    g = nx.DiGraph(directed = False)\n",
        "    \n",
        "    g = nx.from_pandas_edgelist(gx.edges.toPandas(),'src','dst')\n",
        "    g.add_nodes_from(gx.vertices.toPandas()['id'])\n",
        "    fig = plt.figure(1, figsize=(size_px, size_px), dpi=dpi)\n",
        "\n",
        "    race_map = {'White' : 'blue',\n",
        "                'Black' : 'orange',\n",
        "                'Asian/Pacific' : 'green',\n",
        "                'Native American/Alaskan Native' : 'black',\n",
        "                'Hispanic' : 'yellow',\n",
        "                'Other' : 'purple'}\n",
        "    \n",
        "    print(g.nodes())\n",
        "    races = [race_map.get(gx.vertices.filter(gx.vertices['id'] == node).select('race').collect()[0][0]) for node in g.nodes()]\n",
        "    nx.draw(g, with_labels=True, arrows = False, node_color=races, edge_color='black', font_color='purple')\n",
        "    plt.savefig(output_name, dpi=dpi, bbox_inches='tight')\n",
        "\n",
        "    print(races)\n",
        "    "
      ],
      "execution_count": 37,
      "outputs": []
    },
    {
      "cell_type": "markdown",
      "metadata": {
        "id": "BYIDQCD89-d3"
      },
      "source": [
        "#Graph Visualization"
      ]
    },
    {
      "cell_type": "code",
      "metadata": {
        "id": "Cf0AX_xqiC21"
      },
      "source": [
        "#plot_graph(graph_trr_ar, 17, 30, '5_action_response.png')"
      ],
      "execution_count": 38,
      "outputs": []
    },
    {
      "cell_type": "code",
      "metadata": {
        "id": "kvC21LjFiDSH",
        "colab": {
          "base_uri": "https://localhost:8080/"
        },
        "outputId": "832d7112-5e50-4ffb-c5eb-9f4367d88028"
      },
      "source": [
        "plot_graph(graph_force, 150, 40, 'use of force.png')"
      ],
      "execution_count": null,
      "outputs": [
        {
          "output_type": "stream",
          "name": "stdout",
          "text": [
            "[1, 16856, 800, 2, 30197, 7946, 9271, 18532, 10733, 6, 15932, 12623, 20866, 9523, 28668, 13958, 27284, 19914, 7, 22269, 11, 27663, 12, 25623, 9751, 11524, 13, 17913, 29880, 16, 13937, 13021, 30460, 4668, 5423, 16551, 25799, 17, 32102, 28925, 15351, 18, 23168, 6898, 20, 11671, 33, 8849, 10184, 10966, 20850, 27872, 14794, 14179, 26464, 34, 24298, 26496, 30049, 14638, 23520, 38, 31194, 6514, 25577, 5284, 39, 14710, 15004, 213, 3776, 41, 21351, 8103, 19264, 1248, 28162, 42, 12449, 14814, 26516, 14955, 27673, 15695, 7595, 21517, 31540, 44, 25299, 15407, 3243, 4405, 1345, 29255, 6845, 31550, 27088, 31864, 21145, 48, 6563, 6664, 8652, 49, 23424, 10317, 13894, 51, 64, 20827, 20125, 52, 16071, 11073, 54, 29189, 56, 18536, 12935, 58, 9997, 3189, 15051, 7402, 5382, 15474, 17862, 3482, 9576, 25373, 12967, 26828, 18473, 1775, 8564, 20757, 24431, 17587, 59, 31366, 10952, 26385, 8071, 24433, 60, 12497, 32052, 10542, 11689, 31946, 442, 29432, 17711, 21286, 21316, 4544, 9473, 25442, 26692, 24026, 21220, 32246, 6560, 23566, 18644, 61, 28418, 972, 25307, 16941, 23775, 19845, 65, 3517, 31500, 24425, 18719, 24612, 31752, 28814, 28230, 14094, 21328, 16680, 4998, 22905, 3821, 15897, 11426, 10436, 20499, 24101, 17343, 28056, 438, 66, 24548, 2441, 67, 14619, 69, 12007, 72, 2480, 75, 32085, 4654, 10835, 12109, 20761, 76, 21932, 19987, 80, 30954, 81, 3897, 22821, 16105, 24124, 9687, 28007, 15354, 25380, 14592, 17816, 31631, 15572, 22399, 22510, 11436, 83, 19892, 13859, 6893, 8619, 88, 22568, 20099, 31865, 21327, 8461, 22058, 90, 6205, 13938, 14630, 14659, 91, 3835, 25579, 30510, 672, 7260, 238, 92, 19095, 27270, 16511, 12355, 25772, 30932, 11031, 29686, 15981, 26956, 1610, 29210, 5881, 8839, 25136, 28169, 16696, 17455, 16427, 11207, 2316, 14158, 14719, 9964, 29282, 32238, 93, 27132, 94, 32342, 32406, 30302, 9821, 9583, 24945, 28735, 24125, 8972, 4332, 32378, 20394, 17781, 8401, 31543, 95, 3910, 29942, 17103, 19048, 105, 28781, 27445, 22656, 28875, 12184, 14373, 14383, 19075, 113, 13593, 114, 20856, 32280, 19660, 11851, 31844, 23513, 31808, 32222, 572, 25549, 115, 5730, 27421, 13783, 28464, 31226, 26177, 7248, 117, 14733, 3059, 118, 17369, 6821, 31012, 6961, 4785, 7852, 119, 2560, 475, 9572, 122, 11731, 22180, 18042, 1335, 124, 20495, 8597, 126, 7447, 127, 15956, 7391, 19709, 128, 16927, 19082, 31995, 130, 21320, 275, 28585, 18779, 133, 25401, 135, 2241, 25169, 27458, 736, 9627, 9001, 31843, 25903, 137, 14236, 24752, 24005, 20486, 142, 17434, 14317, 18706, 144, 14767, 209, 147, 19131, 31456, 18670, 28411, 7301, 24740, 6343, 26677, 4269, 31643, 25962, 23860, 15243, 148, 6135, 3845, 22922, 21262, 26440, 13901, 149, 27279, 3043, 1758, 19620, 152, 17071, 23835, 2046, 21847, 155, 25800, 156, 17738, 157, 17724, 160, 13048, 168, 10040, 169, 21138, 16404, 24410, 10252, 23383, 28758, 23419, 170, 24426, 30496, 26556, 5820, 15558, 15233, 10572, 5618, 11801, 25644, 178, 19797, 17583, 19104, 22022, 10619, 31083, 24094, 828, 4680, 25157, 181, 5344, 3605, 30153, 19813, 26262, 14442, 182, 22725, 183, 31034, 17827, 26814, 186, 2200, 9906, 190, 23492, 8463, 24941, 17087, 18293, 26441, 576, 6345, 191, 10962, 13598, 20598, 25317, 29012, 21860, 2368, 8944, 192, 12433, 16176, 195, 25620, 27392, 17221, 196, 20781, 27154, 18917, 2428, 197, 10028, 7158, 198, 18701, 13053, 6410, 22620, 1056, 202, 3764, 203, 3150, 21610, 23162, 21499, 3832, 25957, 13424, 28111, 1175, 18068, 20404, 14254, 27722, 204, 208, 5543, 23961, 20929, 4467, 29482, 24705, 10505, 22552, 22135, 20056, 210, 20528, 211, 13673, 4322, 26196, 7080, 22292, 21367, 215, 11496, 216, 14455, 19109, 218, 7511, 23452, 4028, 225, 13676, 229, 26011, 3713, 230, 9621, 2088, 18430, 232, 14054, 26047, 30396, 9957, 5971, 31487, 16041, 27165, 29070, 16608, 26355, 30248, 31277, 23698, 4012, 233, 7745, 4482, 28756, 14228, 21465, 31129, 12025, 31952, 18022, 3157, 29372, 22745, 24243, 20950, 26792, 31795, 22740, 235, 21548, 21876, 237, 21050, 16213, 18754, 1896, 23842, 10146, 26288, 1800, 15553, 18191, 239, 8356, 241, 27871, 18183, 5782, 18069, 1509, 6928, 23933, 242, 24805, 10691, 30860, 27367, 12234, 28767, 243, 836, 26843, 1515, 18783, 11824, 19456, 9643, 11489, 28484, 21979, 248, 2518, 10268, 28391, 27518, 7694, 249, 12291, 250, 24195, 252, 19140, 7639, 18091, 10700, 9952, 255, 29234, 20273, 29545, 256, 1879, 14217, 2786, 28283, 461, 3180, 19209, 257, 19602, 25869, 8985, 3842, 24414, 9555, 31559, 24415, 3861, 25252, 258, 14082, 14642, 21735, 32221, 31987, 23389, 259, 10536, 9471, 9515, 260, 3711, 262, 5236, 10894, 820, 7216, 9322, 13838, 23236, 20057, 25942, 29194, 26990, 23132, 5412, 13996, 21133, 263, 639, 9377, 7507, 14216, 32168, 295, 25864, 24384, 2453, 15812, 7603, 270, 11052, 14307, 29200, 9994, 4094, 6468, 30398, 271, 22448, 928, 24918, 6495, 17182, 9206, 12101, 2168, 14200, 31966, 7320, 23849, 16783, 11597, 17149, 20040, 20422, 7727, 11004, 22626, 278, 20138, 13199, 280, 20453, 283, 3721, 17783, 28452, 284, 9577, 18375, 4876, 287, 28187, 12952, 288, 23777, 291, 32023, 14183, 294, 17859, 30745, 23940, 15610, 30689, 19999, 25613, 17640, 297, 18087, 676, 5547, 298, 21069, 306, 23783, 25677, 15611, 338, 21338, 310, 27026, 312, 8651, 32418, 24851, 24069, 6311, 25619, 319, 13750, 8026, 3083, 323, 25625, 27190, 6072, 32420, 8165, 15441, 326, 31916, 17666, 2996, 32380, 14369, 19879, 7240, 27046, 14616, 13481, 18573, 327, 3881, 28306, 328, 26747, 332, 22951, 3051, 30958, 337, 3616, 19478, 17372, 8778, 9776, 339, 17365, 22414, 340, 32219, 29580, 341, 21293, 24354, 7157, 2144, 9764, 17481, 20063, 10115, 14538, 12359, 11826, 14526, 7047, 10568, 14347, 31924, 14721, 19994, 4554, 13303, 23953, 20937, 1533, 13829, 22127, 11125, 1230, 17471, 12513, 23293, 12171, 346, 30239, 7784, 5069, 350, 1433, 10934, 351, 3439, 5837, 352, 4464, 8428, 26304, 21139, 353, 5043, 29596, 354, 678, 357, 24632, 8417, 361, 18168, 19318, 24424, 31061, 8035, 364, 30309, 366, 15564, 8128, 27703, 2350, 5416, 367, 29649, 372, 18341, 373, 32314, 24794, 374, 2728, 5277, 376, 20840, 379, 22558, 26232, 3675, 18950, 25978, 10022, 4298, 7959, 22231, 8423, 5323, 6546, 30320, 22996, 2385, 5259, 20159, 19615, 5216, 29574, 6819, 19484, 505, 380, 7384, 23883, 11653, 4205, 21687, 6960, 27344, 660, 8666, 26249, 5744, 14914, 385, 18985, 21934, 26978, 387, 18746, 15054, 8418, 5886, 388, 24119, 15974, 389, 28134, 7069, 24546, 8968, 26101, 31162, 394, 32315, 395, 32405, 22857, 32289, 10703, 397, 13526, 1127, 26925, 9232, 2981, 9018, 28459, 4835, 16345, 13765, 12147, 4334, 400, 3665, 17132, 403, 12342, 21522, 1721, 407, 20477, 12961, 30070, 27620, 911, 29887, 26685, 13103, 27543, 5661, 409, 20371, 12259, 10897, 4836, 24902, 17400, 10474, 11226, 413, 15516, 417, 13125, 15774, 13941, 3286, 12302, 6058, 8316, 1496, 18315, 4845, 29588, 23639, 1988, 26577, 6811, 6358, 17507, 11141, 6907, 420, 16545, 28907, 15976, 1918, 6635, 24713, 22172, 21215, 24598, 29532, 2791, 10341, 421, 7934, 422, 26053, 8394, 10449, 22255, 7199, 3314, 28838, 1430, 23767, 424, 24351, 21713, 30639, 10291, 4861, 8287, 31467, 7787, 3589, 22742, 2493, 7478, 21539, 15858, 24562, 17197, 425, 18425, 735, 28077, 29703, 25575, 4600, 32011, 32393, 6553, 16870, 7817, 6243, 26253, 16008, 23129, 3338, 10442, 6232, 18919, 13246, 7328, 426, 26181, 16462, 10183, 8114, 6412, 428, 32003, 11084, 429, 6953, 14015, 11845, 9873, 14279, 1316, 27789, 24981, 8687, 5070, 19812, 13903, 27725, 4548, 22719, 2277, 21076, 26790, 9816, 28158, 29332, 10863, 25578, 30498, 32388, 31371, 430, 29795, 6666, 24628, 8400, 435, 14218, 436, 437, 13484, 4060, 28882, 29697, 32078, 28680, 1501, 11394, 31890, 2929, 440, 29608, 441, 6106, 16380, 2228, 23716, 444, 29820, 7597, 445, 18009, 448, 4771, 32425, 31872, 5439, 32051, 32165, 3716, 5838, 21448, 21251, 32268, 994, 32309, 29987, 450, 2541, 451, 2114, 8362, 10915, 463, 11869, 9210, 13446, 465, 31920, 31806, 7210, 26957, 31716, 469, 27031, 30235, 4674, 10557, 6701, 11898, 29081, 8145, 1148, 31888, 470, 12312, 471, 17624, 18276, 472, 17904, 473, 20317, 9079, 16700, 19333, 23439, 8496, 474, 10958, 15987, 30071, 32240, 28212, 26664, 7889, 476, 22282, 477, 2769, 26982, 24097, 30603, 22249, 11061, 10239, 478, 16302, 29459, 3995, 16937, 14952, 8525, 16906, 20205, 24177, 29375, 11449, 487, 31855, 32283, 3824, 6937, 32319, 15562, 4604, 12085, 23167, 23390, 488, 6680, 16497, 489, 16495, 490, 20248, 495, 2069, 29270, 17603, 18582, 23152, 1945, 9580, 32099, 31461, 20567, 17284, 29768, 6420, 26522, 497, 22220, 28832, 11365, 31212, 498, 31817, 6193, 5874, 19212, 738, 501, 502, 9896, 22802, 13391, 20625, 8601, 513, 18895, 516, 23647, 15416, 21906, 21065, 20119, 518, 31823, 9254, 16805, 12419, 23229, 3350, 25448, 1650, 31482, 1729, 25126, 754, 27385, 2183, 31423, 1203, 519, 18899, 25810, 9297, 520, 2646, 12268, 1399, 28546, 31801, 18295, 32237, 5205, 9694, 521, 11075, 29924, 8958, 21596, 25541, 530, 25788, 9237, 531, 20837, 31837, 532, 28139, 23733, 25542, 19716, 21272, 533, 32339, 11469, 15180, 23549, 8385, 3251, 32001, 23107, 536, 23508, 23114, 539, 21420, 2356, 541, 28472, 542, 12380, 24475, 5088, 9138, 32245, 32009, 26945, 543, 20087, 19769, 29668, 19922, 31497, 15038, 30738, 24016, 9226, 9204, 11990, 545, 15612, 546, 9370, 560, 28384, 7032, 9648, 19798, 14007, 18998, 6852, 22648, 29252, 4226, 22554, 24063, 13093, 28601, 20616, 2201, 24039, 27668, 6704, 21364, 10905, 4254, 4565, 1832, 14299, 8220, 32042, 32390, 1739, 1517, 15836, 3526, 32356, 28178, 30337, 25983, 32111, 32014, 32072, 12947, 6131, 25230, 31536, 26435, 22709, 22258, 13272, 2375, 563, 14637, 8808, 31280, 21816, 22796, 21238, 569, 15078, 22026, 981, 8837, 20100, 7754, 28527, 5577, 19149, 25910, 25878, 15565, 575, 28488, 14577, 29538, 12740, 23600, 31363, 13497, 13781, 32166, 18308, 12478, 9016, 24744, 19349, 579, 32254, 5347, 11820, 15991, 6400, 16894, 32413, 11265, 1901, 16181, 581, 5942, 7729, 583, 26286, 7437, 586, 3261, 5524, 7974, 588, 22809, 13785, 7829, 591, 17544, 29917, 17176, 24591, 27395, 17065, 7816, 10166, 17946, 26579, 594, 5014, 5024, 23805, 7074, 20245, 603, 31098, 18901, 8770, 605, 2611, 7881, 26910, 19979, 6745, 14942, 610, 20461, 617, 6709, 24173, 23565, 619, 13204, 20343, 621, 1002, 20586, 1868, 14220, 8562, 13326, 11533, 13590, 624, 665, 29578, 17595, 23744, 32451, 6085, 23126, 24596, 30643, 1866, 30565, 32463, 7969, 20618, 10070, 626, 25699, 23234, 3362, 14868, 628, 11847, 27797, 22830, 21999, 632, 20955, 19284, 17540, 7706, 31919, 11655, 20980, 15336, 28120, 28629, 633, 27384, 12409, 7568, 20254, 1595, 634, 13861, 17506, 23952, 32265, 20634, 30893, 18831, 27918, 642, 20322, 32088, 17456, 645, 13231, 21951, 31514, 21712, 13490, 13058, 30107, 4270, 19750, 20817, 12284, 12963, 30814, 8060, 650, 13430, 21649, 19854, 16183, 29838, 15310, 21081, 9634, 30254, 3395, 5560, 11615, 17994, 9705, 13313, 30352, 23643, 23661, 653, 11216, 4443, 654, 26513, 13127, 29150, 14587, 19185, 18268, 3277, 658, 8861, 2935, 1184, 13052, 25669, 17785, 663, 4807, 30040, 15847, 668, 4946, 3105, 12601, 670, 3380, 8668, 8138, 31912, 21774, 1257, 31073, 28931, 29222, 4787, 24163, 23032, 30085, 1177, 673, 24680, 13701, 674, 13772, 675, 3970, 28548, 20959, 28550, 31027, 1304, 17339, 9213, 979, 12139, 12388, 5393, 21563, 10294, 12479, 1710, 7982, 680, 24550, 682, 11361, 17287, 12825, 30293, 4026, 13458, 18912, 684, 687, 16303, 25432, 32073, 13273, 17000, 11701, 690, 6697, 691, 23433, 8182, 2078, 5754, 695, 3463, 17171, 28060, 13336, 5908, 11872, 32186, 31828, 31908, 31842, 25306, 32397, 32041, 26183, 32419, 30097, 31961, 23817, 32256, 13975, 3336, 7618, 2797, 11121, 1760, 25016, 17375, 11798, 696, 27072, 29804, 4742, 16052, 27733, 14663, 2704, 7681, 27695, 31429, 698, 14494, 18040, 26150, 2252, 9300, 700, 18942, 12912, 12784, 20220, 9749, 702, 12755, 28019, 11986, 711, 24967, 715, 25494, 14113, 22875, 716, 15451, 720, 7191, 725, 13434, 4670, 24597, 32136, 23287, 17050, 25631, 30542, 14441, 32334, 24896, 9759, 23135, 727, 10002, 6726, 23543, 31803, 30407, 728, 9758, 4347, 2867, 729, 6471, 22766, 25233, 20202, 730, 732, 1397, 6634, 20979, 24998, 29611, 10965, 19339, 734, 24359, 22622, 29520, 31139, 23691, 13784, 3549, 7524, 31846, 14174, 18266, 9596, 14908, 14002, 27747, 28682, 22257, 745, 30464, 747, 6593, 20144, 750, 6395, 8658, 12313, 2085, 32197, 5756, 21767, 2411, 2659, 20712, 30805, 32030, 1769, 752, 26014, 753, 30021, 8167, 20543, 31581, 10151, 2956, 21577, 13516, 3194, 8873, 25636, 9674, 18420, 25837, 15417, 13415, 10171, 757, 1474, 16825, 10656, 758, 31824, 6844, 17752, 3784, 21371, 7311, 759, 8930, 19754, 1797, 22485, 32213, 12640, 23929, 11172, 9458, 4137, 5568, 3580, 4264, 3260, 22810, 32020, 31859, 885, 28481, 15472, 9485, 12508, 761, 9430, 14699, 22644, 14896, 6792, 32336, 31119, 31984, 19329, 12340, 19163, 14190, 8852, 22176, 31882, 30933, 18413, 12677, 32401, 764, 9093, 16793, 769, 1043, 24345, 6475, 20767, 16574, 3435, 17399, 771, 12498, 23829, 775, 6132, 29655, 777, 13517, 23088, 21265, 780, 13137, 787, 12225, 28430, 24485, 4831, 26139, 18141, 7078, 12848, 789, 5767, 32196, 22128, 22222, 790, 2345, 7703, 17404, 31518, 26032, 15464, 3321, 22183, 28748, 821, 983, 8988, 792, 16022, 30226, 794, 21520, 1436, 11540, 797, 1128, 10284, 798, 29656, 30342, 799, 31832, 14549, 4349, 29310, 26929, 7208, 17351, 30883, 801, 13393, 7098, 18822, 28782, 14215, 4569, 805, 20958, 21411, 23581, 23920, 31895, 806, 8995, 930, 23456, 10759, 809, 16385, 30012, 6145, 23854, 6094, 17346, 11364, 21237, 4685, 812, 5095, 17497, 814, 26535, 817, 22152, 28054, 28980, 3331, 818, 23955, 13483, 12455, 8121, 819, 29231, 12333, 3307, 26363, 17830, 18827, 25416, 16245, 28842, 12258, 17931, 1061, 23050, 23635, 28315, 10244, 20733, 29253, 7137, 28847, 5134, 10043, 20910, 29500, 22197, 28887, 823, 10896, 9150, 29096, 25302, 12054, 21213, 829, 2240, 831, 16489, 3096, 833, 17884, 31785, 12431, 30710, 7434, 33048, 3447, 31392, 25850, 5292, 32329, 30868, 32281, 835, 22613, 6525, 12566, 31906, 23201, 6979, 6187, 30815, 7531, 10221, 3259, 25885, 26776, 20443, 2528, 18791, 13309, 22327, 841, 20284, 842, 12235, 10970, 9313, 27486, 843, 24954, 10730, 24200, 844, 2242, 17489, 847, 14802, 848, 19155, 14313, 849, 16000, 13803, 27339, 12427, 850, 852, 13795, 24739, 18149, 854, 1039, 27077, 6788, 22174, 855, 21128, 27742, 15178, 30245, 23646, 31603, 22603, 856, 858, 10731, 24521, 859, 19532, 11603, 863, 12360, 9504, 29868, 29256, 29155, 4567, 12017, 10033, 18332, 5566, 7376, 26943, 7993, 3825, 8851, 28996, 1642, 10096, 10203, 19652, 864, 32025, 22268, 19948, 24441, 867, 17037, 23859, 30537, 31386, 6221, 31216, 7244, 6455, 868, 32284, 10650, 13330, 8981, 870, 24467, 2103, 871, 1958, 32148, 5117, 11234, 21253, 872, 11010, 23325, 4638, 27922, 24146, 881, 874, 28223, 875, 6834, 877, 8691, 26795, 25223, 5084, 880, 31294, 19633, 16533, 30204, 1938, 15228, 14462, 27075, 5772, 6216, 17599, 10298, 16666, 882, 20149, 883, 10893, 13107, 25404, 18002, 18877, 12176, 30287, 5927, 3771, 887, 2255, 4860, 32266, 9804, 24577, 18275, 7379, 21942, 19801, 32191, 889, 12013, 29635, 890, 5063, 21651, 28317, 23344, 14163, 6942, 10631, 6206, 25345, 31918, 13534, 19410, 15235, 3014, 12177, 16810, 902, 11329, 31126, 3379, 4233, 903, 12765, 19413, 23576, 908, 22941, 4980, 909, 2597, 910, 19852, 13377, 28218, 13599, 8606, 20653, 5094, 1411, 30484, 913, 17382, 915, 23959, 23574, 6257, 5514, 15617, 19144, 31985, 916, 920, 23438, 5748, 923, 924, 14043, 24721, 18077, 16196, 3236, 6201, 25995, 29166, 15863, 932, 32414, 10213, 32402, 933, 12500, 31602, 2498, 3583, 4987, 9144, 30677, 6317, 28117, 26902, 15940, 16606, 12275, 13852, 12626, 1091, 13788, 23967, 940, 13946, 31132, 27124, 943, 30593, 24951, 11617, 5531, 23174, 16304, 9807, 23954, 14604, 14316, 30574, 11272, 15353, 2266, 11713, 944, 29761, 8916, 21723, 29462, 4149, 5414, 24846, 951, 1341, 6711, 26633, 25630, 22793, 952, 11709, 957, 23719, 958, 28188, 961, 30585, 31444, 24140, 965, 5128, 28874, 23375, 1215, 15257, 22259, 32040, 23802, 16187, 966, 23633, 968, 13824, 7014, 28666, 4767, 8050, 6977, 19108, 969, 19501, 11980, 3126, 11445, 30908, 4599, 971, 11983, 30554, 7795, 1103, 23746, 13456, 15460, 1681, 8500, 982, 22948, 22035, 6838, 30890, 32203, 28910, 32403, 12491, 4220, 15447, 28000, 985, 7468, 31611, 4926, 23797, 16214, 22280, 7649, 6326, 30737, 21449, 18988, 8575, 13871, 9699, 15653, 986, 9839, 32386, 987, 9407, 20608, 5565, 25303, 31876, 28764, 17354, 27212, 20638, 6644, 11190, 17077, 20301, 8657, 29772, 13587, 29940, 28529, 16550, 11093, 12885, 29400, 26410, 8802, 24658, 8459, 26652, 997, 28871, 17447, 17370, 31826, 15891, 28970, 2310, 5260, 25999, 6030, 14557, 7791, 9012, 18462, 1004, 6178, 29739, 10444, 1005, 4119, 23085, 30417, 14100, 1007, 16191, 19906, 14390, 12998, 18446, 18611, 17205, 15487, 31266, 1010, 19205, 14722, 1012, 20199, 24107, 26457, 1013, 26456, 20327, 4901, 5888, 1940, 1018, 3112, 22834, 8322, 1020, 16425, 1021, 19880, 27156, 31629, 1022, 20044, 3264, 6189, 15284, 18651, 30505, 21313, 21397, 19006, 3903, 1026, 12495, 28968, 31307, 4091, 15795, 31443, 20158, 32116, 32274, 14066, 32190, 5999, 4313, 14691, 13250, 18592, 6541, 1027, 13501, 1033, 2555, 23736, 1035, 11023, 1036, 1037, 15488, 4927, 31941, 27978, 1471, 7713, 7848, 5498, 31523, 13285, 1040, 18984, 7697, 11728, 19358, 3027, 17322, 10547, 31599, 13017, 18356, 19934, 6009, 28609, 2400, 5485, 1044, 4213, 1047, 30463, 25881, 30801, 1048, 15599, 31988, 1049, 19940, 22266, 1053, 20046, 1054, 4385, 2394, 22780, 7044, 24623, 17980, 9700, 1438, 29677, 20706, 7708, 15053, 26502, 6351, 1057, 13720, 4201, 9526, 8537, 6119, 26236, 16409, 12082, 9768, 11450, 25175, 22758, 27063, 23763, 7835, 1059, 29818, 13040, 14715, 1060, 32022, 3176, 1063, 10630, 20154, 5903, 21977, 32363, 8393, 24885, 15592, 4720, 32173, 30278, 7799, 15424, 7723, 5482, 18922, 8681, 5915, 10845, 1069, 29329, 1072, 19878, 11680, 1075, 20039, 1079, 4733, 17916, 1080, 9755, 1084, 16373, 8799, 27021, 1085, 9067, 8203, 25075, 4101, 1090, 1096, 3000, 24806, 2191, 5763, 1092, 1547, 25459, 31973, 6692, 23568, 1094, 17897, 27806, 21653, 2009, 32376, 10858, 1095, 13578, 2622, 26362, 1097, 15368, 14089, 7924, 25338, 29935, 12622, 22788, 1101, 17975, 1102, 16754, 2496, 17330, 6035, 8317, 30911, 1112, 6203, 2539, 18074, 1113, 32199, 27634, 16271, 2211, 16081, 1114, 30803, 1116, 32167, 32160, 25370, 28685, 1654, 8780, 10928, 21282, 27209, 10280, 8403, 22837, 1117, 13967, 1122, 4744, 2001, 1124, 20348, 19789, 1136, 2909, 21388, 13114, 1139, 4463, 1141, 21616, 1145, 1480, 1146, 3432, 29683, 16945, 20756, 3034, 7751, 20798, 16508, 6540, 13010, 5657, 18820, 10136, 25253, 6451, 32037, 1147, 5607, 15089, 16617, 32015, 1149, 9920, 29851, 27893, 26531, 6209, 29944, 3345, 1152, 30756, 29984, 14151, 1156, 1159, 3760, 1160, 1272, 1165, 17361, 20852, 23822, 25725, 10862, 1167, 20407, 1168, 2677, 2856, 19706, 5318, 20874, 20788, 25020, 15157, 9225, 1171, 12598, 14107, 15469, 1172, 13039, 9499, 21468, 17274, 9493, 18176, 21260, 24324, 6582, 1173, 21296, 23400, 7980, 6624, 7186, 16789, 9855, 32455, 9702, 7363, 23807, 15317, 26711, 7827, 17285, 31026, 16959, 11860, 5665, 15924, 1179, 32303, 20250, 26655, 12179, 24766, 7552, 28146, 30088, 28424, 8124, 1180, 13595, 1183, 22044, 11308, 26243, 11467, 3737, 8865, 29043, 4712, 25044, 26266, 13051, 31258, 1189, 3793, 9484, 1193, 26322, 25491, 1196, 30819, 10853, 14772, 6469, 31575, 23584, 10528, 28943, 23793, 14230, 28622, 17701, 1205, 2878, 29959, 1207, 18006, 15490, 2683, 20002, 9375, 21943, 2836, 10025, 1629, 1208, 15893, 1211, 32328, 8127, 15395, 10030, 32018, 23076, 1218, 5083, 32224, 12432, 6936, 29585, 1219, 1548, 7366, 23781, 14070, 17442, 17929, 15434, 9165, 29321, 30217, 12896, 1222, 25651, 23289, 31957, 27873, 1331, 19340, 26561, 31858, 16355, 1224, 5204, 3761, 6237, 1227, 9933, 3982, 24033, 30787, 22234, 8248, 29063, 3947, 1231, 32249, 16233, 1233, 32318, 24030, 7820, 5750, 1234, 18208, 22934, 1240, 2618, 23278, 30165, 1365, 18386, 1247, 11323, 16837, 14917, 12968, 8190, 1251, 20493, 28741, 22988, 8327, 1252, 2129, 1256, 7308, 31120, 21013, 24871, 27114, 13228, 17855, 32383, 3299, 16791, 24392, 13256, 32355, 1260, 17212, 6659, 17647, 14055, 13933, 1261, 29211, 32461, 21287, 28679, 13472, 15087, 30364, 1263, 25592, 1264, 4864, 1265, 16902, 1266, 25532, 10046, 1531, 17601, 18848, 24654, 1270, 27309, 1271, 31422, 28953, 27286, 30614, 24188, 20089, 32366, 1276, 1277, 30765, 11968, 1553, 22074, 10724, 24758, 28739, 31144, 29513, 29378, 13473, 1623, 25986, 16699, 19807, 1278, 25237, 31442, 2746, 1280, 26186, 18874, 13359, 1281, 22728, 9386, 1283, 2563, 27022, 32360, 26358, 7864, 1284, 6824, 11797, 23848, 1285, 27476, 1288, 4961, 28155, 9100, 2694, 25077, 25206, 15194, 4087, 15255, 23442, 18869, 29521, 14915, 23495, 1289, 20825, 25236, 4527, 17312, 15012, 5808, 27504, 1290, 25584, 25275, 26618, 8767, 1546, 5868, 3601, 21035, 31733, 1701, 24552, 25745, 26745, 14731, 22369, 31259, 17121, 3931, 1295, 30512, 19401, 1296, 1297, 26062, 1298, 16112, 11666, 1303, 14035, 23786, 11930, 20692, 2113, 11933, 18599, 1307, 30006, 29320, 23688, 1310, 13834, 1314, 1324, 21201, 22559, 28292, 7987, 15930, 15438, 15378, 24023, 1554, 26965, 24464, 23944, 12904, 20268, 11283, 17266, 1317, 8188, 13479, 2352, 10560, 23184, 5132, 10259, 26770, 28335, 17780, 28736, 8040, 19396, 19835, 21110, 30232, 2119, 15344, 30430, 15153, 1319, 3494, 21967, 25936, 30017, 1323, 12639, 1516, 3618, 16477, 28976, 9646, 28273, 1332, 28280, 20207, 29249, 11169, 15944, 11634, 19150, 1333, 32275, 3498, 3185, 27545, 29044, 23599, 5332, 25887, 30686, 26863, 1336, 24230, 1338, 14337, 10764, 1339, 9822, 1344, 29143, 7899, 30529, 16042, 3244, 2190, 21150, 3133, 14241, 21593, 17773, 21617, 32100, 32271, 31228, 22692, 1346, 13810, 28051, 1349, 3004, 11587, 21661, 27985, 9061, 21779, 7407, 5957, 8896, 1570, 21620, 19354, 1350, 21400, 21887, 9002, 4252, 20196, 26291, 22410, 1351, 19259, 18046, 10849, 1352, 19671, 16361, 21768, 1353, 5330, 1354, 31305, 1355, 22193, 1357, 13643, 30351, 13540, 1358, 22185, 15548, 21871, 2383, 22827, 1359, 13502, 8257, 9536, 1364, 20157, 1366, 5554, 17073, 17494, 1368, 6275, 27683, 1369, 21927, 4449, 18390, 17531, 1370, 21678, 23415, 27980, 2276, 1371, 8614, 2667, 22999, 4736, 1376, 32273, 27123, 1381, 4803, 1385, 24403, 24907, 21660, 29003, 17851, 17061, 1389, 16205, 22532, 3067, 1390, 1391, 26465, 11149, 5930, 29730, 13535, 23083, 8091, 24627, 8480, 1408, 27745, 1413, 9404, 12556, 23816, 10412, 19014, 18461, 8350, 32152, 17161, 25737, 17955, 15886, 1414, 16943, 28308, 16539, 32338, 20736, 1416, 21407, 12261, 20730, 18845, 6462, 5265, 2665, 1417, 1882, 9904, 7226, 1420, 13995, 3635, 13872, 1421, 30670, 1422, 20078, 8662, 31017, 30264, 11734, 1423, 14603, 1427, 26616, 32069, 26110, 32150, 31847, 24717, 5539, 30742, 10865, 12249, 1434, 21476, 17222, 17734, 31576, 8472, 22640, 2798, 1435, 12195, 9414, 1440, 31426, 32200, 7232, 24412, 18934, 27800, 16967, 13263, 20816, 1442, 25018, 18318, 10064, 9856, 1444, 29209, 1455, 18736, 25268, 1458, 13411, 17850, 16199, 19650, 14315, 1461, 6121, 1463, 11646, 12070, 25675, 22467, 17774, 29120, 26570, 1464, 6079, 5875, 21073, 6011, 1466, 10204, 16349, 23164, 22805, 21807, 2095, 12928, 1468, 8747, 1469, 21602, 26898, 18092, 14737, 29170, 21615, 27229, 12932, 19038, 1473, 2552, 28050, 20210, 3949, 19649, 1476, 25740, 9919, 23792, 1477, 24251, 9285, 23276, 7875, 20773, 29601, 29957, 16295, 14263, 17969, 27815, 1831, 27186, 15365, 20279, 1483, 26682, 1490, 22113, 29355, 14361, 27772, 25529, 4361, 23690, 1492, 3950, 22366, 18197, 30996, 23359, 14051, 16840, 14493, 1706, 1504, 3119, 10079, 1506, 11186, 11077, 1507, 22466, 3965, 23896, 9126, 17699, 4847, 8123, 2820, 1512, 11817, 29575, 20704, 1513, 23007, 1927, 22216, 1519, 7994, 1523, 12628, 27598, 27252, 21077, 12203, 32313, 1528, 28014, 4212, 27499, 29362, 13468, 16290, 22149, 24189, 1532, 31332, 18855, 28730, 17857, 29722, 6170, 3780, 28110, 18975, 17609, 16406, 9989, 17380, 15081, 26284, 15546, 1535, 32195, 14602, 30268, 30224, 22523, 14326, 2448, 12394, 1537, 24929, 26383, 31115, 14391, 8062, 31862, 14264, 24068, 20713, 5293, 3896, 10793, 7443, 6088, 12035, 32286, 2083, 1549, 1550, 14106, 26184, 22859, 17093, 18104, 25239, 31618, 15537, 21256, 1556, 23191, 2870, 3120, 27554, 1557, 28152, 17484, 1559, 13910, 1569, 22230, 29033, 25728, 4373, 8813, 16493, 25185, 32391, 29433, 1572, 1573, 29518, 15631, 1575, 24091, 22294, 31590, 11194, 27933, 11905, 9963, 1594, 1578, 28321, 10036, 1579, 2476, 1581, 9909, 18904, 1582, 14969, 16494, 3789, 19599, 1586, 1588, 31839, 21812, 10891, 30795, 32071, 24599, 18082, 23913, 32067, 5215, 3255, 7943, 16070, 2442, 8792, 9500, 28313, 2222, 1596, 6334, 28997, 1598, 7046, 19364, 32346, 31845, 4605, 1602, 19472, 1603, 16299, 3753, 11446, 1613, 23976, 1980, 1619, 9323, 25565, 11129, 1625, 29687, 21710, 26774, 2409, 28536, 6690, 7016, 4776, 12390, 4068, 20435, 5726, 1628, 15943, 1634, 16197, 1638, 18334, 29869, 6442, 13160, 12459, 10246, 31686, 10029, 1639, 13735, 23273, 8199, 23335, 9556, 19429, 19808, 6174, 1825, 11780, 1647, 31976, 31978, 11863, 2470, 32024, 32178, 31151, 18610, 32365, 20034, 29516, 19389, 14249, 30749, 25827, 19677, 25860, 23342, 19356, 5788, 19477, 30016, 1652, 28031, 19408, 24615, 9757, 7414, 2358, 1655, 6270, 6950, 8900, 1656, 18824, 1657, 9088, 26504, 23987, 18083, 21482, 23265, 1658, 26690, 7293, 5956, 30683, 16864, 1659, 13268, 31211, 4357, 1662, 9235, 8421, 4102, 13977, 29299, 31136, 19271, 3978, 22486, 16567, 8749, 11164, 29511, 26908, 20885, 1665, 1666, 1669, 4993, 1763, 11040, 1672, 5807, 22535, 18239, 26550, 24132, 19360, 27217, 31276, 28867, 18345, 23975, 8153, 8989, 15545, 31425, 1674, 30434, 14406, 22610, 29167, 24280, 1948, 1675, 10185, 1677, 13948, 24844, 29557, 9121, 29452, 6823, 20390, 1680, 31744, 16243, 2311, 25771, 12793, 18324, 1690, 1691, 6925, 1692, 16515, 27983, 2346, 9863, 13556, 4118, 25540, 17377, 6591, 11373, 1695, 31922, 6689, 31935, 2219, 7110, 21415, 24525, 10583, 1696, 27414, 4340, 28865, 30210, 29634, 14267, 14404, 15276, 1702, 32074, 1704, 18111, 20130, 8386, 25872, 30684, 29612, 1715, 5438, 14780, 9760, 21048, 1716, 1717, 24731, 13879, 17438, 15585, 19170, 1718, 32089, 4036, 2705, 1720, 11695, 20142, 13790, 1722, 12636, 7252, 1723, 26832, 10482, 18441, 1728, 8431, 29651, 1732, 5749, 28716, 21172, 3615, 1744, 19546, 14245, 8717, 1747, 17102, 14479, 2348, 4615, 26551, 9038, 6599, 8977, 32204, 4368, 1748, 32104, 18872, 14738, 1752, 15600, 5506, 1754, 21855, 25483, 13637, 22317, 32307, 1755, 9560, 1756, 2532, 3268, 27661, 24075, 1915, 2230, 27029, 27059, 20135, 3585, 10571, 3539, 7071, 1761, 15595, 29398, 1762, 23704, 26525, 26349, 4125, 1765, 3860, 17814, 12890, 1772, 18557, 1776, 21837, 1778, 25612, 29293, 27882, 25028, 25451, 6020, 15638, 9881, 1785, 7106, 1786, 12958, 8762, 18438, 1788, 20318, 28460, 13605, 1789, 7313, 1793, 3098, 14196, 27105, 26174, 7202, 14862, 1794, 18019, 1796, 10386, 27278, 4288, 8380, 17742, 30520, 31172, 17864, 13518, 10049, 29874, 25888, 29250, 16801, 1802, 22068, 27147, 1803, 31200, 11532, 1808, 20058, 5131, 12931, 23253, 8518, 24311, 1813, 27409, 1823, 23594, 15036, 31244, 4139, 24984, 5812, 7750, 23358, 15625, 11830, 28371, 23304, 32138, 1829, 11945, 7616, 15602, 19881, 9944, 15589, 24364, 7139, 4145, 10651, 27658, 10330, 1839, 11931, 24682, 26226, 1844, 23450, 6063, 1849, 24572, 6850, 31439, 24904, 1851, 11425, 3806, 1852, 29197, 23317, 1853, 31584, 20875, 1858, 9993, 12040, 7056, 30476, 1867, 4033, 30671, 15866, 21911, 28070, 8378, 8706, 32188, 1869, 1870, 4013, 27261, 1871, 8741, 1873, 21732, 30054, 22132, 5103, 16031, 1876, 10929, 1877, 5693, 16447, 18896, 5444, 24856, 11763, 19920, 21118, 31940, 32170, 19970, 6114, 13195, 1884, 5089, 19324, 8993, 1885, 2166, 26285, 29123, 11298, 32242, 15909, 6952, 1889, 16402, 1890, 15917, 1891, 20080, 25909, 24996, 15947, 9284, 25948, 1892, 19411, 1895, 7643, 32359, 15747, 1897, 10689, 18041, 9532, 14311, 3254, 7099, 17415, 22415, 1898, 1900, 4262, 12989, 9796, 8137, 28873, 11855, 16558, 11400, 7856, 29908, 9438, 11849, 8656, 1907, 12197, 21111, 25921, 16294, 30558, 2451, 29042, 17064, 1909, 18457, 1910, 13261, 24886, 24849, 3883, 29311, 1914, 26530, 11277, 32122, 9091, 8556, 8609, 22150, 32372, 32084, 9736, 26569, 19146, 1924, 16273, 23841, 4027, 29199, 12299, 19083, 8965, 24582, 20168, 31730, 7958, 25298, 31264, 11209, 14567, 1928, 2635, 5397, 22482, 13417, 3429, 19814, 5291, 28723, 22309, 1929, 21632, 23477, 11165, 19536, 31163, 1931, 28226, 20363, 30087, 28805, 3531, 1932, 11816, 28402, 3912, 30413, 4844, 25364, 16173, 9629, 7532, 1933, 1936, 15622, 18119, 14939, 1937, 28157, 12187, 30399, 6432, 25310, 27058, 25089, 30884, 14684, 18338, 3177, 14243, 31473, 24367, 22845, 29616, 15090, 17690, 19913, 27776, 19596, 1950, 1951, 14566, 26519, 1956, 23659, 26622, 23244, 31738, 25245, 1957, 7329, 17286, 27807, 5902, 28771, 21142, 1959, 1967, 22600, 4760, 1971, 4295, 26691, 15681, 24326, 19861, 14065, 25039, 10803, 10420, 18624, 28768, 6139, 7432, 27853, 21941, 1972, 27892, 1974, 16328, 18382, 20685, 7364, 28656, 1977, 11649, 14752, 21309, 1979, 7204, 2754, 19667, 12493, 28387, 8648, 19584, 6279, 14924, 16426, 1986, 12220, 2671, 25503, 27439, 19684, 21993, 21585, 1989, 11409, 1992, 24903, 18688, 24347, 29474, 1995, 11757, 3927, 12081, 27564, 30662, 31874, 1997, 12045, 5914, 18752, 16535, 2000, 17237, 18492, 24500, 29335, 7811, 23888, 10398, 29297, 8974, 8746, 2005, 6493, 5606, 21350, 22392, 10050, 2006, 11184, 27408, 2008, 28608, 32427, 7812, 2369, 5854, 15112, 31411, 25890, 12751, 4294, 18231, 27816, 6155, 27557, 26675, 12112, 24823, 22959, 2013, 6728, 3055, 20651, 15963, 29980, 19347, 30900, 12788, 8235, 2015, 19220, 25178, 29827, 9490, 23531, 32220, 25465, 15246, 31612, 20769, 30543, 13876, 5124, 25576, 2021, 21436, 8020, 22531, 7086, 32043, 3184, 2024, 2087, 15655, 2025, 31437, 2028, 10818, 2029, 22463, 2030, 29539, 11246, 8774, 25168, 14086, 2034, 15126, 2036, 17086, 2037, 28073, 2041, 3381, 2042, 30447, 14450, 32441, 2043, 5175, 7405, 16715, 13090, 17808, 27415, 2047, 14973, 26096, 21041, 6327, 3909, 2051, 26148, 2052, 11934, 3663, 9970, 31485, 30057, 7876, 29073, 15237, 25323, 4203, 9312, 3425, 5646, 31052, 2059, 2061, 4075, 2068, 14124, 29445, 2070, 12379, 2084, 15840, 23447, 24800, 16464, 28516, 10877, 13220, 23101, 2090, 2093, 23161, 21095, 20175, 25852, 3820, 25048, 19124, 24812, 2096, 19597, 30653, 28553, 15760, 2097, 9590, 25315, 2098, 8940, 2100, 23981, 2101, 2384, 16458, 27740, 16460, 5600, 2104, 17679, 3026, 2106, 27687, 16285, 4180, 3387, 11198, 2109, 2153, 31870, 20278, 14700, 18639, 19520, 29344, 2110, 2111, 24985, 32172, 8911, 4110, 7117, 4956, 13709, 8627, 16553, 13881, 9309, 2117, 30182, 29650, 32206, 19510, 6260, 18262, 19727, 31260, 12106, 2120, 2121, 16491, 23115, 10399, 27888, 21024, 2131, 5759, 10007, 8283, 2132, 19500, 15874, 2137, 7323, 27255, 14776, 2138, 9081, 10120, 2142, 2143, 7623, 21370, 26741, 26120, 13624, 31214, 30973, 2214, 21187, 2145, 4719, 8294, 27552, 12474, 3366, 30048, 2150, 20820, 19630, 30104, 2151, 18112, 22668, 31902, 4323, 4324, 10558, 2157, 18707, 2160, 25998, 20542, 31604, 18298, 16586, 25496, 4014, 21773, 2161, 32120, 29272, 3226, 9094, 13942, 4302, 28620, 12679, 24353, 32202, 16893, 13350, 17117, 2162, 7201, 9838, 2165, 24697, 11178, 31948, 4408, 27435, 22794, 2722, 8323, 32124, 6587, 2914, 17750, 27736, 2170, 3190, 2171, 9253, 21259, 2173, 3954, 24701, 24083, 2180, 20169, 12691, 3987, 29609, 32257, 32344, 2185, 7212, 2189, 28817, 20121, 10946, 17341, 14847, 2192, 30841, 2193, 4666, 4185, 16811, 24710, 2833, 23462, 2198, 25924, 19794, 27222, 23951, 2202, 2205, 19119, 10231, 7394, 20622, 17987, 11297, 21714, 13361, 2208, 31021, 2209, 13724, 15055, 23519, 13726, 6598, 12826, 18369, 2216, 28683, 11871, 19888, 19639, 20661, 26146, 21894, 25882, 13600, 28207, 2227, 12763, 10087, 23956, 26555, 2958, 31811, 4245, 4491, 32047, 23484, 21109, 2526, 11352, 2633, 2247, 32375, 4707, 17842, 16396, 7978, 19578, 32255, 4017, 21093, 24841, 29133, 4524, 31777, 3003, 29454, 17189, 28383, 3667, 8176, 12306, 13892, 2253, 2873, 27191, 10723, 31853, 2258, 16602, 7636, 2259, 13689, 2264, 29140, 14046, 2269, 20450, 24352, 10739, 5052, 8286, 18206, 2282, 26072, 11122, 3488, 21912, 4695, 2289, 11044, 2291, 27227, 29699, 2292, 9677, 2295, 25914, 19834, 2298, 24868, 10170, 3875, 27614, 2300, 2812, 20092, 2301, 30685, 12667, 27962, 14991, 4095, 21208, 18859, 27795, 2306, 19434, 2307, 20971, 11543, 24817, 4591, 22811, 23106, 6397, 19972, 31619, 19693, 2314, 16365, 28047, 2322, 13780, 10446, 32382, 7371, 30928, 19579, 5523, 22221, 2323, 26864, 2325, 2529, 17977, 2328, 24248, 5445, 5587, 22854, 2331, 27869, 2334, 3584, 29247, 10361, 19331, 2337, 30798, 30237, 7172, 11266, 2806, 2344, 30830, 3041, 13065, 14192, 12666, 6620, 27472, 2353, 31999, 6557, 18137, 3497, 30544, 24242, 15007, 32068, 17534, 12730, 10227, 2749, 12855, 27644, 10500, 11057, 29841, 20334, 3993, 20907, 2802, 11150, 7509, 19885, 22497, 22079, 7321, 23035, 2357, 30466, 11282, 30214, 7127, 22861, 23446, 12978, 20839, 2359, 29118, 2360, 24760, 2997, 14984, 9766, 2363, 13877, 10014, 13304, 2365, 13973, 28327, 13732, 2366, 31141, 25661, 27811, 27814, 25467, 14121, 18472, 30167, 6973, 13474, 7015, 8476, 30166, 25029, 26927, 8915, 17427, 2370, 2373, 21311, 10223, 2374, 21098, 5910, 3802, 20218, 8457, 16873, 16956, 13229, 15459, 21776, 32147, 25692, 29741, 16571, 19617, 15470, 6783, 11339, 6284, 7347, 6826, 15968, 26240, 18310, 9812, 2380, 13387, 24218, 2381, 12782, 30283, 31934, 32032, 22910, 16683, 2386, 12341, 8445, 28540, 27372, 2387, 31457, 10747, 2388, 25419, 30227, 17634, 27166, 28084, 2392, 14682, 2393, 26468, 6371, 28471, 30845, 7007, 14415, 10377, 11822, 31970, 3056, 9087, 19449, 2397, 30898, 6387, 2399, 29018, 20303, 25849, 9133, 10208, 22563, 8661, 28378, 27858, 32373, 30501, 27274, 4866, 29678, 2403, 24797, 22056, 3558, 25124, 13840, 24890, 2404, 22190, 14068, 20027, 8838, 21883, 32031, 13364, 23726, 3643, 19669, 5158, 22803, 14433, 2410, 23681, 31053, 4920, 5231, 9459, 2413, 6789, 26907, 2416, 3791, 14513, 10335, 2418, 11989, 14405, 10419, 12752, 24271, 17611, 2424, 8079, 10352, 2425, 8395, 2427, 13262, 19836, 9690, 22045, 14568, 26946, 28954, 27345, 26771, 19263, 19938, 2429, 10585, 4955, 2433, 32163, 3733, 4420, 3843, 31980, 31945, 4671, 16335, 16860, 7764, 2436, 4346, 16246, 14211, 22247, 15406, 28367, 2439, 27078, 14401, 32239, 8626, 6522, 2443, 6912, 3548, 10907, 10453, 2446, 9723, 20346, 25131, 18043, 2447, 16201, 12868, 17709, 13883, 4642, 22090, 27090, 12322, 3682, 2456, 10930, 25918, 18410, 2890, 14198, 13323, 26831, 3017, 2457, 17636, 19760, 13260, 2462, 4660, 31341, 31830, 22493, 16724, 4617, 20010, 2467, 21705, 14894, 2468, 27192, 17204, 2469, 23306, 32162, 2474, 29215, 11232, 20772, 5525, 21658, 17901, 27440, 4169, 14589, 14860, 17181, 11046, 18739, 17659, 21657, 23339, 22423, 19585, 2707, 6870, 30115, 2865, 28528, 2478, 2482, 2491, 6910, 17880, 26325, 4285, 14541, 2492, 25717, 32442, 7761, 31938, 31089, 13134, 23320, 4390, 15982, 29180, 29312, 11163, 3850, 8914, 6500, 27493, 4427, 18813, 17761, 14396, 2500, 7798, 30846, 2503, 7093, 6627, 2504, 26403, 2505, 2506, 25727, 6757, 15177, 2508, 10131, 16359, 24727, 26505, 7039, 2510, 2516, 27038, 2520, 11918, 24157, 27844, 2527, 27994, 17619, 7604, 31197, 2535, 2542, 5384, 24571, 21502, 18261, 27341, 2543, 20570, 17081, 2547, 24792, 2553, 23742, 9228, 4127, 2554, 33051, 9257, 8402, 4743, 25022, 21435, 8134, 5465, 6050, 8049, 24128, 18105, 13539, 2557, 10800, 29498, 2559, 27062, 26534, 24553, 2561, 28642, 17025, 15301, 32345, 10188, 21211, 26179, 27997, 3808, 18653, 31397, 2570, 17581, 2571, 29613, 32154, 11406, 22929, 2572, 14937, 7965, 19030, 2573, 2574, 11706, 24135, 2575, 21124, 2576, 11917, 2577, 23067, 16560, 31819, 13043, 2578, 15926, 9773, 2579, 16716, 4506, 18540, 8410, 18560, 2718, 2584, 7896, 2585, 23207, 10812, 2587, 4459, 2588, 23885, 2591, 5282, 27307, 15999, 2592, 16946, 2595, 13046, 24741, 2598, 11565, 2599, 17424, 21782, 2600, 9134, 18891, 23846, 19190, 13042, 6494, 28330, 16163, 3103, 30089, 21075, 14310, 20957, 11252, 9371, 28934, 16439, 2605, 21813, 5527, 2607, 22307, 8148, 2610, 25335, 33055, 26895, 4080, 17704, 2612, 10367, 2615, 2936, 27932, 2616, 3216, 30263, 2621, 32121, 27755, 8776, 6098, 22665, 30389, 3930, 18694, 31553, 25319, 3477, 2628, 7712, 32034, 9559, 2631, 16236, 12631, 2637, 12130, 2645, 16548, 2649, 17250, 10496, 26034, 2652, 14885, 14440, 18964, 2653, 27303, 2654, 17078, 31896, 29882, 32126, 11762, 23964, 15529, 4884, 30783, 21132, 11527, 2660, 2663, 12850, 26379, 2917, 28783, 9860, 6625, 30748, 2669, 10450, 17397, 20884, 27101, 17328, 25732, 13777, 32384, 12759, 32142, 5440, 30215, 10851, 18516, 2675, 29625, 2676, 2848, 23258, 11970, 23922, 3390, 21674, 2681, 3054, 2685, 22893, 20838, 10556, 5611, 2693, 4925, 13406, 14545, 3196, 30719, 24747, 8634, 18906, 27214, 32306, 31133, 14882, 11885, 12554, 26604, 30626, 2695, 2696, 12822, 2697, 3974, 27627, 2701, 23172, 31942, 6080, 2985, 21059, 29896, 7501, 4523, 9923, 2709, 2712, 2945, 23204, 28830, 4415, 11620, 2716, 17458, 2720, 4985, 26050, 3046, 2721, 29486, 20518, 13270, 3330, 30503, 7415, 2725, 21703, 30675, 6164, 28307, 30817, 32164, 15813, 2726, 11048, 2733, 11889, 2735, 32262, 2741, 17959, 17275, 25774, 9619, 32039, 2745, 20123, 31001, 12925, 2748, 31646, 25300, 22295, 9050, 2752, 17735, 8704, 25606, 2765, 17090, 24343, 2779, 2781, 9795, 2783, 5884, 7553, 17751, 19192, 17276, 15311, 2788, 14830, 7261, 16731, 2789, 10642, 27826, 28333, 7882, 15018, 7489, 4167, 2799, 4160, 8074, 9466, 2803, 30282, 23323, 2809, 26933, 32153, 22642, 23634, 2811, 10055, 2815, 27935, 2817, 9344, 2818, 5061, 24783, 13870, 2821, 6355, 32410, 2822, 13905, 2823, 2824, 5667, 5573, 13095, 6276, 6211, 2825, 8144, 16390, 18139, 27528, 15449, 2829, 9888, 16438, 24674, 20274, 6380, 12669, 16878, 23984, 2830, 6523, 8931, 29205, 2840, 25905, 24492, 31579, 2843, 31349, 17825, 7257, 27287, 21194, 23735, 2844, 22911, 14071, 30063, 2849, 31301, 16463, 31761, 11347, 2851, 21994, 3015, 5558, 23725, 31914, 13913, 2859, 8023, 2866, 8572, 10823, 22553, 20026, 20961, 26027, 2868, 2875, 19499, 30981, 11516, 2884, 2886, 23404, 2888, 26915, 29892, 2889, 9055, 16461, 2900, 24148, 12744, 16604, 11736, 17136, 2907, 11204, 6210, 3045, 2910, 6357, 11596, 30479, 2912, 4960, 20855, 26455, 16358, 16963, 3514, 14141, 32293, 2915, 6577, 30491, 27128, 27610, 10866, 14968, 21314, 30377, 7431, 2919, 25960, 10776, 22764, 11270, 2921, 25030, 2922, 2925, 33049, 6313, 19690, 2926, 30661, 10922, 24117, 2930, 16790, 32267, 9027, 22321, 2931, 13716, 10890, 11310, 9146, 2932, 16132, 31856, 2933, 31852, 30111, 2940, 30849, 32026, 12595, 30459, 11977, 5276, 6521, 20260, 22081, 19418, 19889, 12193, 2953, 31563, 3758, 18283, 31468, 3323, 30455, 6831, 18107, 2957, 32323, 8771, 21696, 20876, 29954, 3135, 16353, 2960, 23906, 2964, 32395, 2966, 2967, 3754, 2979, 7018, 15324, 18431, 2982, 17817, 2983, 18219, 9373, 2986, 21764, 7246, 2987, 24991, 27233, 20970, 2988, 2990, 21738, 15465, 20821, 2991, 32159, 12087, 2995, 13085, 15400, 17772, 2998, 23702, 28807, 6083, 28678, 5570, 24216, 23417, 19611, 6250, 26537, 3006, 13491, 13754, 3007, 3010, 11588, 3012, 14933, 3013, 14962, 8307, 20978, 3016, 6585, 4816, 11767, 3765, 3020, 23506, 19432, 29129, 12084, 7115, 22906, 5780, 28456, 13335, 21117, 5239, 3694, 14903, 29380, 27373, 30515, 10138, 9986, 22731, 26517, 29642, 23787, 19376, 19228, 8899, 15029, 14610, 22094, 15229, 9316, 4874, 28593, 3030, 3033, 20729, 3037, 13634, 3040, 7097, 24534, 6949, 16575, 13209, 31724, 3047, 21640, 3052, 27241, 17938, 3053, 8934, 18840, 4331, 10719, 18589, 26221, 28521, 25400, 12480, 29670, 17727, 26095, 3444, 24455, 24887, 3057, 30249, 19785, 3906, 11159, 3305, 4468, 18434, 12726, 3064, 30987, 14641, 31418, 31927, 3068, 3069, 28476, 3073, 30607, 9292, 7390, 30831, 14418, 31199, 3082, 9704, 13919, 18354, 3085, 21886, 3088, 29966, 3089, 18323, 30324, 9819, 3090, 11702, 18071, 3815, 12753, 30173, 8065, 19695, 3109, 13294, 17749, 14662, 25784, 22298, 16888, 8701, 30058, 25943, 11654, 20145, 6443, 22763, 30941, 26371, 3123, 28204, 15628, 19963, 3125, 23144, 5779, 30804, 22092, 18225, 31818, 16605, 29810, 32253, 19662, 25167, 3127, 19705, 28256, 7072, 4852, 32081, 23266, 16934, 31322, 3142, 12997, 3145, 28043, 3146, 21340, 3149, 21983, 29415, 24106, 30451, 3153, 13054, 18749, 3547, 12954, 3159, 12852, 3161, 3162, 10488, 3166, 17218, 18663, 12116, 3168, 3169, 23209, 24044, 3247, 30423, 27433, 3179, 29679, 24813, 11116, 23257, 9697, 14101, 17613, 26903, 15113, 3186, 19710, 8442, 15995, 18738, 8644, 3191, 18608, 3192, 17542, 23732, 26879, 30666, 3201, 10339, 24712, 3202, 19627, 21992, 10142, 29970, 5929, 3206, 30329, 23441, 3211, 3212, 4893, 30189, 22704, 12403, 13138, 3215, 4681, 25431, 11622, 4794, 3220, 27319, 3221, 30682, 32304, 3228, 14138, 20296, 21355, 3242, 4840, 17756, 3246, 25355, 3252, 3253, 17005, 7265, 11433, 31108, 27848, 15262, 13425, 32302, 16397, 13320, 32322, 18429, 29512, 12770, 3262, 15594, 16812, 15137, 18453, 7154, 7928, 21514, 6678, 16389, 13169, 3279, 30258, 3280, 30718, 3284, 32130, 14781, 31261, 21785, 19302, 24528, 11002, 21541, 24820, 3287, 18625, 5381, 18657, 13176, 3288, 24590, 27362, 26162, 3293, 12435, 3295, 6822, 31964, 3298, 17100, 28036, 18830, 21995, 3302, 27471, 19900, 21778, 4447, 20069, 3306, 13547, 10343, 8507, 19871, 9769, 15374, 10527, 21195, 3311, 20965, 17379, 8753, 18247, 30915, 3312, 30872, 18051, 8438, 12615, 17138, 3315, 22123, 3317, 9246, 3322, 12010, 3967, 17414, 13245, 3325, 32061, 18839, 6848, 24344, 23100, 11408, 3335, 31166, 3337, 24066, 17413, 20024, 5108, 10147, 20944, 9826, 10969, 15448, 3348, 8698, 15102, 21005, 24780, 3356, 31717, 26767, 3357, 18057, 3358, 9509, 19019, 30059, 27979, 26085, 3361, 5189, 26812, 3814, 6866, 13162, 27076, 19591, 19313, 10351, 30703, 30674, 14842, 9524, 25621, 16618, 19207, 30775, 7404, 13642, 3383, 19855, 32440, 32348, 31910, 6463, 9453, 3388, 27889, 11117, 9761, 5855, 31885, 11114, 20439, 3391, 8451, 17713, 3393, 3422, 3394, 29014, 20187, 3400, 22761, 3406, 13546, 14203, 31209, 3408, 29736, 6710, 3409, 24417, 3411, 18853, 32005, 30597, 14357, 16877, 3415, 17505, 3417, 30539, 3419, 10192, 3420, 4247, 11381, 31943, 18311, 20436, 7422, 15750, 30799, 10511, 31993, 3431, 14853, 13632, 9102, 26657, 26951, 11399, 17180, 28408, 3437, 23459, 32180, 32125, 18943, 17606, 3697, 25140, 3443, 30162, 18180, 6393, 13055, 22198, 17129, 3445, 22898, 22238, 13776, 22436, 25359, 16133, 21530, 31641, 7471, 8140, 11387, 9617, 28493, 3449, 16999, 15293, 20913, 3451, 3453, 3876, 27401, 31251, 4692, 3454, 12074, 17042, 20038, 27778, 12524, 3456, 15002, 20307, 22573, 27863, 3459, 25693, 3460, 19663, 32416, 24963, 3735, 12146, 10660, 6558, 22677, 3464, 3471, 25753, 24925, 8274, 3472, 17470, 19524, 3474, 17342, 22697, 4646, 28235, 26605, 23175, 3483, 7709, 26405, 19335, 8711, 9234, 6449, 3484, 3487, 10295, 14601, 21489, 3491, 29831, 12048, 14282, 12047, 29254, 23682, 23866, 6263, 3999, 8063, 7051, 20823, 16569, 30953, 3499, 3504, 27930, 3668, 21968, 21536, 3508, 26669, 17765, 3516, 20013, 27019, 20826, 3518, 22260, 32352, 32326, 29529, 3520, 3726, 27525, 10052, 3521, 3522, 3527, 13236, 19721, 31051, 4008, 31722, 30241, 3537, 14472, 9938, 3542, 22449, 3849, 23670, 26540, 31380, 3551, 21789, 17327, 10283, 27735, 24064, 25277, 15097, 5186, 3556, 3557, 15501, 25654, 9384, 26384, 18764, 10364, 3559, 8898, 3563, 12059, 20271, 17520, 19366, 6043, 16743, 4038, 5000, 3564, 24191, 5674, 3565, 27226, 22477, 8887, 9588, 3566, 28973, 3569, 9947, 29290, 3573, 4142, 12680, 3574, 10392, 3576, 15994, 27263, 13126, 5993, 17920, 4208, 3596, 11783, 11156, 17707, 30221, 27651, 31873, 14400, 29682, 29729, 31127, 3610, 6649, 9527, 10347, 25191, 24561, 8769, 24239, 15550, 31789, 18735, 26980, 19761, 4636, 6944, 3619, 28570, 3622, 3623, 12884, 3626, 32230, 18333, 3630, 20987, 23397, 18631, 16330, 15694, 30453, 3637, 27325, 24814, 3638, 17349, 3639, 12407, 3642, 21786, 30939, 3645, 31578, 30023, 20093, 4758, 17273, 31834, 14294, 27219, 8819, 3652, 9362, 25796, 20131, 3654, 24349, 3656, 13997, 21165, 3659, 8280, 31134, 25092, 26789, 3666, 18530, 31994, 5100, 15780, 19967, 15482, 10820, 3669, 31687, 23755, 29688, 16531, 3670, 3673, 16787, 12256, 25149, 18902, 3676, 10342, 3677, 22871, 3678, 3681, 8876, 31435, 6013, 3683, 3684, 3689, 13201, 3826, 3690, 3692, 3893, 14826, 3695, 17628, 14110, 4006, 3696, 18506, 18679, 25146, 11185, 3698, 14411, 26421, 19887, 3703, 27288, 11501, 3704, 9686, 3706, 22329, 23593, 3712, 14269, 27480, 31521, 15710, 25365, 28144, 10553, 15432, 3714, 29431, 25019, 18806, 7818, 3719, 20568, 12791, 26390, 8100, 3723, 19722, 3724, 31838, 26532, 28795, 6399, 9724, 9230, 12090, 22158, 30959, 3727, 17620, 7296, 3729, 25008, 22952, 19558, 26366, 22516, 4538, 13533, 7731, 5689, 3739, 29031, 3742, 17023, 3743, 21571, 3744, 27023, 6140, 3746, 20011, 6247, 3747, 16848, 3748, 30561, 3750, 16085, 21556, 4967, 10441, 31929, 22300, 4146, 21345, 7150, 7218, 21681, 26320, 19898, 23655, 30240, 22455, 17508, 4113, 3763, 7182, 9324, 23900, 15231, 28405, 15234, 31974, 15826, 12292, 3767, 4040, 29267, 31682, 13118, 25326, 29126, 18512, 30039, 3769, 6869, 20479, 11413, 18172, 8154, 12172, 3774, 22323, 22536, 3775, 23327, 33831, 28163, 27612, 12224, 24815, 26959, 3777, 8540, 29403, 3785, 11088, 12883, 25781, 3790, 19687, 28987, 32097, 3795, 16580, 12257, 4530, 28879, 7167, 3801, 4897, 14108, 23950, 3803, 3805, 11796, 11612, 5263, 23246, 26296, 14283, 3992, 11746, 31983, 9131, 22883, 5777, 3809, 16835, 3812, 27144, 21443, 4509, 16907, 9712, 9729, 28687, 10549, 19457, 26166, 12722, 16002, 32091, 31267, 14097, 22848, 30769, 27874, 14671, 3816, 3819, 15320, 10456, 30514, 10504, 5613, 17719, 22556, 28320, 28761, 14452, 23331, 16546, 18911, 22078, 27801, 12102, 3831, 26619, 29950, 3834, 16480, 4479, 10237, 22318, 20139, 32062, 19886, 8728, 8650, 9644, 3836, 3839, 8864, 10195, 3840, 5459, 3841, 22021, 23760, 5082, 18435, 15170, 17720, 12032, 27731, 28605, 4682, 24564, 15258, 22618, 10460, 21312, 19783, 5046, 11305, 10612, 26332, 3852, 7801, 3864, 10299, 32174, 31048, 3865, 20470, 21504, 14382, 3866, 12062, 3872, 6183, 27282, 5324, 15514, 18602, 14234, 5161, 10750, 3877, 8529, 15216, 3878, 18812, 15960, 25583, 4631, 11132, 3882, 20464, 32137, 25127, 31878, 19890, 4096, 6734, 6199, 14965, 3891, 17336, 29837, 11115, 18562, 19665, 10321, 9425, 8519, 8733, 7057, 7382, 3899, 15182, 8516, 32059, 3908, 25254, 32058, 31299, 3911, 8216, 13412, 31376, 28564, 3913, 22729, 3915, 3925, 22695, 6715, 12550, 3928, 25685, 8156, 8842, 18274, 3929, 30877, 19039, 22281, 9183, 21419, 3932, 32335, 15505, 5922, 3936, 5768, 18383, 3940, 14185, 3946, 9850, 8009, 28904, 14688, 19655, 6506, 17219, 26740, 13990, 24095, 25330, 25757, 3953, 13856, 6052, 3955, 13177, 3956, 8659, 13012, 21447, 9716, 24656, 4232, 28712, 3961, 3962, 6927, 9983, 29494, 8330, 6512, 22002, 19931, 15948, 3969, 26871, 31278, 9874, 6290, 28072, 32038, 3976, 5326, 7160, 3979, 3981, 11094, 3986, 20065, 28257, 28753, 20294, 13922, 3989, 10257, 3990, 13807, 31290, 15383, 3991, 14516, 8070, 4887, 15389, 10614, 16154, 22235, 22393, 5137, 12794, 3996, 18959, 4005, 17555, 18292, 31649, 4007, 27086, 29860, 16901, 23348, 11255, 29162, 5039, 10140, 4011, 30361, 10684, 11948, 29384, 32017, 11591, 4016, 11904, 18655, 31867, 16311, 23176, 21135, 29506, 21009, 4029, 22018, 4030, 27619, 21938, 30807, 6922, 9546, 29916, 30731, 6914, 25174, 4037, 20408, 30818, 27374, 25197, 5645, 31169, 4045, 6222, 4047, 27001, 23205, 6182, 5269, 4050, 27060, 21284, 13582, 7862, 26562, 4051, 14932, 4054, 12617, 4055, 24014, 14988, 4056, 4914, 14034, 17888, 4061, 32432, 32215, 30199, 25700, 30078, 4062, 4063, 9401, 24313, 4066, 10483, 4069, 31196, 4070, 4073, 31323, 4706, 10349, 6180, 30084, 30790, 30920, 29844, 28829, 18593, 4078, 32423, 23494, 24736, 19941, 28667, 5963, 7129, 4079, 28274, 13614, 4085, 32429, 10099, 5207, 10159, 4092, 11928, 11558, 15394, 12300, 10435, 6968, 19743, 11241, 4103, 4109, 8973, 26958, 10157, 4111, 5168, 18914, 4286, 29034, 32310, 23112, 12373, 28373, 4122, 17308, 14045, 27838, 4131, 32140, 14191, 23033, 16061, 6450, 17201, 30140, 20201, 14805, 15538, 23179, 20577, 11625, 4140, 21936, 22314, 24017, 15726, 31835, 27161, 5271, 32209, 19422, 28503, 12509, 17142, 29015, 4157, 11229, 8581, 4159, 4162, 19664, 4163, 16281, 30919, 4164, 4166, 27679, 7976, 18023, 4168, 28125, 25667, 28022, 4170, 25641, 16526, 4171, 4575, 4177, 24335, 4178, 23815, 16337, 24428, 12857, 13113, 4189, 4194, 22781, 4198, 12080, 13559, 4199, 4200, 19226, 26241, 18720, 10247, 4202, 6208, 31931, 12923, 7998, 8109, 25173, 4209, 5743, 6759, 22229, 10106, 28121, 4824, 8951, 10461, 30568, 16094, 14852, 6045, 29509, 25996, 15860, 13504, 4216, 21290, 16306, 8381, 24720, 11043, 29825, 4218, 21805, 29542, 19336, 20352, 19551, 24093, 27588, 4221, 4225, 17101, 18393, 25273, 6947, 25594, 15379, 5952, 24636, 4228, 12612, 4229, 15697, 20275, 28305, 19554, 22155, 11187, 29426, 15296, 21684, 4581, 29937, 15059, 24922, 8432, 15017, 4234, 4236, 4279, 4237, 22522, 4239, 4244, 26388, 13207, 16122, 4250, 5199, 4251, 5880, 7292, 20150, 7923, 4253, 13646, 26121, 18102, 13622, 4255, 8214, 5944, 17277, 12930, 20114, 9422, 4263, 18448, 32155, 30018, 16009, 4265, 28770, 23267, 6318, 23360, 4271, 24170, 4277, 4411, 4278, 12926, 5704, 19865, 28922, 21501, 13604, 12058, 30262, 15021, 26301, 10168, 14696, 6604, 4289, 6231, 4290, 6564, 27157, 23747, 26428, 5369, 25724, 8226, 8748, 13312, 28993, 4296, 22700, 4297, 28064, 25767, 4299, 32276, 8745, 15852, 4303, 9521, 4307, 16117, 4311, 4312, 29356, 10334, 26195, 29797, 29373, 29271, 14943, 19322, 9332, 4693, 22795, 26022, 14912, 11028, 21277, 14187, 15738, 12450, 11955, 9789, 17252, 8334, 31996, 5406, 4484, 15435, 32379, 6629, 15273, 24411, 10609, 12031, 27886, 29377, 4333, 15251, 16891, 6962, 27357, 11999, 6294, 5097, 24790, 12014, 9659, 4336, 13597, 29893, 4540, 28379, 4341, 15985, 4343, 21412, 29881, 8788, 19831, 9847, 22253, 16622, 6596, 31064, 19171, 31486, 29934, 4350, 23788, 15971, 25944, 29830, 4355, 8268, 15698, 22702, 16227, 10379, 4362, 31928, 6224, 4364, 7236, 30261, 4376, 4389, 32369, 17870, 19997, 28026, 9872, 4396, 10516, 21654, 11574, 24533, 4397, 12756, 14676, 4403, 25642, 4404, 11024, 4483, 7850, 15065, 4406, 7602, 24567, 13588, 17747, 10329, 26006, 6359, 27533, 22059, 4418, 9135, 28429, 4422, 11710, 4423, 4429, 23545, 4431, 14743, 4434, 29261, 13104, 4435, 4437, 18445, 19947, 18501, 4868, 4439, 4442, 26920, 5012, 9201, 7280, 30127, 23461, 21867, 12532, 11936, 25765, 4451, 27498, 26068, 23303, 22200, 31268, 21771, 10154, 4456, 25811, 4458, 11616, 12982, 16437, 21690, 8053, 4466, 25947, 4473, 16256, 4474, 8008, 4800, 24446, 8056, 26017, 23759, 6674, 28919, 4475, 19746, 15468, 13380, 29639, 4480, 4481, 21966, 5703, 27010, 5466, 25155, 30229, 32082, 4487, 22751, 4488, 30176, 12192, 22435, 4490, 6396, 4494, 22072, 14285, 4495, 29407, 25366, 10315, 20156, 4501, 4504, 9367, 27164, 4507, 22525, 4511, 24043, 21891, 21568, 30038, 9491, 5946, 28519, 12247, 15699, 4529, 18727, 21339, 17358, 19272, 9233, 29104, 8010, 17114, 4545, 7243, 8279, 31492, 4550, 26387, 25147, 14177, 32093, 4566, 11672, 27485, 17178, 11243, 4568, 31399, 27975, 29976, 4584, 16557, 4588, 32098, 20726, 6502, 31668, 30190, 13808, 25873, 4592, 30978, 27290, 4595, 14820, 7707, 4597, 17173, 25976, 22104, 20153, 10808, 12641, 23939, 4611, 23365, 8970, 4612, 21721, 4614, 22824, 29784, 4622, 19167, 4909, 31802, 7339, 4634, 7945, 32241, 29322, 31962, 14103, 24679, 32201, 28890, 20000, 4640, 4641, 14998, 23870, 8854, 5970, 26670, 15248, 4643, 18432, 4645, 5203, 4656, 20023, 4658, 10332, 6935, 20466, 4659, 23362, 22117, 27989, 4665, 26583, 25602, 8366, 4667, 10325, 6860, 15708, 4672, 5475, 19744, 19492, 12244, 25172, 29855, 15663, 31756, 4684, 29878, 26557, 4690, 17546, 29241, 4697, 4698, 6916, 4699, 8375, 15845, 11382, 4703, 6549, 21239, 25808, 5125, 28947, 15709, 7858, 26073, 26693, 14443, 8234, 22574, 27587, 4715, 9750, 15457, 29752, 27750, 8902, 5481, 26687, 18155, 6686, 4723, 15437, 31522, 11101, 31420, 8321, 29925, 4749, 4756, 21590, 30648, 4761, 13459, 21856, 27299, 30952, 4765, 7548, 14374, 26467, 9454, 30863, 20030, 15456, 26854, 4777, 26211, 6440, 20641, 26841, 4778, 18454, 4782, 12441, 30474, 4789, 7950, 13300, 26077, 11007, 4790, 4792, 29395, 13500, 4795, 11875, 19407, 26217, 29833, 4798, 8855, 30784, 5491, 4805, 5135, 7081, 28052, 4806, 4810, 25528, 33060, 9275, 4812, 22419, 4814, 28258, 27103, 21647, 20941, 31911, 16292, 23509, 4818, 4821, 18376, 4822, 6532, 29590, 24227, 27120, 26521, 15949, 6381, 22416, 8827, 20562, 6339, 29090, 29776, 4841, 27914, 24499, 15339, 24357, 4850, 7444, 27423, 7271, 4855, 4856, 4858, 12015, 13420, 32094, 31897, 29186, 4862, 6022, 15242, 20234, 28604, 5038, 16210, 25079, 11704, 18171, 4873, 5865, 11368, 4875, 7902, 4879, 10722, 4880, 9620, 14392, 24217, 4881, 7421, 21974, 30037, 13907, 7223, 21963, 4888, 8633, 4889, 4898, 28345, 7586, 19041, 4916, 29388, 4918, 21189, 6486, 28008, 24249, 31905, 18384, 20688, 19474, 4929, 13188, 4938, 13060, 4944, 4950, 7860, 4953, 5362, 15222, 32079, 31265, 29707, 4958, 7948, 4959, 19949, 23406, 12003, 4963, 18790, 10892, 4964, 20851, 25835, 17167, 22749, 29085, 32295, 4972, 4974, 4976, 28337, 8117, 4978, 4981, 8475, 4982, 5700, 13536, 26169, 8462, 4994, 32387, 31933, 27291, 16220, 5003, 22645, 32411, 32350, 8169, 31412, 32027, 31944, 5013, 14478, 21188, 27646, 5015, 29562, 28080, 5022, 11367, 5033, 19790, 31071, 9601, 5034, 28446, 6417, 29176, 30979, 22581, 5040, 13189, 5041, 21020, 19748, 5045, 11143, 8664, 9260, 12538, 30500, 28654, 29900, 5047, 29926, 5048, 28412, 5056, 9281, 5059, 28255, 28888, 5062, 29054, 5066, 13758, 28151, 20904, 9415, 10864, 21793, 6315, 8499, 9988, 11581, 25106, 5169, 7743, 5071, 31232, 21461, 10546, 28463, 20289, 5695, 17900, 31085, 27349, 5075, 5077, 5078, 16264, 5079, 20789, 26545, 9987, 6605, 12504, 14473, 20193, 31291, 5080, 5086, 6640, 8072, 19435, 29581, 17024, 5090, 10059, 6778, 13524, 21708, 31711, 5091, 28107, 8489, 12163, 17739, 8796, 23410, 21389, 17726, 22163, 17402, 5829, 14543, 5096, 16093, 14590, 5105, 5107, 20286, 28395, 5110, 14778, 15232, 22566, 29339, 5739, 23707, 15409, 5805, 21168, 8342, 8311, 32016, 20658, 20891, 6156, 32113, 32000, 5139, 26548, 11907, 21103, 27618, 8888, 9341, 21100, 20304, 9188, 22303, 6040, 5144, 20818, 32090, 5154, 5157, 14323, 24641, 29554, 11441, 27009, 30147, 20480, 5159, 32347, 27108, 15049, 27929, 16251, 26339, 5162, 26141, 10020, 8882, 27599, 15014, 5165, 6677, 15637, 25760, 5173, 24799, 14052, 5179, 10559, 11306, 5180, 7547, 5183, 21318, 25031, 22754, 24114, 31218, 11803, 5184, 18350, 5185, 17278, 23139, 6741, 26370, 8640, 9396, 5193, 5360, 10100, 5196, 8571, 25778, 5858, 30497, 14098, 27973, 24215, 12412, 13736, 15732, 5209, 5212, 19711, 5213, 28737, 5214, 29991, 21094, 24842, 25664, 5221, 5991, 20389, 5234, 30580, 24254, 5246, 25440, 5248, 8969, 11906, 5251, 31718, 6005, 25289, 9483, 25142, 17246, 5252, 5256, 8338, 16844, 19255, 7304, 14353, 23151, 14964, 31900, 24350, 20932, 15543, 5272, 21160, 8628, 19032, 28441, 31240, 20633, 8816, 14678, 19384, 5280, 23550, 22989, 5288, 24307, 18698, 18500, 5295, 23200, 5300, 11304, 15443, 26066, 5301, 5311, 17360, 5312, 17991, 30388, 5313, 15950, 5317, 5579, 5319, 15569, 21760, 5321, 22659, 5322, 20535, 29264, 12376, 17044, 13574, 5328, 28404, 30907, 32065, 5335, 25571, 19483, 11749, 29374, 19168, 8001, 5343, 8563, 31968, 29594, 5345, 31630, 12155, 12651, 5350, 30560, 5355, 31863, 5359, 15830, 29423, 20035, 9813, 15904, 5367, 10856, 23121, 6301, 31831, 10602, 17806, 5370, 9368, 5372, 24099, 5379, 15796, 30649, 25817, 5385, 10129, 5388, 8945, 5390, 16576, 21865, 9520, 12213, 29343, 5394, 16342, 20514, 25212, 5398, 27841, 5399, 26429, 19172, 5410, 25171, 5411, 9062, 18763, 5415, 27102, 31833, 21473, 10177, 31899, 8058, 8593, 32028, 12308, 17721, 21851, 17502, 22046, 5419, 22960, 17003, 5420, 31512, 5422, 30796, 10637, 5427, 5430, 29564, 28582, 5431, 24145, 5434, 14536, 5435, 5437, 9420, 8340, 32291, 29779, 12802, 32214, 31879, 21161, 5446, 26283, 5448, 25555, 5455, 5456, 6418, 7488, 5463, 12593, 15566, 9654, 13159, 24829, 14994, 14529, 14657, 29862, 18036, 12929, 29148, 8589, 16405, 14483, 5484, 21317, 27079, 9977, 16363, 13685, 5487, 17665, 18527, 14339, 16513, 6990, 5499, 19300, 14208, 5500, 28068, 21918, 5512, 15825, 12336, 5516, 5519, 5520, 20412, 26909, 32269, 7270, 32158, 21665, 5530, 14598, 16442, 25177, 21973, 32151, 5532, 22250, 5540, 16274, 19773, 5544, 30832, 5548, 5551, 18743, 32066, 5553, 17798, 21819, 15330, 16206, 5690, 5556, 31949, 12436, 18364, 8544, 14680, 5567, 12210, 13675, 5571, 5576, 22786, 12411, 32368, 12335, 5585, 6229, 10155, 5593, 31005, 13609, 26445, 22673, 5603, 28912, 5610, 28414, 20924, 14224, 13036, 30564, 23271, 10533, 5617, 13908, 5621, 31596, 14059, 5622, 16687, 5627, 5632, 17095, 5637, 24715, 5640, 27116, 18805, 6713, 24058, 8481, 11220, 16600, 12061, 5652, 28894, 19842, 30812, 5663, 15934, 25023, 20513, 30044, 13194, 29265, 15313, 16772, 12798, 5675, 7666, 22954, 5682, 23616, 5683, 32298, 32361, 32171, 14675, 5692, 5762, 29190, 5698, 18157, 13482, 19052, 9558, 5705, 13452, 5706, 28760, 22877, 5708, 5709, 27746, 30242, 5715, 28530, 6090, 31701, 5721, 19123, 26744, 5722, 31438, 5723, 5733, 14332, 11202, 13382, 9861, 21393, 5738, 16443, 32250, 20073, 32277, 32013, 9175, 11059, 15369, 5746, 22319, 9056, 27160, 8359, 6480, 5755, 19033, 11979, 28416, 12558, 7213, 32131, 5761, 26858, 10117, 8300, 19005, 5774, 11580, 22575, 9478, 11953, 5809, 25927, 5810, 16746, 30646, 11952, 5818, 6801, 32321, 12847, 5821, 22252, 12510, 13338, 5823, 5827, 18697, 24390, 24889, 5830, 25045, 5831, 17539, 28069, 10951, 29128, 5853, 22262, 19921, 15502, 17527, 30700, 18508, 13769, 32002, 5870, 23945, 5876, 5877, 23529, 26554, 5879, 12834, 11105, 13923, 32218, 22106, 30925, 32260, 18269, 9481, 16866, 18396, 19458, 22224, 30526, 5889, 13580, 13522, 5893, 26999, 5896, 16267, 5898, 21986, 9047, 5900, 5901, 21302, 7242, 15769, 32227, 5904, 5905, 24514, 32244, 10574, 23379, 5913, 13583, 7671, 10923, 26523, 5920, 15500, 8349, 5925, 31077, 15767, 23170, 29859, 32007, 5931, 21140, 10410, 5933, 5935, 24672, 18750, 5943, 7878, 21639, 19647, 25158, 26124, 9128, 15841, 5947, 27425, 8225, 10293, 11157, 18733, 23118, 16543, 22946, 23758, 24695, 10371, 32185, 5966, 8554, 5968, 15762, 23965, 22707, 8693, 5975, 18424, 19936, 5982, 10987, 5994, 6703, 27170, 29923, 6003, 6006, 16573, 31427, 10648, 6007, 17545, 25405, 9105, 32118, 6010, 20487, 6015, 6025, 31314, 18484, 6026, 24171, 6042, 16065, 10455, 25794, 6046, 29476, 12038, 6055, 16126, 6059, 30387, 13241, 28581, 6067, 6073, 10101, 14127, 6075, 8909, 32092, 22966, 31963, 31018, 21904, 8880, 6081, 13885, 6084, 23468, 23202, 7716, 14275, 6097, 24513, 14080, 21753, 31195, 31551, 14169, 7424, 31191, 21868, 6099, 9099, 6102, 29963, 24468, 9460, 6103, 10624, 16129, 6104, 22118, 19825, 6107, 31774, 25248, 6115, 10816, 6116, 29793, 16673, 6118, 20691, 28277, 10058, 6130, 19292, 30642, 6213, 13101, 28709, 25747, 6133, 23734, 25472, 25320, 22701, 6149, 16613, 21183, 18329, 10322, 6171, 24668, 31344, 6173, 8592, 31355, 14073, 11377, 9439, 6433, 12542, 23830, 25274, 25059, 32012, 15721, 16817, 28652, 26941, 15138, 6207, 22091, 22023, 15199, 10688, 13557, 13743, 6223, 16130, 32086, 10235, 16168, 19537, 6230, 6234, 25205, 28227, 18190, 19243, 6235, 6445, 28109, 6242, 6987, 6245, 11285, 15462, 6254, 13778, 31960, 17826, 31950, 19053, 6256, 6259, 25221, 29456, 12049, 6261, 29035, 6264, 24962, 6265, 22790, 6269, 19306, 20028, 6271, 27112, 6273, 24432, 31106, 6402, 6280, 14980, 24816, 16566, 6285, 18979, 6292, 13623, 12346, 6295, 23589, 9263, 6296, 30332, 25333, 6298, 22333, 28192, 6309, 30634, 22087, 26380, 13759, 20354, 29906, 20341, 6320, 32223, 28565, 16346, 6335, 6344, 29812, 6347, 8252, 6348, 28213, 6352, 6353, 29723, 6747, 31472, 6360, 22514, 6361, 29638, 28203, 6362, 30970, 6363, 6373, 6379, 10162, 14344, 6403, 6389, 10563, 11530, 7804, 17110, 23349, 27221, 6398, 24927, 24035, 18226, 20660, 11959, 26542, 13830, 16475, 6406, 12839, 29207, 29624, 12238, 24252, 6409, 27137, 8621, 10193, 6411, 17694, 32330, 6421, 29470, 19023, 30322, 27118, 19289, 6911, 15430, 17515, 9842, 32287, 32144, 6453, 7734, 6459, 6461, 6764, 8198, 32424, 21756, 22569, 24678, 23194, 24488, 12310, 6465, 6470, 10357, 15519, 25703, 6477, 26710, 22632, 19590, 28700, 29327, 6487, 9429, 7000, 9610, 29026, 23791, 23911, 26051, 21537, 6496, 15133, 14281, 6509, 17371, 19187, 13564, 18795, 13739, 8245, 19094, 15075, 6524, 6530, 6534, 27897, 30299, 6547, 10440, 6552, 25144, 6554, 26018, 12795, 6565, 31598, 6569, 27015, 7273, 31923, 6584, 15531, 6586, 20636, 18711, 7205, 21850, 8420, 31737, 15686, 6603, 21775, 28733, 29767, 15811, 25676, 6613, 6614, 13143, 20385, 17757, 6615, 6618, 20860, 6619, 23011, 6621, 15086, 21595, 22973, 8488, 29644, 10552, 6651, 18828, 6653, 27952, 6656, 32243, 11792, 6665, 28206, 21581, 30509, 6668, 11585, 27729, 14832, 6670, 12835, 13585, 12053, 19673, 10273, 20890, 6685, 7474, 28575, 11942, 6696, 6698, 25898, 6699, 20678, 6700, 14571, 32400, 6706, 7330, 11586, 6712, 12011, 6717, 8897, 9597, 6718, 21650, 20417, 27398, 21401, 31965, 30619, 6730, 15402, 6731, 7411, 20215, 6813, 15827, 7284, 28143, 6736, 30847, 6737, 10760, 14983, 13911, 24098, 23454, 29008, 9954, 6743, 31951, 32019, 12159, 23208, 26866, 29886, 7915, 10116, 6753, 15972, 26811, 27575, 6760, 30843, 32337, 6763, 27900, 6765, 6781, 26916, 6790, 29909, 6793, 6797, 15436, 10784, 6799, 31699, 8578, 6806, 9890, 26642, 12362, 23009, 32050, 13356, 11224, 6828, 19884, 14139, 26314, 9360, 6833, 31877, 6836, 17062, 15630, 15193, 24891, 31288, 31860, 32045, 32431, 6856, 6861, 22296, 6865, 10119, 21569, 24192, 6874, 23923, 6876, 28702, 6882, 15688, 28049, 20507, 24491, 6885, 6889, 31345, 28552, 20780, 21057, 28370, 24593, 6896, 8862, 15925, 19740, 6902, 14726, 6903, 16881, 12712, 16040, 23171, 8355, 6915, 22571, 14437, 17639, 27482, 16814, 6933, 11769, 6934, 9010, 28803, 25061, 16818, 21671, 6938, 18773, 31591, 11317, 9953, 31595, 13576, 32216, 7699, 18455, 20184, 6955, 25521, 6957, 14816, 6966, 26155, 26576, 6974, 23850, 7325, 27541, 6982, 13906, 6983, 6986, 6992, 17054, 24926, 30386, 6993, 31246, 6996, 6999, 17530, 7001, 14839, 9182, 7010, 7013, 10620, 17746, 20819, 7022, 7028, 28130, 7029, 31816, 7035, 16441, 7036, 8866, 14856, 7045, 18585, 32231, 7368, 11351, 7052, 7060, 7061, 10509, 28444, 12660, 7070, 8002, 7090, 16366, 22808, 7092, 24178, 10647, 9043, 7100, 29437, 19431, 22689, 7108, 29175, 8028, 7111, 22322, 29082, 7114, 21475, 26250, 7238, 7119, 12671, 19894, 8310, 23123, 7121, 26998, 25295, 7122, 7135, 16843, 24565, 16023, 24556, 7141, 14946, 7142, 22488, 29169, 7144, 29340, 7147, 23804, 18450, 9013, 14006, 11795, 18241, 7159, 12303, 7163, 7164, 14570, 31135, 31389, 26215, 27927, 7173, 25120, 13606, 30524, 17678, 12506, 7183, 16588, 26134, 9528, 7190, 7195, 32141, 7196, 23641, 20981, 23963, 7200, 21546, 12000, 26277, 27054, 25425, 17863, 11966, 32364, 10501, 28153, 7209, 16711, 24473, 22842, 24657, 20628, 23569, 22367, 30563, 16769, 7229, 7843, 7233, 23703, 12977, 10973, 31626, 18803, 7241, 19267, 25912, 21120, 10492, 29796, 7255, 20809, 30429, 8025, 32358, 15422, 7262, 7264, 27921, 8620, 7266, 26608, 10996, 7267, 12731, 14899, 30665, 17141, 13015, 10024, 21283, 30519, 23538, 8469, 28417, 7272, 7279, 24667, 32044, 13419, 12888, 13630, 26705, 19549, 18996, 26165, 7315, 19091, 20349, 7319, 30985, 21181, 7613, 7326, 13064, 26270, 12413, 7340, 22469, 12501, 7355, 30103, 7359, 7362, 21179, 12817, 7373, 8115, 31054, 7375, 7634, 21935, 7386, 7388, 27264, 12105, 13157, 22565, 7393, 15656, 11559, 8326, 7395, 20690, 17795, 7396, 23283, 14154, 7399, 15019, 31541, 7413, 26000, 16067, 8254, 25650, 20330, 19859, 22233, 16155, 7423, 7425, 18280, 21456, 15843, 24250, 21352, 26520, 11422, 7472, 16954, 12311, 7477, 30366, 28864, 26368, 9731, 11645, 12867, 26438, 7788, 7483, 7487, 18966, 18301, 18160, 10832, 18802, 7503, 10974, 26584, 7517, 21945, 7519, 7522, 22957, 23980, 29057, 7537, 7538, 30244, 20627, 10038, 11542, 7546, 22636, 19130, 7566, 29614, 7569, 24034, 20355, 7587, 18614, 8078, 7588, 18282, 7590, 31861, 25160, 7592, 28458, 13693, 27338, 10094, 7607, 11350, 7611, 19858, 7612, 24402, 30717, 25186, 24957, 20458, 30714, 7620, 7628, 23260, 7638, 12692, 19169, 7646, 17526, 7652, 11188, 7655, 12190, 7656, 7657, 7658, 25504, 7659, 17770, 22974, 7665, 13083, 21492, 7675, 7678, 14049, 7680, 22822, 15647, 13915, 7683, 7684, 31023, 12484, 10694, 27712, 10728, 7698, 16174, 25889, 16091, 12332, 21557, 17478, 7813, 13679, 26375, 7718, 31066, 17258, 26783, 7725, 9106, 19763, 8794, 11078, 7739, 31130, 12973, 17960, 12209, 8599, 7762, 7763, 7768, 13674, 7770, 7771, 7779, 7780, 7800, 23761, 7806, 8483, 7807, 14020, 7810, 17135, 22655, 28893, 27446, 7814, 7815, 30746, 15560, 18186, 16106, 7826, 10565, 19129, 18709, 12767, 8390, 7836, 7884, 7838, 24834, 7842, 13234, 7846, 18518, 29232, 7855, 20257, 28045, 17548, 27503, 15979, 19866, 7865, 20488, 13721, 23836, 29708, 31697, 12582, 7883, 22838, 7886, 9725, 19701, 7901, 32207, 30269, 10805, 32208, 7908, 30186, 7911, 8960, 7925, 15359, 7937, 18436, 21123, 16521, 27662, 17586, 11751, 23970, 18220, 7960, 7970, 7971, 7972, 12645, 22619, 15753, 16395, 14956, 28018, 25558, 20109, 29089, 26267, 9636, 30187, 20676, 7983, 30527, 7986, 10551, 29764, 7989, 15745, 22378, 22832, 28278, 16627, 15832, 11900, 9115, 29848, 7996, 19256, 19400, 8005, 29243, 24706, 8007, 12949, 23334, 30995, 11971, 22789, 29134, 26414, 28572, 8024, 9311, 10336, 27012, 8029, 15278, 8033, 8409, 27582, 12840, 24601, 26258, 25163, 30948, 8034, 27061, 13985, 29905, 8041, 8047, 31564, 18968, 8054, 30507, 23577, 21528, 8059, 8382, 26373, 21872, 29347, 17217, 28759, 26503, 14356, 18989, 24940, 29586, 27074, 22464, 17460, 22732, 10426, 17079, 15704, 24029, 26206, 8082, 22866, 8083, 8087, 8088, 13926, 8098, 25382, 8102, 13782, 14564, 16032, 8104, 8108, 14674, 8118, 23326, 13193, 31947, 18683, 18340, 15711, 14476, 28329, 23537, 21325, 17513, 8141, 28612, 24924, 19257, 31881, 31967, 10152, 21988, 25977, 17688, 12704, 24853, 26168, 8143, 15776, 10383, 27280, 8152, 9364, 16603, 14125, 26845, 30518, 16188, 8159, 8172, 21121, 15787, 14706, 32259, 9551, 14521, 8187, 17251, 8524, 18658, 8192, 19090, 14362, 8224, 20204, 31977, 22541, 8227, 29763, 23824, 30114, 18897, 8237, 11784, 28754, 8249, 10266, 8251, 16991, 31510, 14355, 31300, 26452, 8258, 8264, 19978, 8285, 9717, 25779, 8265, 25610, 8270, 30378, 22602, 8273, 15507, 13541, 22066, 31022, 31090, 8281, 8288, 10824, 8293, 20698, 28044, 12057, 25203, 9267, 8314, 8315, 28216, 26948, 24852, 8324, 31114, 15431, 8333, 13028, 11987, 23420, 8339, 28467, 8341, 14534, 8352, 8426, 27809, 17533, 11576, 26425, 8361, 11523, 23036, 24393, 8371, 8374, 9308, 17083, 8376, 15650, 8379, 23778, 26802, 23932, 10434, 14861, 27308, 15766, 20331, 15619, 25514, 23252, 8391, 9068, 8392, 28020, 9962, 21359, 27849, 8398, 25369, 25738, 32430, 8399, 30033, 32392, 17498, 18920, 21611, 8404, 10218, 8406, 8407, 27573, 8415, 19883, 25156, 20588, 25021, 32236, 23411, 31742, 18259, 8425, 30022, 31081, 8548, 31665, 8449, 11842, 18336, 10134, 8453, 25580, 8458, 20551, 8460, 16960, 21421, 13549, 28224, 20609, 23351, 29485, 27895, 8466, 19125, 31007, 8473, 8474, 19497, 19118, 11619, 26413, 27669, 8478, 19528, 8479, 22008, 11171, 21622, 20276, 22506, 8492, 16034, 8497, 20699, 11633, 9910, 12122, 8502, 24711, 24358, 8505, 29675, 18254, 8514, 20529, 25164, 21264, 8521, 18740, 22980, 18223, 8527, 17143, 8533, 17585, 12351, 8538, 27412, 14363, 8555, 26102, 27377, 8560, 26536, 30581, 17164, 11067, 14597, 15115, 17556, 8579, 8582, 8585, 8586, 11485, 23890, 11978, 8846, 16153, 8603, 25507, 17787, 21022, 9413, 18205, 22903, 8625, 25870, 18093, 21047, 25166, 14665, 8630, 9342, 8642, 8713, 13649, 8655, 17963, 26822, 21875, 13573, 27538, 23366, 8663, 8665, 21562, 25062, 8683, 20079, 8684, 14116, 27719, 23051, 29007, 8689, 14069, 8690, 30599, 26442, 31989, 8702, 21683, 31869, 21176, 23382, 11045, 23709, 26378, 19395, 15534, 29198, 8731, 10012, 27501, 24172, 20252, 8734, 8735, 8740, 15878, 8742, 8758, 8768, 21830, 26937, 31076, 11412, 26888, 32370, 8786, 22166, 8790, 15561, 20052, 9207, 32294, 8795, 29480, 9772, 24103, 10876, 8801, 24450, 15130, 23302, 11054, 8844, 24585, 21592, 8850, 11683, 30631, 26640, 8858, 18224, 15396, 8868, 32428, 8874, 13086, 12301, 20812, 8883, 21897, 8885, 13366, 8892, 20292, 10554, 16287, 9331, 10871, 8905, 10228, 21882, 30891, 8923, 24067, 8924, 21229, 24877, 16280, 8950, 9212, 13860, 9089, 9985, 25801, 20853, 27531, 8956, 8961, 18958, 8963, 10110, 8964, 18581, 21434, 18817, 22377, 18418, 30892, 18187, 28844, 9604, 16770, 19182, 8975, 14535, 14643, 8982, 19103, 31321, 30425, 26953, 10475, 19867, 24536, 22735, 29964, 20668, 24469, 8986, 20880, 23210, 14514, 8990, 8992, 9000, 10663, 31008, 15935, 9006, 32109, 27134, 18685, 9007, 26800, 9019, 15621, 30158, 9022, 20607, 17213, 17547, 9025, 10462, 9026, 16733, 13308, 30432, 15903, 23798, 9030, 12492, 9041, 29371, 9042, 9046, 27672, 9048, 22299, 26919, 14157, 16419, 24090, 22274, 9066, 16317, 9069, 12716, 9070, 26318, 28644, 9072, 10181, 22981, 20795, 30259, 26381, 9083, 14953, 29326, 9086, 12630, 18196, 32181, 9098, 22312, 11222, 31798, 32229, 32193, 9109, 9268, 23026, 9120, 9129, 16090, 27272, 20246, 17745, 27624, 27363, 9149, 24031, 13744, 9151, 17649, 9155, 19895, 26820, 9158, 9161, 9174, 9177, 9181, 11686, 9186, 22614, 30106, 9187, 15902, 9199, 16601, 9215, 10032, 27686, 22352, 22890, 21362, 23668, 31648, 31237, 9238, 31825, 11021, 29788, 13311, 21451, 16376, 9256, 24366, 9930, 31921, 11914, 9262, 30767, 10693, 11721, 31710, 9289, 32004, 27694, 24648, 31955, 9294, 9295, 32433, 11995, 27867, 18048, 26582, 9315, 15307, 22782, 17259, 16726, 9317, 28451, 17254, 18667, 28946, 9328, 27775, 9350, 13825, 9352, 9353, 18542, 28690, 9565, 9363, 24665, 9366, 26049, 29045, 16675, 31854, 16842, 9372, 24690, 29240, 9381, 28812, 13013, 14301, 25851, 30946, 9389, 32228, 9394, 31513, 9400, 14482, 30740, 14763, 26602, 9417, 16904, 32096, 9428, 12874, 15906, 15197, 23391, 27094, 25395, 23402, 29504, 10072, 20447, 32048, 9432, 18847, 19017, 9437, 18997, 12705, 24221, 9441, 12476, 15299, 9455, 27163, 13594, 9465, 25766, 16872, 25721, 9467, 9472, 26007, 19519, 9475, 9479, 29685, 29717, 9482, 27448, 18571, 9488, 22992, 13532, 26947, 15682, 9495, 17451, 16677, 22438, 9510, 25988, 9517, 9519, 17968, 9831, 17302, 18047, 13683, 11383, 9522, 9525, 22279, 13999, 24024, 9529, 9534, 31771, 15882, 9550, 23068, 9552, 11041, 9557, 17807, 21523, 19406, 9562, 9564, 23386, 12041, 20164, 9569, 9574, 31810, 15495, 22638, 9584, 9586, 25917, 32232, 28763, 31953, 20074, 32035, 22098, 18809, 9602, 17190, 26433, 9611, 23731, 9616, 14061, 31821, 32316, 15872, 26225, 10229, 14809, 9626, 9628, 25876, 24051, 9633, 20118, 20440, 27097, 9635, 13813, 21648, 29808, 23743, 9651, 14739, 9657, 29918, 9658, 9662, 9675, 28298, 15211, 28729, 17911, 23457, 9688, 9689, 9693, 9695, 14936, 15751, 29023, 9701, 25138, 29131, 20735, 12100, 9707, 9713, 24240, 16671, 22364, 9726, 23148, 9728, 9741, 12481, 29843, 25600, 25963, 17778, 17889, 9771, 25111, 27768, 13197, 17111, 11755, 9777, 9784, 28999, 9792, 22376, 30439, 9805, 25702, 20216, 9808, 13421, 9809, 16710, 25980, 30785, 15927, 9818, 31489, 26238, 13082, 9825, 9832, 9852, 21956, 9866, 9877, 9879, 28300, 15364, 9883, 19829, 25403, 9886, 9891, 19935, 9895, 9898, 10712, 11259, 21558, 9899, 9900, 20954, 9907, 9908, 24301, 23582, 16499, 9932, 23435, 22666, 11861, 22828, 10687, 20088, 11415, 20545, 9967, 19304, 30620, 31242, 24267, 19851, 16792, 25262, 9971, 9973, 19100, 9976, 25100, 9979, 17082, 9982, 19217, 21219, 25288, 9998, 10001, 23405, 18313, 24497, 11965, 25678, 23471, 10819, 25638, 22756, 17376, 24579, 28598, 20181, 10066, 18010, 10068, 20828, 15685, 10088, 16116, 10098, 21460, 25896, 10103, 14919, 13089, 10113, 25846, 30179, 10126, 10128, 31552, 14461, 18322, 10135, 31909, 15873, 29501, 29502, 31841, 27794, 24983, 13631, 31383, 10145, 27916, 20782, 10150, 31720, 13850, 12381, 32175, 27310, 30420, 24549, 10158, 24362, 14754, 25949, 21279, 10187, 19098, 10191, 22726, 30095, 19338, 10196, 15169, 14293, 25790, 11937, 10205, 23693, 20687, 14171, 10214, 17657, 14213, 12470, 27907, 32210, 27045, 31079, 19547, 31074, 16254, 14487, 10250, 31336, 25761, 10254, 24661, 16664, 32272, 10261, 32297, 10263, 27562, 23156, 26377, 10269, 10520, 10271, 18916, 17232, 18272, 17637, 10276, 14238, 10287, 10290, 30876, 21427, 23374, 15298, 10297, 22534, 32115, 10302, 10314, 31220, 10323, 10326, 28343, 13287, 28024, 16561, 10338, 18286, 13570, 10348, 20900, 26045, 16742, 27665, 10350, 19106, 24995, 28797, 10664, 23448, 25916, 10353, 19751, 10359, 19804, 15883, 16660, 20481, 28920, 21828, 25324, 10369, 14291, 10373, 10387, 10391, 19985, 10425, 10428, 28435, 10432, 16410, 26100, 31979, 29884, 12824, 31451, 25573, 23212, 26482, 24310, 31024, 10470, 10473, 11738, 10980, 27158, 29341, 10480, 20104, 27648, 16109, 10493, 28350, 10497, 10503, 26406, 23715, 21422, 20807, 10515, 29889, 14199, 12164, 22647, 11022, 10526, 25993, 26029, 31464, 31148, 16973, 10596, 25608, 25696, 10529, 10530, 10531, 26971, 15124, 17244, 27606, 10534, 22930, 10535, 27311, 32070, 25782, 32357, 16509, 31493, 18940, 10555, 28869, 28648, 22527, 22901, 10566, 10573, 10577, 28123, 10582, 12434, 28082, 13041, 31164, 25132, 20115, 20309, 10605, 16659, 11854, 19552, 27803, 10618, 23989, 10621, 10629, 12494, 10633, 24451, 23514, 31328, 10640, 19277, 24282, 12123, 10659, 10686, 15604, 10696, 10697, 10699, 17753, 30122, 10701, 10707, 10717, 20472, 18246, 28138, 19902, 10727, 23667, 29389, 16305, 10732, 21295, 22116, 14223, 10740, 22917, 11511, 13018, 32299, 10761, 10773, 10774, 12391, 10778, 30557, 10792, 19732, 30164, 27830, 10802, 10810, 22633, 11127, 10822, 13998, 24676, 29672, 10833, 16265, 10834, 18478, 10839, 24028, 10840, 20503, 10843, 20498, 14958, 19988, 24459, 10852, 10857, 16869, 22205, 27017, 23312, 28150, 22167, 10869, 10872, 17768, 10874, 25391, 10875, 10884, 16577, 10886, 25527, 25711, 17347, 16336, 28669, 15010, 10902, 31799, 10937, 25668, 10917, 10919, 13612, 11537, 29230, 10931, 23125, 28473, 10940, 23844, 25038, 27262, 29543, 10948, 24247, 10950, 31400, 10960, 29627, 10961, 16043, 22529, 15727, 30193, 10971, 10972, 11248, 10977, 10979, 24947, 10997, 23090, 29436, 16774, 10999, 21308, 32139, 21102, 11011, 11016, 19274, 11029, 30206, 11030, 13321, 11036, 20147, 30151, 24151, 11042, 24920, 11053, 25434, 31815, 24435, 11056, 23712, 18823, 11065, 13200, 11079, 11874, 21106, 11090, 11106, 16980, 16953, 20014, 11111, 30372, 22768, 29947, 11128, 11130, 27901, 11133, 32095, 11144, 30793, 11146, 15057, 24979, 28959, 12799, 23867, 31337, 11179, 20067, 31415, 11189, 11260, 31094, 11196, 30000, 24229, 19539, 11200, 20457, 28319, 17452, 22621, 11212, 17437, 11214, 27289, 11218, 25762, 24640, 17261, 29392, 15770, 11231, 15162, 21946, 11236, 28389, 11238, 11239, 22277, 15728, 11257, 31866, 18217, 21029, 11269, 20748, 29065, 11273, 21521, 11290, 11295, 12741, 11299, 16218, 15220, 28880, 29842, 11314, 23916, 13362, 14161, 11334, 11345, 16403, 11349, 26268, 18755, 11358, 23820, 30015, 31174, 21125, 12089, 11371, 20753, 13542, 20908, 21534, 11375, 11384, 27717, 13960, 14957, 11395, 19487, 32408, 20238, 13314, 11414, 17840, 11420, 21831, 28583, 14058, 14996, 11463, 13654, 11471, 28372, 20336, 11480, 13075, 11488, 11494, 13123, 11509, 21586, 11510, 11514, 23521, 11517, 23004, 23243, 11526, 12426, 11534, 28499, 27437, 11539, 13613, 11549, 11554, 16925, 22037, 11667, 11566, 28883, 12463, 25260, 11573, 15200, 20911, 11583, 16341, 11589, 27379, 17492, 26796, 11592, 11593, 25929, 11606, 30757, 26867, 20547, 11608, 17020, 22304, 28232, 11956, 21410, 16547, 16055, 32285, 22627, 26991, 11641, 18394, 13873, 29165, 11651, 11659, 23730, 20939, 22293, 11673, 28275, 13798, 11691, 11692, 11694, 13124, 30092, 25112, 11705, 30862, 11720, 11730, 11733, 30129, 24669, 17026, 11741, 11745, 11754, 11756, 11759, 16131, 26833, 29559, 23510, 17446, 11778, 23534, 11779, 22815, 18433, 22549, 18890, 18326, 11790, 22690, 11808, 18529, 23479, 11831, 25381, 11832, 15671, 25543, 17425, 22077, 31901, 12395, 11858, 18967, 30198, 11883, 26566, 15183, 11891, 11894, 17731, 28614, 20648, 11908, 11909, 13401, 11915, 32226, 11920, 18005, 11921, 24220, 24784, 22983, 11950, 28029, 19873, 11962, 11972, 23611, 11973, 17617, 24915, 23766, 29441, 11988, 23696, 21634, 12009, 12016, 12212, 32056, 12034, 12036, 22182, 12043, 14704, 12051, 12063, 27251, 30170, 12064, 19442, 12065, 28766, 12066, 29548, 21606, 17578, 22337, 12384, 12096, 15791, 15977, 12103, 12104, 12118, 29676, 19965, 32325, 12119, 29202, 12125, 12128, 28643, 12144, 30504, 15280, 12152, 30047, 12160, 20388, 12387, 30030, 23937, 20764, 19452, 22227, 14664, 12181, 29242, 16277, 12183, 32312, 15920, 12829, 30213, 12236, 12803, 12240, 13820, 24261, 12246, 28457, 24993, 12260, 12290, 15418, 20998, 15879, 25152, 21197, 12316, 12319, 22995, 12330, 31753, 23428, 13862, 14003, 12343, 24258, 12357, 25119, 12364, 13581, 20684, 25098, 16717, 12689, 22562, 12383, 12386, 27150, 12402, 23649, 12410, 12414, 12415, 12418, 19113, 12420, 27764, 25109, 18004, 17248, 12458, 12460, 27223, 19964, 12461, 12462, 30667, 14017, 26025, 12489, 12499, 12503, 12514, 23988, 12518, 12521, 31414, 12526, 29684, 12534, 18550, 18519, 18786, 12546, 21796, 12552, 13477, 32146, 17487, 12563, 23330, 12572, 12574, 28740, 13281, 12577, 17658, 17306, 12588, 21416, 24283, 17337, 12609, 30897, 12616, 31667, 12620, 26497, 12629, 22481, 20806, 23610, 12635, 28263, 12663, 15880, 15578, 12670, 31898, 26855, 23378, 25292, 16740, 16847, 27429, 12700, 31850, 12702, 30794, 12708, 12713, 12727, 12739, 16350, 12745, 12919, 17971, 13269, 12762, 27818, 12789, 31982, 25343, 16653, 26023, 28185, 12804, 12820, 32060, 12831, 23130, 30827, 12845, 18520, 21455, 25589, 32189, 20746, 12846, 19815, 14790, 16607, 12869, 15989, 24489, 31991, 24082, 14660, 29268, 27426, 22943, 26813, 26572, 12986, 13543, 25368, 32127, 15788, 16125, 12999, 21799, 13091, 22020, 13001, 13005, 13006, 16124, 18161, 25730, 13444, 18405, 22473, 31796, 29147, 13049, 29038, 24154, 13073, 14622, 16339, 13087, 13447, 29633, 28958, 13115, 24260, 32083, 21925, 30851, 22189, 30587, 21607, 15421, 13147, 16753, 13166, 27934, 13170, 18991, 23947, 13198, 25537, 16763, 23099, 28878, 13213, 27868, 13221, 15629, 26065, 13254, 20053, 13258, 26021, 13731, 13900, 15567, 23254, 13753, 17655, 31707, 32054, 30370, 17058, 31677, 13301, 14370, 13306, 21221, 25649, 13322, 29641, 18760, 13334, 28186, 23768, 13909, 17134, 13360, 13363, 23037, 25836, 15668, 20867, 13394, 13407, 15536, 13416, 27153, 25716, 13567, 28491, 29735, 13451, 21246, 30135, 13454, 27125, 21439, 13460, 21697, 13461, 13494, 16876, 13467, 31124, 14037, 22582, 19839, 13478, 21858, 17041, 13496, 13498, 24274, 30656, 29867, 20016, 14850, 31606, 13768, 13528, 27675, 24587, 13554, 17576, 13555, 13569, 27337, 13572, 26038, 13591, 29817, 13596, 21107, 16046, 13629, 13641, 24253, 13648, 13650, 13664, 14884, 13666, 20209, 18976, 21278, 18059, 13690, 13691, 13695, 30809, 26105, 13705, 17432, 13740, 13741, 29236, 22519, 17743, 30623, 13773, 28368, 23710, 18862, 15632, 13793, 30228, 13794, 13796, 24506, 21234, 13800, 13804, 21006, 13805, 19511, 29530, 13809, 27237, 32398, 19521, 19328, 13832, 24818, 22897, 27548, 27870, 13857, 30820, 29078, 18732, 31883, 31075, 30550, 32194, 22967, 31293, 31140, 13916, 30744, 29517, 24470, 13927, 13928, 29895, 30525, 13939, 13940, 30992, 19714, 21431, 13945, 31568, 20768, 32436, 13963, 18234, 20180, 16027, 13974, 20227, 13976, 28145, 22387, 13978, 22276, 21386, 26081, 18346, 25847, 13992, 19398, 13993, 29584, 24774, 17882, 14000, 14004, 23062, 32381, 30274, 24719, 29088, 18835, 14807, 16272, 23412, 21149, 31807, 14092, 28351, 21663, 20925, 27323, 14145, 20728, 14168, 19427, 28949, 29728, 14184, 14186, 30401, 14193, 18400, 26819, 29550, 14202, 14214, 26079, 18843, 14231, 30669, 14235, 14250, 25897, 26930, 14284, 31990, 14290, 28784, 31558, 14302, 14309, 28166, 19996, 30825, 26265, 14312, 14321, 15127, 25919, 14325, 27955, 26688, 14338, 18297, 14348, 14358, 16512, 23015, 15806, 14368, 14399, 26180, 24276, 30277, 15894, 32417, 14410, 28924, 26875, 17128, 14492, 17979, 14453, 22424, 14454, 18299, 14459, 24138, 32212, 24604, 17052, 19802, 14474, 26287, 17168, 24186, 14481, 23928, 32183, 28964, 14519, 14524, 31525, 25129, 14544, 22214, 14553, 14556, 23708, 14563, 22389, 29353, 14580, 25731, 17194, 19788, 16532, 27364, 32235, 14594, 16621, 32075, 21305, 14605, 19184, 14608, 24365, 14617, 19238, 14618, 14646, 28249, 23092, 20943, 22715, 14667, 14670, 17500, 14677, 31234, 32279, 18871, 27032, 18526, 32135, 14712, 14716, 26122, 32107, 27602, 28247, 14732, 30906, 23776, 29499, 14760, 16670, 30747, 17944, 14813, 32217, 32452, 18652, 27981, 14831, 21442, 14835, 19105, 14851, 14869, 28710, 23936, 14886, 17015, 14895, 21243, 27024, 24413, 14928, 29016, 23117, 25798, 14941, 27705, 28410, 18553, 19377, 30836, 21884, 28937, 14972, 18312, 17046, 14997, 15009, 23795, 20315, 15022, 24835, 15031, 15032, 30137, 15042, 15048, 29225, 16903, 15056, 25825, 15060, 15069, 15085, 20935, 25035, 15093, 15099, 21788, 29401, 27455, 15125, 24420, 15148, 23547, 28868, 15149, 15156, 19577, 15161, 17256, 15190, 22681, 15201, 21619, 15212, 18894, 15230, 24152, 17493, 16398, 16482, 15238, 15252, 15261, 27923, 15264, 22326, 15267, 24652, 15290, 26526, 15303, 15306, 28670, 15315, 18395, 15912, 30470, 20519, 15318, 17472, 30660, 15345, 15931, 15352, 15360, 23239, 15362, 19060, 15370, 16377, 31637, 32123, 15387, 32112, 31608, 15398, 15403, 19853, 21474, 15423, 23871, 17113, 27407, 23182, 15455, 32324, 17019, 15479, 28071, 26844, 29787, 15509, 20194, 29360, 15511, 15513, 18213, 15552, 29671, 24574, 20140, 15574, 22765, 15579, 30118, 17264, 16469, 17836, 18084, 31893, 15614, 28649, 31531, 29108, 25121, 15636, 31939, 15641, 28928, 15645, 17718, 15657, 30336, 15662, 29435, 15701, 18826, 15713, 17085, 15716, 23617, 15718, 18721, 15744, 15749, 27726, 15752, 24660, 19344, 24385, 19227, 25417, 15805, 27732, 32333, 26229, 27632, 15829, 21751, 27334, 15834, 16167, 15842, 29106, 25294, 15854, 15867, 19077, 29821, 15869, 15870, 31657, 30866, 20469, 15908, 15913, 25871, 15941, 15957, 28122, 31739, 23237, 15966, 17553, 15969, 21921, 22359, 27442, 29997, 16011, 16012, 16024, 21559, 16036, 32437, 18645, 26591, 16062, 27087, 30835, 30055, 16096, 17875, 22608, 16119, 16828, 30319, 16128, 16886, 26926, 16144, 31695, 18178, 16156, 23343, 16158, 16160, 30502, 16165, 16170, 31483, 16184, 24398, 16186, 20758, 16202, 16203, 16209, 31325, 25709, 25844, 16224, 30834, 16232, 16241, 28587, 28826, 16252, 25505, 27151, 18907, 26230, 26611, 30522, 16282, 16612, 16297, 25922, 20686, 16310, 16348, 29898, 27995, 27406, 26218, 29872, 16370, 16371, 21261, 23489, 25232, 25684, 19026, 22494, 16414, 27782, 16421, 27133, 28607, 25165, 16455, 28302, 27513, 18748, 25193, 32394, 16465, 25409, 16476, 30485, 16481, 27003, 31153, 16492, 32351, 31827, 16510, 20967, 22889, 22169, 16516, 16520, 32184, 16527, 21516, 16528, 16529, 16530, 19351, 16541, 16544, 25198, 16865, 25390, 21618, 17543, 16568, 26805, 26950, 32247, 16584, 18314, 27047, 17145, 30678, 16609, 16610, 29573, 24317, 16616, 28806, 17912, 30171, 25743, 16637, 16647, 27152, 16663, 24663, 16669, 24673, 16682, 32233, 24054, 16691, 24111, 23814, 21629, 16706, 25618, 20176, 31006, 16721, 17715, 28696, 29269, 16735, 17602, 23873, 17616, 30290, 16747, 21175, 16764, 29216, 29664, 16806, 23540, 16841, 28747, 21198, 18273, 16849, 25435, 23876, 22015, 16859, 22283, 16871, 16958, 27330, 29273, 23010, 16887, 24395, 16895, 20727, 31364, 16916, 26028, 30541, 16918, 21151, 16940, 24511, 29894, 26376, 16955, 16978, 16984, 17004, 27854, 31138, 21862, 32438, 17055, 26242, 22634, 25493, 21784, 17088, 17091, 17092, 18548, 19564, 19685, 17174, 32258, 24563, 22265, 17228, 21836, 17235, 17240, 28751, 25615, 25415, 17299, 17303, 17317, 20791, 26512, 24578, 17335, 26678, 19786, 26182, 31889, 23044, 17390, 17423, 17428, 17440, 19708, 17465, 17485, 17491, 23546, 17511, 17524, 26852, 22678, 18101, 19560, 18825, 23357, 17550, 25318, 17552, 29446, 17571, 17573, 31189, 29965, 17596, 18408, 28711, 21582, 21450, 19601, 31820, 17615, 17625, 26846, 17771, 22297, 31925, 17682, 17687, 23881, 26639, 22175, 23142, 17700, 17723, 18404, 17789, 17741, 20177, 31809, 29922, 22134, 22658, 17833, 23833, 17834, 30195, 17861, 17865, 18678, 17873, 32367, 25445, 17893, 24245, 17914, 17952, 22301, 22847, 17992, 25968, 18003, 22006, 18883, 19872, 18072, 29969, 18076, 18080, 24076, 21491, 18095, 18108, 24293, 18118, 18120, 23757, 18125, 18126, 18162, 32179, 22236, 18193, 21989, 18214, 18216, 22818, 18229, 18238, 26791, 20906, 30379, 18285, 27424, 18335, 28075, 19488, 18391, 22863, 21399, 18409, 19556, 18415, 25712, 18428, 19368, 21547, 18635, 18451, 18460, 18471, 18475, 18476, 18486, 18491, 30300, 18493, 22082, 18495, 19778, 18499, 32177, 18537, 30347, 18551, 26952, 29483, 18591, 18604, 18609, 32182, 18620, 18621, 18623, 30989, 28442, 18650, 29028, 21540, 22278, 24524, 32149, 31797, 18715, 18716, 21483, 26209, 23042, 30400, 18728, 21429, 18734, 26968, 18785, 31095, 22833, 18804, 18807, 26674, 26477, 23398, 19636, 29606, 30861, 18841, 26508, 18842, 18851, 29823, 18852, 32439, 18881, 20031, 29785, 19616, 18924, 28265, 18939, 21023, 19246, 30921, 26788, 18972, 29591, 30003, 30109, 18993, 18994, 19010, 28858, 19011, 26159, 19040, 19099, 26458, 19117, 19157, 31055, 19204, 20468, 19218, 32133, 19235, 19283, 23827, 23960, 19297, 19305, 21766, 19311, 19327, 27625, 19343, 31503, 24622, 19353, 19382, 30910, 29600, 19409, 19441, 28196, 30579, 28119, 19481, 19508, 23491, 19522, 28462, 31915, 19533, 22760, 19555, 31474, 19580, 19583, 22151, 30426, 19607, 19614, 30538, 24808, 19626, 30934, 19642, 21933, 22161, 31154, 32300, 19668, 24884, 24724, 19702, 22374, 19718, 26347, 28701, 25433, 19762, 21263, 31782, 27626, 28148, 32105, 19819, 29066, 19856, 29875, 19863, 20738, 19984, 27040, 19943, 25556, 19946, 28821, 19954, 19958, 24376, 21761, 26823, 26067, 27799, 21633, 31892, 20597, 20091, 26928, 20103, 27365, 29409, 28445, 20146, 20155, 24683, 20160, 24554, 22894, 20171, 20230, 20694, 20242, 28831, 29156, 31275, 30956, 24404, 21365, 20905, 20344, 28802, 20347, 25652, 20357, 22526, 29514, 26030, 32296, 20391, 20449, 20455, 24938, 26885, 31072, 20485, 20500, 29084, 20530, 32053, 20533, 20541, 20544, 20554, 30031, 20584, 20589, 20593, 26070, 20657, 20679, 20682, 20696, 22225, 28222, 28659, 20714, 20732, 29695, 27035, 24079, 20792, 20986, 22873, 29461, 31880, 23692, 24166, 20878, 21441, 26093, 27177, 20915, 22982, 27623, 26336, 28170, 22888, 29691, 31403, 31263, 20956, 20968, 25011, 24396, 21033, 21038, 25218, 21042, 21056, 27168, 21072, 27465, 22774, 21088, 22969, 22356, 30306, 31030, 26886, 21200, 29174, 31792, 21217, 21247, 28697, 21300, 21303, 28017, 21336, 27678, 21344, 21354, 31639, 31891, 32021, 31917, 21413, 28694, 27616, 29607, 21457, 21463, 27884, 21790, 21494, 21898, 26568, 21505, 21506, 29667, 21551, 31894, 21609, 21623, 21637, 27138, 21652, 25305, 28301, 21664, 26960, 21724, 21741, 24397, 21750, 22978, 24312, 25769, 32033, 21808, 26167, 21852, 21857, 21861, 30909, 23614, 21880, 21902, 28287, 21922, 30540, 21955, 27829, 21960, 24508, 32264, 21961, 30004, 28590, 30940, 22016, 22039, 22055, 22065, 22067, 29994, 27713, 22099, 22108, 22949, 22396, 27312, 25720, 28358, 22160, 22170, 24804, 22195, 22215, 22217, 22248, 22270, 22275, 29803, 26868, 28773, 30546, 25841, 27067, 22397, 23770, 28791, 22422, 24394, 30414, 22432, 24861, 22478, 23388, 22491, 22512, 22513, 22520, 31936, 27909, 22548, 26713, 31070, 28140, 31394, 26080, 30913, 22716, 27920, 32282, 29536, 30676, 22812, 26716, 26663, 22820, 22836, 30984, 22868, 27963, 31033, 27419, 30766, 26586, 27633, 29144, 28889, 23066, 23105, 26995, 23166, 23180, 23192, 25408, 23206, 30155, 23220, 23780, 28646, 25789, 26653, 23249, 30154, 28945, 23259, 23263, 23314, 27468, 23328, 29757, 30454, 24084, 23384, 23421, 24913, 23403, 23423, 23437, 23460, 23464, 25805, 23485, 23555, 23559, 31287, 27451, 23572, 30850, 24716, 24268, 29824, 25915, 23765, 29593, 25687, 23874, 23875, 29773, 26826, 23895, 32827, 31478, 25987, 24316, 23997, 24004, 31555, 24013, 24022, 29493, 24032, 30567, 24055, 28599, 27621, 24077, 24080, 26360, 24155, 25646, 27355, 24180, 29974, 24205, 24206, 27977, 24246, 24259, 24332, 24338, 25460, 25321, 24399, 28675, 24408, 24418, 28765, 32966, 24495, 24436, 32290, 24504, 24541, 24543, 25278, 29487, 24659, 24671, 24685, 24686, 24703, 30330, 24737, 24753, 24824, 31446, 28506, 25751, 32435, 24892, 30938, 24909, 24912, 26901, 24928, 25375, 26404, 29408, 25017, 26775, 25025, 25027, 27488, 28013, 25066, 25108, 26012, 26632, 28092, 26450, 25194, 28778, 25228, 25279, 25297, 25372, 29122, 25414, 31760, 26974, 25474, 29762, 25519, 27403, 31252, 27954, 31969, 25663, 29814, 31069, 31937, 32422, 25933, 28810, 27327, 25965, 32114, 29399, 26078, 26156, 31410, 26187, 26189, 26224, 30575, 29124, 31997, 31812, 29527, 26391, 30991, 30774, 27283, 26567, 32117, 26793, 32426, 26865, 27176, 26906, 32252, 31036, 27577, 26932, 26979, 27050, 27053, 27913, 29850, 27065, 31462, 28355, 28129, 27149, 27549, 31829, 27173, 31903, 32145, 27213, 27240, 27253, 27258, 30638, 27296, 27318, 32331, 27342, 27368, 29048, 27447, 32108, 27509, 31573, 27636, 31671, 27749, 30349, 28732, 28500, 27883, 27903, 30687, 27928, 28250, 30384, 27964, 28205, 30609, 30833, 28267, 31183, 28375, 28399, 29992, 28438, 28535, 28560, 29416, 31932, 32103, 31298, 32046, 28707, 30067, 30458, 29036, 29589, 29067, 29223, 32006, 31998, 29349, 31367, 29440, 29496, 29595, 29632, 29750, 29765, 29802, 29888, 30172, 31887, 29891, 30764, 32161, 32198, 30273, 30275, 31318, 31360, 31019, 30511, 30572, 30905, 31333, 30598, 31233, 30888, 30826, 31274, 31577, 31471, 31524, 31565, 31732, 31794, 31956, 31868, 32119, 32248, 32176, 32128, 32415, 32800, 32988]\n"
          ]
        }
      ]
    },
    {
      "cell_type": "code",
      "metadata": {
        "id": "DvotBD-9AE8Y"
      },
      "source": [
        "#plot_graph(graph_partners, 15, 8, \"partners.png\")"
      ],
      "execution_count": null,
      "outputs": []
    }
  ]
}